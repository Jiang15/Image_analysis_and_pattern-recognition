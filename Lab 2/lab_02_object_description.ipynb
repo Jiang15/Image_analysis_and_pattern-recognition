{
 "cells": [
  {
   "cell_type": "markdown",
   "metadata": {},
   "source": [
    "# [IAPR 2020:][iapr2020] Lab 2 ‒  Object description\n",
    "\n",
    "**Authors:** first_name_1 last_name_1, first_name_2 last_name_2, first_name_3 last_name_3  \n",
    "**Due date:** 24.04.2020\n",
    "\n",
    "[iapr2020]: https://github.com/LTS5/iapr-2020"
   ]
  },
  {
   "cell_type": "markdown",
   "metadata": {},
   "source": [
    "## Extract relevant data\n",
    "We first need to extract the `lab-02-data.tar.gz` archive.\n",
    "To this end, we use the [tarfile] module from the Python standard library.\n",
    "\n",
    "[tarfile]: https://docs.python.org/3.6/library/tarfile.html"
   ]
  },
  {
   "cell_type": "code",
   "execution_count": 2,
   "metadata": {},
   "outputs": [],
   "source": [
    "import tarfile\n",
    "import os\n",
    "\n",
    "data_base_path = os.path.join(os.pardir, 'data')\n",
    "data_folder = 'lab-02-data'\n",
    "tar_path = os.path.join(data_base_path, data_folder + '.tar.gz')\n",
    "with tarfile.open(tar_path, mode='r:gz') as tar:\n",
    "    tar.extractall(path=data_base_path)"
   ]
  },
  {
   "cell_type": "markdown",
   "metadata": {},
   "source": [
    "## Part 1\n",
    "In the `lab-02-data/part1` folder, you will find 28x28 grey-scale pictures of handwritten \"0\" and \"1\".\n",
    "These digits have been extracted from MNIST dataset (http://yann.lecun.com/exdb/mnist/).\n",
    "\n",
    "Your goal is to extract, from each of those images, a 2-dimensional feature vector (i.e. 2 features) and to plot them all on a 2D graph.\n",
    "If you have chosen good features, the vectors of the \"0\"'s should nicely cluster in one part of the plane and those of the \"1\"'s in another.\n",
    "\n",
    "Please try first the Fourier Descriptors.\n",
    "You can make several attempts: e.g. with and without invariance to rotation, translation, scaling, etc.\n",
    "You can also for instance rotate the images and assess the invariance in rotation.\n",
    "\n",
    "**Note:** for the Fourier descriptors, the u_k signal has to be constructed by following the contour point after point.\n",
    "Some pre-processing (image binarization, possibly some Mathematical Morphology) might be useful.\n",
    "\n",
    "Then feel free to try other features, the more you try, the better it will be (for you)."
   ]
  },
  {
   "cell_type": "markdown",
   "metadata": {},
   "source": [
    "### 1.1 Data visualization"
   ]
  },
  {
   "cell_type": "code",
   "execution_count": 3,
   "metadata": {},
   "outputs": [
    {
     "data": {
      "image/png": "[encoded data removed]",
      "text/plain": [
       "<Figure size 864x216 with 20 Axes>"
      ]
     },
     "metadata": {
      "needs_background": "light"
     },
     "output_type": "display_data"
    }
   ],
   "source": [
    "import skimage.io\n",
    "import matplotlib.pyplot as plt\n",
    "%matplotlib inline\n",
    "\n",
    "# Load images\n",
    "data_base_path = os.path.join(os.pardir, 'data')\n",
    "data_folder = 'lab-02-data'\n",
    "#  Load zeros\n",
    "zeros_path = os.path.join(data_base_path, data_folder, 'part1', '0')\n",
    "zeros_names = [nm for nm in os.listdir(zeros_path) if '.png' in nm]  # make sure to only load .png\n",
    "zeros_names.sort()  # sort file names\n",
    "ic = skimage.io.imread_collection([os.path.join(zeros_path, nm) for nm in zeros_names])\n",
    "zeros_im = skimage.io.concatenate_images(ic)\n",
    "#  Load ones\n",
    "ones_path = os.path.join(data_base_path, data_folder, 'part1', '1')\n",
    "ones_names = [nm for nm in os.listdir(ones_path) if '.png' in nm]  # make sure to only load .png\n",
    "ones_names.sort()  # sort file names\n",
    "ic = skimage.io.imread_collection(([os.path.join(ones_path, nm) for nm in ones_names]))\n",
    "ones_im = skimage.io.concatenate_images(ic)\n",
    "\n",
    "# Plot images\n",
    "fig, axes = plt.subplots(2, len(zeros_im), figsize=(12, 3))\n",
    "for ax, im, nm in zip(axes[0], zeros_im, zeros_names):\n",
    "    ax.imshow(im, cmap='gray')\n",
    "    ax.axis('off')\n",
    "    ax.set_title(nm)\n",
    "for ax, im, nm in zip(axes[1], ones_im, ones_names):\n",
    "    ax.imshow(im, cmap='gray')\n",
    "    ax.axis('off')\n",
    "    ax.set_title(nm)\n"
   ]
  },
  {
   "cell_type": "markdown",
   "metadata": {},
   "source": [
    "### 1.2 Fourier descriptors\n",
    "Add your implementation and discussion\n",
    "\n",
    "### Invariances rotation, translation, scaling -- MS, CV, WJ"
   ]
  },
  {
   "cell_type": "code",
   "execution_count": 4,
   "metadata": {},
   "outputs": [],
   "source": [
    "zeros_im[zeros_im>0] = 255\n",
    "ones_im[ones_im>0] = 255"
   ]
  },
  {
   "cell_type": "code",
   "execution_count": 298,
   "metadata": {},
   "outputs": [],
   "source": [
    "from skimage import feature\n",
    "import matplotlib.pyplot as plt\n",
    "import numpy as np\n",
    "from scipy import ndimage\n",
    "import skimage.measure as measure\n",
    "\n",
    "from skimage.transform import rotate, AffineTransform, warp\n",
    "import random\n",
    "import cv2\n",
    "import math\n",
    "from numpy.linalg import inv\n",
    "\n",
    "from scipy.interpolate import Rbf\n",
    "\n"
   ]
  },
  {
   "cell_type": "code",
   "execution_count": 410,
   "metadata": {},
   "outputs": [],
   "source": [
    "# Helper functions\n",
    "# Convert contour into complex signals\n",
    "def convert_signal(contour):\n",
    "#     contour -= contour.mean() # do we demean the data?\n",
    "    output = np.zeros((np.array(contour).shape[0],1))\n",
    "    output = contour[:,1] + 1j*contour[:,0] \n",
    "    return output\n",
    "\n",
    "# Find outer contour and convert\n",
    "def contour_fourier(images):\n",
    "    contour_out = []\n",
    "    \n",
    "    for im in images:\n",
    "        im = ndimage.binary_fill_holes(im)\n",
    "        im[im>0] =255\n",
    "        contours = measure.find_contours(im, 0)\n",
    "        contour = sorted(contours, key=lambda x: len(x))[-1]\n",
    "        contour_out.append(convert_signal(contour))\n",
    "    return np.array(contour_out)\n",
    "\n",
    "\n",
    "\n",
    "# Helper functions to do transforms\n",
    "\n",
    "# def rotateImage(img):\n",
    "    # Test with different rotations (or we should just keep one? or all of them?)\n",
    "    # I have tried also with numpy e.g. np.rot90(img) but I got almost the same result\n",
    "    # skimage: from skimage import measure, transform\n",
    "    # a = transform.rotate(img, 90, resize=False, preserve_range=True).astype('uint8')\n",
    "    \n",
    "#     r = random.randint(1, 3)\n",
    "#     r = 1 # for testing\n",
    "#     if (r == 1):\n",
    "#         a = cv2.rotate(img, cv2.ROTATE_90_CLOCKWISE)\n",
    "#     elif (r == 2):\n",
    "#         a = cv2.rotate(img, cv2.ROTATE_90_COUNTERCLOCKWISE)\n",
    "#     else:\n",
    "#         a = cv2.rotate(img, cv2.ROTATE_180)\n",
    "#     return a #the invariance seems not working (?)\n",
    "\n",
    "\n",
    "# def translateImage(img):\n",
    "#     x = random.randint(-2, 2)\n",
    "#     y = random.randint(-2, 2)\n",
    "#     shift = AffineTransform(translation=(x, y))\n",
    "#     return warp(img, shift, mode=\"wrap\")\n",
    "    \n",
    "# def scaleImage(img): # TODO: I will check and try to fix it\n",
    "#     scale_img = np.pad(img, ((5,5),(5,5)), mode='constant',constant_values=0)\n",
    "#     resized = cv2.resize(scale_img, (img.shape[0],img.shape[1]))\n",
    "#     return resized\n",
    "\n",
    "# def dataAugmentation(img):\n",
    "#     '''\n",
    "#     Return [original_img, rot_clockwise, rot_anticlockwise, translated, scaled]\n",
    "#     '''\n",
    "#     imgs = [img]\n",
    "#     rot = rotateImage(img)\n",
    "#     imgs.append(rot)\n",
    "#     shifted = translateImage(img)\n",
    "#     imgs.append(shifted)\n",
    "#     scaled = scaleImage(img)\n",
    "#     imgs.append(scaled)\n",
    "#     return imgs\n",
    "\n",
    "# def affineTransform(img, rotation, scaling, translation):\n",
    "#     if rotation:\n",
    "#         img = rotateImage(img)\n",
    "#     if scaling:\n",
    "#         img = scaleImage(img)\n",
    "#     if translation:\n",
    "#         img = translateImage(img)\n",
    "#     return img\n",
    "\n",
    "\n",
    "\n",
    "# Convert image coordinates to matrix\n",
    "def convertImg(img):   \n",
    "    N = img.shape[0]\n",
    "    # zero padding\n",
    "    if N%2 == 0:\n",
    "        img = np.pad(img, ((5,6),(5,6)), mode='constant',constant_values=0)\n",
    "        N+=11\n",
    "    else:\n",
    "        img = np.pad(img, ((5,5),(5,5)), mode='constant',constant_values=0)\n",
    "        N+=10\n",
    "    x = np.arange(-(N//2), N//2+1)\n",
    "    y = np.arange(-(N//2), N//2+1)\n",
    "\n",
    "\n",
    "    xx, yy = np.meshgrid(x, y)\n",
    "    out = []\n",
    "    out.append(xx.reshape([1,-1]))\n",
    "    out.append(yy.reshape([1,-1]))\n",
    "    out.append(np.ones(yy.reshape([1,-1]).shape))\n",
    "    out = np.array(out).squeeze()\n",
    "    return xx,yy,img,out\n",
    "\n",
    "def affineTransform(img, rotation, scaling, translation):\n",
    "    xx,yy,img,imgvec = convertImg(img)\n",
    "\n",
    "    if rotation:\n",
    "        theta =  random.uniform(-np.pi, np.pi)\n",
    "        a0 = 0\n",
    "        a1 = math.cos(theta)\n",
    "        a2 = math.sin(theta)\n",
    "        b0 = 0\n",
    "        b1 = -math.sin(theta)\n",
    "        b2 = math.cos(theta)\n",
    "        operator = np.array([[a1, a2, a0],[b1, b2, b0], [0, 0, 1]])\n",
    "        imgvec = inv(operator) @ imgvec\n",
    "\n",
    "    if scaling:\n",
    "        s =  random.uniform(0.8, 1.2)\n",
    "        a0 = 0\n",
    "        a1 = 1/s\n",
    "        a2 = 0\n",
    "        b0 = 0\n",
    "        b1 = 0\n",
    "        b2 = 1/s \n",
    "        operator = np.array([[a1, a2, a0],[b1, b2, b0], [0, 0, 1]])\n",
    "        imgvec = inv(operator) @ imgvec\n",
    "    if translation:\n",
    "        tx =  random.randint(-2, 2)\n",
    "        ty =  random.randint(-2, 2)\n",
    "        a0 = -tx\n",
    "        a1 = 1\n",
    "        a2 = 0\n",
    "        b0 = -ty\n",
    "        b1 = 0\n",
    "        b2 = 1        \n",
    "        operator = np.array([[a1, a2, a0],[b1, b2, b0], [0, 0, 1]])\n",
    "        imgvec = inv(operator) @ imgvec\n",
    "    xt = imgvec[0,:]\n",
    "    yt = imgvec[1,:]\n",
    "    rbf = Rbf(xx, yy, img, epsilon=2)\n",
    "    imgt = rbf(xt, yt)\n",
    "    # normalize and threshold\n",
    "    imgt = imgt- imgt.min()\n",
    "    imgt = imgt/ (imgt.max()-imgt.min())\n",
    "    t = 0.4\n",
    "    imgt[imgt>= t] = 1\n",
    "    imgt[imgt<t] = 0\n",
    "    imgt = imgt*255\n",
    "    \n",
    "    return imgt.reshape(xx.shape)\n",
    "\n",
    "\n",
    "\n",
    "\n",
    "\n",
    "# Plot images with contours\n",
    "def plotImagContour(axes, contourf_0, contourf_1, zeros_im, ones_im, zeros_names, ones_names):\n",
    "    for ax0, ax1, contour0, contour1,im0, im1, nm0, nm1 in zip(axes[0], axes[1], contourf_0, contourf_1, zeros_im, ones_im, zeros_names, ones_names):\n",
    "        ax0.imshow(im0)\n",
    "        ax0.step(np.real(contour0), np.imag(contour0), linewidth=2, c='r')\n",
    "        ax0.axis('off')\n",
    "        ax0.set_title(nm0)\n",
    "\n",
    "        ax1.imshow(im1)\n",
    "        ax1.step(np.real(contour1), np.imag(contour1), linewidth=2, c='r')\n",
    "        ax1.axis('off')\n",
    "        ax1.set_title(nm1)"
   ]
  },
  {
   "cell_type": "code",
   "execution_count": 432,
   "metadata": {},
   "outputs": [
    {
     "data": {
      "text/plain": [
       "<matplotlib.collections.PathCollection at 0x1ce858f8ac8>"
      ]
     },
     "execution_count": 432,
     "metadata": {},
     "output_type": "execute_result"
    },
    {
     "data": {
      "image/png": "[encoded data removed]",
      "text/plain": [
       "<Figure size 432x288 with 1 Axes>"
      ]
     },
     "metadata": {
      "needs_background": "light"
     },
     "output_type": "display_data"
    }
   ],
   "source": [
    "# original images\n",
    "\n",
    "# Contour detection\n",
    "contourf_0 = contour_fourier(zeros_im)\n",
    "contourf_1 = contour_fourier(ones_im)\n",
    "\n",
    "\n",
    "\n",
    "f1 = 1\n",
    "f2 = 3\n",
    "div = -1 # No division when set to -1\n",
    "# N = 30 # number of pts in fft\n",
    "\n",
    "FD_0_orig = np.zeros((10,2))\n",
    "FD_1_orig = np.zeros((10,2))\n",
    "\n",
    "for i in range(10):\n",
    "    \n",
    "    fft0 = np.fft.fft(contourf_0[i])#,n = N)\n",
    "    fft1 = np.fft.fft(contourf_1[i])#, n = N)\n",
    "    fft0[-1] = 1\n",
    "    fft1[-1] = 1 \n",
    "    \n",
    "    # normalization\n",
    "    FD_0_orig[i,:]  = np.abs([fft0[f1],fft0[f2]])/np.abs(fft0[div])  # Translaton (Exclude f0), scaling (ratio)，and rotation(amplitude) invariances\n",
    "    FD_1_orig[i,:]  = np.abs([fft1[f1],fft1[f2]])/np.abs(fft1[div])\n",
    "        \n",
    "    # print(FD_0)\n",
    "plt.scatter(FD_0_orig[:,0], FD_0_orig[:,1]) \n",
    "plt.scatter(FD_1_orig[:,0], FD_1_orig[:,1])\n"
   ]
  },
  {
   "cell_type": "code",
   "execution_count": 433,
   "metadata": {},
   "outputs": [
    {
     "data": {
      "image/png": "[encoded data removed]",
      "text/plain": [
       "<Figure size 864x216 with 20 Axes>"
      ]
     },
     "metadata": {
      "needs_background": "light"
     },
     "output_type": "display_data"
    }
   ],
   "source": [
    "# Apply affine transformations with boolean flags\n",
    "rotation = True\n",
    "scaling = False\n",
    "\n",
    "translation = False\n",
    "\n",
    "im_af0 = []\n",
    "im_af1 = []\n",
    "\n",
    "for img0, img1, nm0, nm1 in zip(zeros_im, ones_im, zeros_names, ones_names):\n",
    "    img0 = affineTransform (img0, rotation, scaling, translation)\n",
    "    img1 = affineTransform (img1, rotation, scaling, translation)\n",
    "\n",
    "    im_af0.append(img0)\n",
    "    im_af1.append(img1)\n",
    "\n",
    "# Contour detection\n",
    "contourf_af0 = contour_fourier(im_af0)\n",
    "contourf_af1 = contour_fourier(im_af1)\n",
    "\n",
    "# Plots\n",
    "fig, axes = plt.subplots(2, len(zeros_im), figsize=(12, 3))\n",
    "plotImagContour(axes, contourf_af0, contourf_af1, im_af0, im_af1, zeros_names, ones_names)\n"
   ]
  },
  {
   "cell_type": "code",
   "execution_count": 434,
   "metadata": {},
   "outputs": [
    {
     "data": {
      "text/plain": [
       "<matplotlib.collections.PathCollection at 0x1ce944b64a8>"
      ]
     },
     "execution_count": 434,
     "metadata": {},
     "output_type": "execute_result"
    },
    {
     "data": {
      "image/png": "[encoded data removed]",
      "text/plain": [
       "<Figure size 432x288 with 1 Axes>"
      ]
     },
     "metadata": {
      "needs_background": "light"
     },
     "output_type": "display_data"
    }
   ],
   "source": [
    "f1 = 1\n",
    "f2 = 3\n",
    "div = -1 # No division when set to -1\n",
    "# N = 30 # number of pts in fft\n",
    "\n",
    "FD_0 = np.zeros((10,2))\n",
    "FD_1 = np.zeros((10,2))\n",
    "\n",
    "for i in range(10):\n",
    "    fft0 = np.fft.fft(contourf_af0[i])#,n = N)\n",
    "    fft1 = np.fft.fft(contourf_af1[i])#, n = N)\n",
    "    fft0[-1] = 1\n",
    "    fft1[-1] = 1 \n",
    "    \n",
    "    freq0 = np.fft.fftfreq(len(contourf_af0[i]))\n",
    "    freq1 = np.fft.fftfreq(len(contourf_af1[i]))\n",
    "\n",
    "    # normalization\n",
    "    FD_0[i,:]  = np.abs([fft0[f1],fft0[f2]])/np.abs(fft0[div])  # Translaton (Exclude f0), scaling (ratio)，and rotation(amplitude) invariances\n",
    "    FD_1[i,:]  = np.abs([fft1[f1],fft1[f2]])/np.abs(fft1[div])\n",
    "        \n",
    "   # print(FD_0)\n",
    "\n",
    "\n",
    "# Superimposed plot of original and transformed\n",
    "plt.scatter(FD_0_orig[:,0],FD_0_orig[:,1]) \n",
    "plt.scatter(FD_1_orig[:,0],FD_1_orig[:,1])\n",
    "plt.scatter(FD_0[:,0],FD_0[:,1]) \n",
    "plt.scatter(FD_1[:,0],FD_1[:,1])"
   ]
  },
  {
   "cell_type": "code",
   "execution_count": null,
   "metadata": {},
   "outputs": [],
   "source": [
    "# original images\n",
    "f1 = 1\n",
    "f2 = 3\n",
    "div = 5 # No division when set to -1\n",
    "# N = 30 # number of pts in fft\n",
    "\n",
    "FD_0 = np.zeros((10,2))\n",
    "FD_1 = np.zeros((10,2))\n",
    "\n",
    "for i in range(10):\n",
    "    fft0 = np.fft.fft(contourf_0[i])#,n = N)\n",
    "    fft1 = np.fft.fft(contourf_1[i])#, n = N)\n",
    "\n",
    "    fft0[-1] = 1\n",
    "    fft1[-1] = 1 \n",
    "\n",
    "    freq0 = np.fft.fftfreq(len(contourf_0[i]))\n",
    "    freq1 = np.fft.fftfreq(len(contourf_1[i]))\n",
    "\n",
    "    # normalization\n",
    "    FD_0[i,:]  = np.abs([fft0[f1],fft0[f2]])/np.abs(fft0[div])  # Translaton (Exclude f0), scaling (ratio)，and rotation(amplitude) invariances\n",
    "    FD_1[i,:]  = np.abs([fft1[f1],fft1[f2]])/np.abs(fft1[div])\n",
    "        \n",
    "\n",
    "plt.scatter(FD_0[:,0],FD_0[:,1]) \n",
    "plt.scatter(FD_1[:,0],FD_1[:,1])\n"
   ]
  },
  {
   "cell_type": "code",
   "execution_count": null,
   "metadata": {},
   "outputs": [],
   "source": [
    "# Test IFFT it appears we need DC component?? Also not perfect reconstruction even if using all fourier coeffs? \n",
    "# sampling points??\n",
    "i = 9\n",
    "R = np.fft.ifft([fft1[1:]])\n",
    "signal = contourf_1[i]\n",
    "xr = np.real(signal)\n",
    "yr = np.imag(signal)\n",
    "plt.scatter(xr,yr)\n",
    "plt.show()\n",
    "signal = R\n",
    "xr = np.real(signal)\n",
    "yr = np.imag(signal)\n",
    "plt.scatter(xr[xr>5],yr[xr>5])"
   ]
  },
  {
   "cell_type": "markdown",
   "metadata": {},
   "source": [
    "### 1.3 Additional method(s)\n",
    "Add your implementation and discussion\n",
    "\n",
    "### Skeleton\n",
    "\n",
    "### PCA -- MS\n",
    "\n",
    "### Compacity -- CV\n",
    "\n",
    "### Freeman Code\n",
    "\n",
    "\n",
    "### Moments -- WJ\n"
   ]
  },
  {
   "cell_type": "markdown",
   "metadata": {},
   "source": [
    "Freeman"
   ]
  },
  {
   "cell_type": "code",
   "execution_count": null,
   "metadata": {},
   "outputs": [],
   "source": [
    "import cv2"
   ]
  },
  {
   "cell_type": "code",
   "execution_count": null,
   "metadata": {},
   "outputs": [],
   "source": [
    "contours, hierarchy = cv2.findContours(ones_im[0], cv2.RETR_TREE, cv2.CHAIN_CODE )"
   ]
  },
  {
   "cell_type": "code",
   "execution_count": null,
   "metadata": {},
   "outputs": [],
   "source": [
    "(contours)"
   ]
  },
  {
   "cell_type": "markdown",
   "metadata": {},
   "source": [
    "Morphological Skeleton"
   ]
  },
  {
   "cell_type": "code",
   "execution_count": null,
   "metadata": {},
   "outputs": [],
   "source": [
    "from scipy.ndimage import morphology"
   ]
  },
  {
   "cell_type": "code",
   "execution_count": null,
   "metadata": {},
   "outputs": [],
   "source": [
    "N = 6\n",
    "Sr_zeros_im = []\n",
    "Sr_ones_im = []\n",
    "for im in zeros_im:\n",
    "    for r in np.arange(3,6):\n",
    "\n",
    "        se = cv2.getStructuringElement(cv2.MORPH_CROSS,(r,r))\n",
    "\n",
    "        img = morphology.binary_erosion(im,se,iterations=1).astype(np.int)\n",
    "        img2 = morphology.binary_opening(img,se,iterations=1).astype(np.int)\n",
    "\n",
    "        if r==3: \n",
    "            Sr_zeros = img - img2\n",
    "        else:\n",
    "            Sr_zeros += img - img2\n",
    "        Sr_zeros[Sr_zeros>0]=1\n",
    "    Sr_zeros_im.append(Sr_zeros)\n",
    "for im in ones_im:\n",
    "    for r in np.arange(3,6):\n",
    "\n",
    "        se = cv2.getStructuringElement(cv2.MORPH_CROSS,(r,r))\n",
    "\n",
    "        img = morphology.binary_erosion(im,se,iterations=1).astype(np.int)\n",
    "        img2 = morphology.binary_opening(img,se,iterations=1).astype(np.int)\n",
    "\n",
    "        if r==3: \n",
    "            Sr_ones = img - img2\n",
    "        else:\n",
    "            Sr_ones += img - img2\n",
    "        Sr_ones[Sr_ones>0]=1\n",
    "    Sr_ones_im.append(Sr_ones)    \n",
    "        \n",
    "fig, axes = plt.subplots(2, len(zeros_im), figsize=(12, 3))\n",
    "for ax, im, nm in zip(axes[0], Sr_zeros_im, zeros_names):\n",
    "    ax.imshow(im, cmap='gray')\n",
    "    ax.axis('off')\n",
    "    ax.set_title(nm)\n",
    "for ax, im, nm in zip(axes[1], Sr_ones_im, ones_names):\n",
    "    ax.imshow(im, cmap='gray')\n",
    "    ax.axis('off')\n",
    "    ax.set_title(nm)"
   ]
  },
  {
   "cell_type": "code",
   "execution_count": null,
   "metadata": {
    "scrolled": true
   },
   "outputs": [],
   "source": [
    "distance_map_0 = morphology.distance_transform_edt(1-Sr_zeros_im[6])\n",
    "plt.imshow(distance_map_0, cmap ='gray')"
   ]
  },
  {
   "cell_type": "code",
   "execution_count": null,
   "metadata": {},
   "outputs": [],
   "source": [
    "distance_map_1 = morphology.distance_transform_edt(1-Sr_ones_im[6])\n",
    "plt.imshow(distance_map_1, cmap ='gray')"
   ]
  },
  {
   "cell_type": "code",
   "execution_count": null,
   "metadata": {},
   "outputs": [],
   "source": [
    "distance_zeros=[]\n",
    "for im in Sr_zeros_im:\n",
    "    distance_0 = np.sum(np.multiply(distance_map_0, im))/np.sum(im)\n",
    "    distance_1 = np.sum(np.multiply(distance_map_1, im))/np.sum(im)\n",
    "    distance_zeros.append([distance_0,distance_1])\n",
    "distance_zeros = np.array(distance_zeros)\n",
    "print(distance_zeros)"
   ]
  },
  {
   "cell_type": "code",
   "execution_count": null,
   "metadata": {},
   "outputs": [],
   "source": [
    "distance_ones=[]\n",
    "for im in Sr_ones_im:\n",
    "    distance_0 = np.sum(np.multiply(distance_map_0, im))/np.sum(im)\n",
    "    distance_1 = np.sum(np.multiply(distance_map_1, im))/np.sum(im)\n",
    "    distance_ones.append([distance_0,distance_1])\n",
    "distance_ones = np.array(distance_ones)\n",
    "print(distance_ones)"
   ]
  },
  {
   "cell_type": "code",
   "execution_count": null,
   "metadata": {},
   "outputs": [],
   "source": [
    "plt.scatter(distance_zeros[:,0],distance_zeros[:,1])\n",
    "plt.scatter(distance_ones[:,0],distance_ones[:,1])\n",
    "plt.show()"
   ]
  },
  {
   "cell_type": "markdown",
   "metadata": {},
   "source": [
    "#### Distance Map method + Contours"
   ]
  },
  {
   "cell_type": "code",
   "execution_count": null,
   "metadata": {},
   "outputs": [],
   "source": [
    "contours = np.array(measure.find_contours(ones_im[6], 0))[0]\n",
    "cont_1 = np.zeros_like(ones_im[0])\n",
    "cont_1[contours[:,0].astype(int),contours[:,1].astype(int)]=1\n",
    "plt.imshow(cont_1)"
   ]
  },
  {
   "cell_type": "code",
   "execution_count": null,
   "metadata": {},
   "outputs": [],
   "source": [
    "contours = np.array(measure.find_contours(zeros_im[7], 0))[0]\n",
    "cont_0 = np.zeros_like(zeros_im[0])\n",
    "cont_0[contours[:,0].astype(int),contours[:,1].astype(int)]=1\n",
    "plt.imshow(cont_0)"
   ]
  },
  {
   "cell_type": "code",
   "execution_count": null,
   "metadata": {},
   "outputs": [],
   "source": [
    "distance_map_0 = morphology.distance_transform_edt(1-cont_0)\n",
    "plt.imshow(distance_map_0, cmap ='gray')"
   ]
  },
  {
   "cell_type": "code",
   "execution_count": null,
   "metadata": {},
   "outputs": [],
   "source": [
    "distance_map_1 = morphology.distance_transform_edt(1-cont_1)\n",
    "plt.imshow(distance_map_1, cmap ='gray')"
   ]
  },
  {
   "cell_type": "code",
   "execution_count": null,
   "metadata": {},
   "outputs": [],
   "source": [
    "distance_zeros=[]\n",
    "for im in zeros_im:\n",
    "    contours = np.array(measure.find_contours(im, 0))[0]\n",
    "    cont_0 = np.zeros_like(zeros_im[0])\n",
    "    cont_0[contours[:,0].astype(int),contours[:,1].astype(int)]=1\n",
    "    distance_0 = np.sum(np.multiply(distance_map_0, cont_0))\n",
    "    distance_1 = np.sum(np.multiply(distance_map_1, cont_0))\n",
    "    distance_zeros.append([distance_0,distance_1])\n",
    "distance_zeros = np.array(distance_zeros)\n",
    "print(distance_zeros)"
   ]
  },
  {
   "cell_type": "code",
   "execution_count": null,
   "metadata": {},
   "outputs": [],
   "source": [
    "distance_ones=[]\n",
    "for im in ones_im:\n",
    "    contours = np.array(measure.find_contours(im, 0))[0]\n",
    "    cont_1 = np.zeros_like(ones_im[0])\n",
    "    cont_1[contours[:,0].astype(int),contours[:,1].astype(int)]=1\n",
    "    distance_0 = np.sum(np.multiply(distance_map_0, cont_1))\n",
    "    distance_1 = np.sum(np.multiply(distance_map_1, cont_1))\n",
    "    distance_ones.append([distance_0,distance_1])\n",
    "distance_ones = np.array(distance_ones)\n",
    "print(distance_ones)"
   ]
  },
  {
   "cell_type": "code",
   "execution_count": null,
   "metadata": {},
   "outputs": [],
   "source": [
    "plt.scatter(distance_zeros[:,0],distance_zeros[:,1])\n",
    "plt.scatter(distance_ones[:,0],distance_ones[:,1])\n",
    "plt.show()"
   ]
  },
  {
   "cell_type": "code",
   "execution_count": null,
   "metadata": {},
   "outputs": [],
   "source": [
    "from skimage.morphology import skeletonize\n",
    "from skimage.morphology import medial_axis\n",
    "skeleton = skeletonize(ones_im[4])\n",
    "skel, distance = medial_axis(zeros_im[5], return_distance=True)\n",
    "distance[distance<2]=0\n",
    "dist_on_skel = distance * skel"
   ]
  },
  {
   "cell_type": "code",
   "execution_count": null,
   "metadata": {},
   "outputs": [],
   "source": [
    "plt.imshow(dist_on_skel, cmap=plt.cm.Spectral, interpolation='nearest')"
   ]
  },
  {
   "cell_type": "code",
   "execution_count": null,
   "metadata": {},
   "outputs": [],
   "source": []
  },
  {
   "cell_type": "markdown",
   "metadata": {},
   "source": [
    "## Part 2\n",
    "The `lab-02-data/part2` folder contains grey-scale pictures of handwritten \"2\" and \"3\".\n",
    "Extract the same feature (typically 2 Fourier descriptors) as in part 1 also on these images and plot them on the same graph as the features of the \"0\" and \"1\".\n",
    "Is it possible to discriminate all these 4 digits with a 2-dimensional feature vector?"
   ]
  },
  {
   "cell_type": "markdown",
   "metadata": {},
   "source": [
    "### 2.1 Data visualization"
   ]
  },
  {
   "cell_type": "code",
   "execution_count": null,
   "metadata": {},
   "outputs": [],
   "source": [
    "#  Load zeros\n",
    "twos_path = os.path.join(data_base_path, data_folder, 'part2', '2')\n",
    "twos_names = [nm for nm in os.listdir(twos_path) if '.png' in nm]  # make sure to only load .png\n",
    "twos_names.sort()  # sort file names\n",
    "ic = skimage.io.imread_collection([os.path.join(twos_path, nm) for nm in twos_names])\n",
    "twos_im = skimage.io.concatenate_images(ic)\n",
    "#  Load ones\n",
    "threes_path = os.path.join(data_base_path, data_folder, 'part2', '3')\n",
    "threes_names = [nm for nm in os.listdir(threes_path) if '.png' in nm]  # make sure to only load .png\n",
    "threes_names.sort()  # sort file names\n",
    "ic = skimage.io.imread_collection(([os.path.join(threes_path, nm) for nm in threes_names]))\n",
    "threes_im = skimage.io.concatenate_images(ic)\n",
    "\n",
    "# Plot images\n",
    "fig, axes = plt.subplots(2, len(twos_im), figsize=(12, 3))\n",
    "for ax, im, nm in zip(axes[0], twos_im, twos_names):\n",
    "    ax.imshow(im, cmap='gray')\n",
    "    ax.axis('off')\n",
    "    ax.set_title(nm)\n",
    "for ax, im, nm in zip(axes[1], threes_im, threes_names):\n",
    "    ax.imshow(im, cmap='gray')\n",
    "    ax.axis('off')\n",
    "    ax.set_title(nm)"
   ]
  },
  {
   "cell_type": "markdown",
   "metadata": {},
   "source": [
    "### 2.2 Additional method(s) and conclusion\n",
    "Add your implementations and discussions here"
   ]
  },
  {
   "cell_type": "code",
   "execution_count": null,
   "metadata": {},
   "outputs": [],
   "source": [
    "# Next meeting tentative April 7th!"
   ]
  },
  {
   "cell_type": "code",
   "execution_count": null,
   "metadata": {},
   "outputs": [],
   "source": []
  }
 ],
 "metadata": {
  "kernelspec": {
   "display_name": "Python 3",
   "language": "python",
   "name": "python3"
  }
 },
 "nbformat": 4,
 "nbformat_minor": 4
}
