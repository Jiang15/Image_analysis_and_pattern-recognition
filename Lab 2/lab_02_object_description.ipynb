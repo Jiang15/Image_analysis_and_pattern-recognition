{
 "cells": [
  {
   "cell_type": "markdown",
   "metadata": {},
   "source": [
    "# [IAPR 2020:][iapr2020] Lab 2 ‒  Object description\n",
    "\n",
    "**Authors:** first_name_1 last_name_1, first_name_2 last_name_2, first_name_3 last_name_3  \n",
    "**Due date:** 24.04.2020\n",
    "\n",
    "[iapr2020]: https://github.com/LTS5/iapr-2020"
   ]
  },
  {
   "cell_type": "markdown",
   "metadata": {},
   "source": [
    "## Extract relevant data\n",
    "We first need to extract the `lab-02-data.tar.gz` archive.\n",
    "To this end, we use the [tarfile] module from the Python standard library.\n",
    "\n",
    "[tarfile]: https://docs.python.org/3.6/library/tarfile.html"
   ]
  },
  {
   "cell_type": "code",
   "execution_count": 1,
   "metadata": {},
   "outputs": [],
   "source": [
    "import tarfile\n",
    "import os\n",
    "\n",
    "data_base_path = os.path.join(os.pardir, 'data')\n",
    "data_folder = 'lab-02-data'\n",
    "tar_path = os.path.join(data_base_path, data_folder + '.tar.gz')\n",
    "with tarfile.open(tar_path, mode='r:gz') as tar:\n",
    "    tar.extractall(path=data_base_path)"
   ]
  },
  {
   "cell_type": "markdown",
   "metadata": {},
   "source": [
    "## Part 1\n",
    "In the `lab-02-data/part1` folder, you will find 28x28 grey-scale pictures of handwritten \"0\" and \"1\".\n",
    "These digits have been extracted from MNIST dataset (http://yann.lecun.com/exdb/mnist/).\n",
    "\n",
    "Your goal is to extract, from each of those images, a 2-dimensional feature vector (i.e. 2 features) and to plot them all on a 2D graph.\n",
    "If you have chosen good features, the vectors of the \"0\"'s should nicely cluster in one part of the plane and those of the \"1\"'s in another.\n",
    "\n",
    "Please try first the Fourier Descriptors.\n",
    "You can make several attempts: e.g. with and without invariance to rotation, translation, scaling, etc.\n",
    "You can also for instance rotate the images and assess the invariance in rotation.\n",
    "\n",
    "**Note:** for the Fourier descriptors, the u_k signal has to be constructed by following the contour point after point.\n",
    "Some pre-processing (image binarization, possibly some Mathematical Morphology) might be useful.\n",
    "\n",
    "Then feel free to try other features, the more you try, the better it will be (for you)."
   ]
  },
  {
   "cell_type": "markdown",
   "metadata": {},
   "source": [
    "### 1.1 Data visualization"
   ]
  },
  {
   "cell_type": "code",
   "execution_count": 2,
   "metadata": {},
   "outputs": [
    {
     "data": {
      "image/png": "[encoded data removed]",
      "text/plain": [
       "<Figure size 864x216 with 20 Axes>"
      ]
     },
     "metadata": {
      "needs_background": "light"
     },
     "output_type": "display_data"
    }
   ],
   "source": [
    "import skimage.io\n",
    "import matplotlib.pyplot as plt\n",
    "%matplotlib inline\n",
    "\n",
    "# Load images\n",
    "data_base_path = os.path.join(os.pardir, 'data')\n",
    "data_folder = 'lab-02-data'\n",
    "#  Load zeros\n",
    "zeros_path = os.path.join(data_base_path, data_folder, 'part1', '0')\n",
    "zeros_names = [nm for nm in os.listdir(zeros_path) if '.png' in nm]  # make sure to only load .png\n",
    "zeros_names.sort()  # sort file names\n",
    "ic = skimage.io.imread_collection([os.path.join(zeros_path, nm) for nm in zeros_names])\n",
    "zeros_im = skimage.io.concatenate_images(ic)\n",
    "#  Load ones\n",
    "ones_path = os.path.join(data_base_path, data_folder, 'part1', '1')\n",
    "ones_names = [nm for nm in os.listdir(ones_path) if '.png' in nm]  # make sure to only load .png\n",
    "ones_names.sort()  # sort file names\n",
    "ic = skimage.io.imread_collection(([os.path.join(ones_path, nm) for nm in ones_names]))\n",
    "ones_im = skimage.io.concatenate_images(ic)\n",
    "\n",
    "# Plot images\n",
    "fig, axes = plt.subplots(2, len(zeros_im), figsize=(12, 3))\n",
    "for ax, im, nm in zip(axes[0], zeros_im, zeros_names):\n",
    "    ax.imshow(im, cmap='gray')\n",
    "    ax.axis('off')\n",
    "    ax.set_title(nm)\n",
    "for ax, im, nm in zip(axes[1], ones_im, ones_names):\n",
    "    ax.imshow(im, cmap='gray')\n",
    "    ax.axis('off')\n",
    "    ax.set_title(nm)\n"
   ]
  },
  {
   "cell_type": "markdown",
   "metadata": {},
   "source": [
    "### 1.2 Fourier descriptors\n",
    "Add your implementation and discussion\n",
    "\n",
    "### Invariances rotation, translation, scaling -- MS, CV, WJ"
   ]
  },
  {
   "cell_type": "code",
   "execution_count": 3,
   "metadata": {},
   "outputs": [],
   "source": [
    "zeros_im[zeros_im>0] = 255\n",
    "ones_im[ones_im>0] = 255"
   ]
  },
  {
   "cell_type": "code",
   "execution_count": 46,
   "metadata": {},
   "outputs": [],
   "source": [
    "from skimage import feature\n",
    "import matplotlib.pyplot as plt\n",
    "import numpy as np\n",
    "from scipy import ndimage\n",
    "import skimage.measure as measure\n",
    "\n",
    "from skimage.transform import rotate, AffineTransform, warp\n",
    "import random\n",
    "import cv2\n",
    "import math\n",
    "from numpy.linalg import inv\n",
    "\n",
    "from scipy.interpolate import Rbf\n",
    "from scipy.ndimage import morphology\n"
   ]
  },
  {
   "cell_type": "code",
   "execution_count": 175,
   "metadata": {},
   "outputs": [],
   "source": [
    "# Helper functions\n",
    "# Convert contour into complex signals\n",
    "def convert_signal(contour):\n",
    "#     contour -= contour.mean() # do we demean the data?\n",
    "    output = np.zeros((np.array(contour).shape[0],1))\n",
    "    output = contour[:,1] + 1j*contour[:,0] \n",
    "    return output\n",
    "\n",
    "# Find outer contour and convert\n",
    "def contour_fourier(images):\n",
    "    contour_out = []\n",
    "    \n",
    "    for im in images:\n",
    "        im = ndimage.binary_fill_holes(im)\n",
    "        im[im>0] =255\n",
    "        contours = measure.find_contours(im, 0)\n",
    "        contour = sorted(contours, key=lambda x: len(x))[-1]\n",
    "        contour_out.append(convert_signal(contour))\n",
    "    return np.array(contour_out)\n",
    "\n",
    "\n",
    "\n",
    "# Helper functions to do transforms\n",
    "\n",
    "# def rotateImage(img):\n",
    "    # Test with different rotations (or we should just keep one? or all of them?)\n",
    "    # I have tried also with numpy e.g. np.rot90(img) but I got almost the same result\n",
    "    # skimage: from skimage import measure, transform\n",
    "    # a = transform.rotate(img, 90, resize=False, preserve_range=True).astype('uint8')\n",
    "    \n",
    "#     r = random.randint(1, 3)\n",
    "#     r = 1 # for testing\n",
    "#     if (r == 1):\n",
    "#         a = cv2.rotate(img, cv2.ROTATE_90_CLOCKWISE)\n",
    "#     elif (r == 2):\n",
    "#         a = cv2.rotate(img, cv2.ROTATE_90_COUNTERCLOCKWISE)\n",
    "#     else:\n",
    "#         a = cv2.rotate(img, cv2.ROTATE_180)\n",
    "#     return a #the invariance seems not working (?)\n",
    "\n",
    "\n",
    "# def translateImage(img):\n",
    "#     x = random.randint(-2, 2)\n",
    "#     y = random.randint(-2, 2)\n",
    "#     shift = AffineTransform(translation=(x, y))\n",
    "#     return warp(img, shift, mode=\"wrap\")\n",
    "    \n",
    "# def scaleImage(img): # TODO: I will check and try to fix it\n",
    "#     scale_img = np.pad(img, ((5,5),(5,5)), mode='constant',constant_values=0)\n",
    "#     resized = cv2.resize(scale_img, (img.shape[0],img.shape[1]))\n",
    "#     return resized\n",
    "\n",
    "# def dataAugmentation(img):\n",
    "#     '''\n",
    "#     Return [original_img, rot_clockwise, rot_anticlockwise, translated, scaled]\n",
    "#     '''\n",
    "#     imgs = [img]\n",
    "#     rot = rotateImage(img)\n",
    "#     imgs.append(rot)\n",
    "#     shifted = translateImage(img)\n",
    "#     imgs.append(shifted)\n",
    "#     scaled = scaleImage(img)\n",
    "#     imgs.append(scaled)\n",
    "#     return imgs\n",
    "\n",
    "# def affineTransform(img, rotation, scaling, translation):\n",
    "#     if rotation:\n",
    "#         img = rotateImage(img)\n",
    "#     if scaling:\n",
    "#         img = scaleImage(img)\n",
    "#     if translation:\n",
    "#         img = translateImage(img)\n",
    "#     return img\n",
    "\n",
    "\n",
    "\n",
    "# Convert image coordinates to matrix\n",
    "def convertImg(img):   \n",
    "    N = img.shape[0]\n",
    "    # zero padding\n",
    "    if N%2 == 0:\n",
    "        img = np.pad(img, ((5,6),(5,6)), mode='constant',constant_values=0)\n",
    "        N+=11\n",
    "    else:\n",
    "        img = np.pad(img, ((5,5),(5,5)), mode='constant',constant_values=0)\n",
    "        N+=10\n",
    "    x = np.arange(-(N//2), N//2+1)\n",
    "    y = np.arange(-(N//2), N//2+1)\n",
    "\n",
    "\n",
    "    xx, yy = np.meshgrid(x, y)\n",
    "    out = []\n",
    "    out.append(xx.reshape([1,-1]))\n",
    "    out.append(yy.reshape([1,-1]))\n",
    "    out.append(np.ones(yy.reshape([1,-1]).shape))\n",
    "    out = np.array(out).squeeze()\n",
    "    return xx,yy,img,out\n",
    "\n",
    "def affineTransform(img, rotation, scaling, translation):\n",
    "    xx,yy,img,imgvec = convertImg(img)\n",
    "\n",
    "    if rotation:\n",
    "        theta =  random.uniform(-np.pi, np.pi)\n",
    "        a0 = 0\n",
    "        a1 = math.cos(theta)\n",
    "        a2 = math.sin(theta)\n",
    "        b0 = 0\n",
    "        b1 = -math.sin(theta)\n",
    "        b2 = math.cos(theta)\n",
    "        operator = np.array([[a1, a2, a0],[b1, b2, b0], [0, 0, 1]])\n",
    "        imgvec = inv(operator) @ imgvec\n",
    "\n",
    "    if scaling:\n",
    "        s =  random.uniform(0.8, 1.2)\n",
    "        a0 = 0\n",
    "        a1 = 1/s\n",
    "        a2 = 0\n",
    "        b0 = 0\n",
    "        b1 = 0\n",
    "        b2 = 1/s \n",
    "        operator = np.array([[a1, a2, a0],[b1, b2, b0], [0, 0, 1]])\n",
    "        imgvec = inv(operator) @ imgvec\n",
    "    if translation:\n",
    "        tx =  random.randint(-2, 2)\n",
    "        ty =  random.randint(-2, 2)\n",
    "        a0 = -tx\n",
    "        a1 = 1\n",
    "        a2 = 0\n",
    "        b0 = -ty\n",
    "        b1 = 0\n",
    "        b2 = 1        \n",
    "        operator = np.array([[a1, a2, a0],[b1, b2, b0], [0, 0, 1]])\n",
    "        imgvec = inv(operator) @ imgvec\n",
    "    xt = imgvec[0,:]\n",
    "    yt = imgvec[1,:]\n",
    "    rbf = Rbf(xx, yy, img, epsilon=2)\n",
    "    imgt = rbf(xt, yt)\n",
    "    # normalize and threshold\n",
    "    imgt = imgt- imgt.min()\n",
    "    imgt = imgt/ (imgt.max()-imgt.min())\n",
    "    t = 0.4\n",
    "    imgt[imgt>= t] = 1\n",
    "    imgt[imgt<t] = 0\n",
    "    imgt = imgt*255\n",
    "    \n",
    "    return imgt.reshape(xx.shape)\n",
    "\n",
    "\n",
    "# Plot images with contours\n",
    "def plotImagContour(axes, contourf_0, contourf_1, zeros_im, ones_im, zeros_names, ones_names):\n",
    "    for ax0, ax1, contour0, contour1,im0, im1, nm0, nm1 in zip(axes[0], axes[1], contourf_0, contourf_1, zeros_im, ones_im, zeros_names, ones_names):\n",
    "        ax0.imshow(im0)\n",
    "        ax0.step(np.real(contour0), np.imag(contour0), linewidth=2, c='r')\n",
    "        ax0.axis('off')\n",
    "        ax0.set_title(nm0)\n",
    "\n",
    "        ax1.imshow(im1)\n",
    "        ax1.step(np.real(contour1), np.imag(contour1), linewidth=2, c='r')\n",
    "        ax1.axis('off')\n",
    "        ax1.set_title(nm1)\n",
    "        \n",
    "        \n",
    "# Skeletonize\n",
    "def skeletonize(im):\n",
    "    element = cv2.getStructuringElement(cv2.MORPH_CROSS, (3,3))\n",
    "    size = np.size(im)\n",
    "    skel = np.zeros(im.shape, np.uint8)\n",
    "    while True:\n",
    "        eroded = cv2.erode(im, element)\n",
    "        im = eroded.copy()\n",
    "        if cv2.countNonZero(im)==0:\n",
    "            break\n",
    "        open = cv2.morphologyEx(eroded, cv2.MORPH_OPEN, element)\n",
    "        temp = cv2.subtract(eroded, open)\n",
    "        skel = cv2.bitwise_or(skel,temp)\n",
    "    skel[skel>0]=1\n",
    "    return skel"
   ]
  },
  {
   "cell_type": "code",
   "execution_count": 42,
   "metadata": {},
   "outputs": [
    {
     "data": {
      "text/plain": [
       "<matplotlib.collections.PathCollection at 0x27fcd346668>"
      ]
     },
     "execution_count": 42,
     "metadata": {},
     "output_type": "execute_result"
    },
    {
     "data": {
      "image/png": "[encoded data removed]",
      "text/plain": [
       "<Figure size 432x288 with 1 Axes>"
      ]
     },
     "metadata": {
      "needs_background": "light"
     },
     "output_type": "display_data"
    }
   ],
   "source": [
    "# original images\n",
    "\n",
    "# Contour detection\n",
    "contourf_0 = contour_fourier(zeros_im)\n",
    "contourf_1 = contour_fourier(ones_im)\n",
    "\n",
    "f1 = 1\n",
    "f2 = 3\n",
    "div = 5 # No division when set to -1\n",
    "\n",
    "FD_0_orig = np.zeros((10,2))\n",
    "FD_1_orig = np.zeros((10,2))\n",
    "\n",
    "for i in range(10):\n",
    "    \n",
    "    fft0 = np.fft.fft(contourf_0[i])#,n = N)\n",
    "    fft1 = np.fft.fft(contourf_1[i])#, n = N)\n",
    "    fft0[-1] = 1\n",
    "    fft1[-1] = 1 \n",
    "    \n",
    "    # normalization\n",
    "    FD_0_orig[i,:]  = np.abs([fft0[f1],fft0[f2]])/np.abs(fft0[div])  # Translaton (Exclude f0), scaling (ratio)，and rotation(amplitude) invariances\n",
    "    FD_1_orig[i,:]  = np.abs([fft1[f1],fft1[f2]])/np.abs(fft1[div])\n",
    "        \n",
    "    # print(FD_0)\n",
    "plt.scatter(FD_0_orig[:,0], FD_0_orig[:,1]) \n",
    "plt.scatter(FD_1_orig[:,0], FD_1_orig[:,1])\n"
   ]
  },
  {
   "cell_type": "code",
   "execution_count": 43,
   "metadata": {},
   "outputs": [
    {
     "data": {
      "image/png": "[encoded data removed]",
      "text/plain": [
       "<Figure size 864x216 with 20 Axes>"
      ]
     },
     "metadata": {
      "needs_background": "light"
     },
     "output_type": "display_data"
    }
   ],
   "source": [
    "# Apply affine transformations with boolean flags\n",
    "rotation = True\n",
    "scaling = True\n",
    "\n",
    "translation = True\n",
    "\n",
    "im_af0 = []\n",
    "im_af1 = []\n",
    "\n",
    "for img0, img1, nm0, nm1 in zip(zeros_im, ones_im, zeros_names, ones_names):\n",
    "    img0 = affineTransform(img0, rotation, scaling, translation)\n",
    "    img1 = affineTransform(img1, rotation, scaling, translation)\n",
    "\n",
    "    im_af0.append(img0)\n",
    "    im_af1.append(img1)\n",
    "\n",
    "# Contour detection\n",
    "contourf_af0 = contour_fourier(im_af0)\n",
    "contourf_af1 = contour_fourier(im_af1)\n",
    "\n",
    "# Plots\n",
    "fig, axes = plt.subplots(2, len(zeros_im), figsize=(12, 3))\n",
    "plotImagContour(axes, contourf_af0, contourf_af1, im_af0, im_af1, zeros_names, ones_names)\n"
   ]
  },
  {
   "cell_type": "code",
   "execution_count": 44,
   "metadata": {},
   "outputs": [
    {
     "data": {
      "image/png": "[encoded data removed]",
      "text/plain": [
       "<Figure size 864x216 with 20 Axes>"
      ]
     },
     "metadata": {
      "needs_background": "light"
     },
     "output_type": "display_data"
    }
   ],
   "source": [
    "fig, axes = plt.subplots(2, len(zeros_im), figsize=(12, 3))\n",
    "plotImagContour(axes, contourf_0, contourf_1, zeros_im, ones_im, zeros_names, ones_names)\n"
   ]
  },
  {
   "cell_type": "code",
   "execution_count": 45,
   "metadata": {},
   "outputs": [
    {
     "data": {
      "text/plain": [
       "<matplotlib.collections.PathCollection at 0x27fccf0c3c8>"
      ]
     },
     "execution_count": 45,
     "metadata": {},
     "output_type": "execute_result"
    },
    {
     "data": {
      "image/png": "[encoded data removed]",
      "text/plain": [
       "<Figure size 432x288 with 1 Axes>"
      ]
     },
     "metadata": {
      "needs_background": "light"
     },
     "output_type": "display_data"
    }
   ],
   "source": [
    "# f1 = 1\n",
    "# f2 = 3\n",
    "# div = -1 # No division when set to -1\n",
    "\n",
    "FD_0 = np.zeros((10,2))\n",
    "FD_1 = np.zeros((10,2))\n",
    "\n",
    "for i in range(10):\n",
    "    fft0 = np.fft.fft(contourf_af0[i])#,n = N)\n",
    "    fft1 = np.fft.fft(contourf_af1[i])#, n = N)\n",
    "    fft0[-1] = 1\n",
    "    fft1[-1] = 1 \n",
    "    \n",
    "    freq0 = np.fft.fftfreq(len(contourf_af0[i]))\n",
    "    freq1 = np.fft.fftfreq(len(contourf_af1[i]))\n",
    "\n",
    "    # normalization\n",
    "    FD_0[i,:]  = np.abs([fft0[f1],fft0[f2]])/np.abs(fft0[div])  # Translaton (Exclude f0), scaling (ratio)，and rotation(amplitude) invariances\n",
    "    FD_1[i,:]  = np.abs([fft1[f1],fft1[f2]])/np.abs(fft1[div])\n",
    "        \n",
    "   # print(FD_0)\n",
    "\n",
    "\n",
    "# Superimposed plot of original and transformed to test invariances\n",
    "plt.scatter(FD_0_orig[:,0],FD_0_orig[:,1]) \n",
    "plt.scatter(FD_1_orig[:,0],FD_1_orig[:,1])\n",
    "plt.scatter(FD_0[:,0],FD_0[:,1]) \n",
    "plt.scatter(FD_1[:,0],FD_1[:,1])\n",
    "\n"
   ]
  },
  {
   "cell_type": "markdown",
   "metadata": {},
   "source": [
    "### 1.3 Additional method(s)\n",
    "Add your implementation and discussion\n",
    "\n",
    "### Skeleton\n",
    "\n",
    "### PCA -- MS\n",
    "\n",
    "### Compacity -- CV\n",
    "\n",
    "### Freeman Code\n",
    "\n",
    "\n",
    "### Moments -- WJ\n"
   ]
  },
  {
   "cell_type": "markdown",
   "metadata": {},
   "source": [
    "Freeman"
   ]
  },
  {
   "cell_type": "code",
   "execution_count": null,
   "metadata": {},
   "outputs": [],
   "source": []
  },
  {
   "cell_type": "markdown",
   "metadata": {},
   "source": [
    "Morphological Skeleton"
   ]
  },
  {
   "cell_type": "code",
   "execution_count": 65,
   "metadata": {},
   "outputs": [
    {
     "ename": "error",
     "evalue": "OpenCV(4.2.0) C:/projects/opencv-python/opencv/modules/imgproc/src/morph.simd.hpp:841: error: (-213:The function/feature is not implemented) Unsupported data type (=4) in function 'cv::opt_AVX2::getMorphologyFilter'\n",
     "output_type": "error",
     "traceback": [
      "\u001b[1;31m---------------------------------------------------------------------------\u001b[0m",
      "\u001b[1;31merror\u001b[0m                                     Traceback (most recent call last)",
      "\u001b[1;32m<ipython-input-65-3843b5d9d6f3>\u001b[0m in \u001b[0;36m<module>\u001b[1;34m\u001b[0m\n\u001b[0;32m     10\u001b[0m \u001b[1;32mwhile\u001b[0m \u001b[1;32mTrue\u001b[0m\u001b[1;33m:\u001b[0m\u001b[1;33m\u001b[0m\u001b[1;33m\u001b[0m\u001b[0m\n\u001b[0;32m     11\u001b[0m     \u001b[1;31m#Step 2: Open the image\u001b[0m\u001b[1;33m\u001b[0m\u001b[1;33m\u001b[0m\u001b[1;33m\u001b[0m\u001b[0m\n\u001b[1;32m---> 12\u001b[1;33m     \u001b[0mopen\u001b[0m \u001b[1;33m=\u001b[0m \u001b[0mcv2\u001b[0m\u001b[1;33m.\u001b[0m\u001b[0mmorphologyEx\u001b[0m\u001b[1;33m(\u001b[0m\u001b[0mimg\u001b[0m\u001b[1;33m,\u001b[0m \u001b[0mcv2\u001b[0m\u001b[1;33m.\u001b[0m\u001b[0mMORPH_OPEN\u001b[0m\u001b[1;33m,\u001b[0m \u001b[0melement\u001b[0m\u001b[1;33m)\u001b[0m\u001b[1;33m\u001b[0m\u001b[1;33m\u001b[0m\u001b[0m\n\u001b[0m\u001b[0;32m     13\u001b[0m     \u001b[1;31m#Step 3: Substract open from the original image\u001b[0m\u001b[1;33m\u001b[0m\u001b[1;33m\u001b[0m\u001b[1;33m\u001b[0m\u001b[0m\n\u001b[0;32m     14\u001b[0m     \u001b[0mtemp\u001b[0m \u001b[1;33m=\u001b[0m \u001b[0mcv2\u001b[0m\u001b[1;33m.\u001b[0m\u001b[0msubtract\u001b[0m\u001b[1;33m(\u001b[0m\u001b[0mimg\u001b[0m\u001b[1;33m,\u001b[0m \u001b[0mopen\u001b[0m\u001b[1;33m)\u001b[0m\u001b[1;33m\u001b[0m\u001b[1;33m\u001b[0m\u001b[0m\n",
      "\u001b[1;31merror\u001b[0m: OpenCV(4.2.0) C:/projects/opencv-python/opencv/modules/imgproc/src/morph.simd.hpp:841: error: (-213:The function/feature is not implemented) Unsupported data type (=4) in function 'cv::opt_AVX2::getMorphologyFilter'\n"
     ]
    }
   ],
   "source": [
    "\n",
    "# Step 1: Create an empty skeleton\n",
    "size = np.size(img)\n",
    "skel = np.zeros(img.shape, np.uint8)\n",
    "\n",
    "# Get a Cross Shaped Kernel\n",
    "element = cv2.getStructuringElement(cv2.MORPH_CROSS, (3,3))\n",
    "\n",
    "# Repeat steps 2-4\n",
    "while True:\n",
    "    #Step 2: Open the image\n",
    "    open = cv2.morphologyEx(img, cv2.MORPH_OPEN, element)\n",
    "    #Step 3: Substract open from the original image\n",
    "    temp = cv2.subtract(img, open)\n",
    "    #Step 4: Erode the original image and refine the skeleton\n",
    "    eroded = cv2.erode(img, element)\n",
    "    skel = cv2.bitwise_or(skel,temp)\n",
    "    img = eroded.copy()\n",
    "    # Step 5: If there are no white pixels left ie.. the image has been completely eroded, quit the loop\n",
    "    if cv2.countNonZero(img)==0:\n",
    "        break\n",
    "\n",
    "# Displaying the final skeleton\n",
    "cv2.imshow(\"Skeleton\",skel)# Threshold the image\n",
    "ret,img = cv2.threshold(img, 127, 255, 0)\n",
    "\n",
    "# Step 1: Create an empty skeleton\n",
    "size = np.size(img)\n",
    "skel = np.zeros(img.shape, np.uint8)\n",
    "\n",
    "# Get a Cross Shaped Kernel\n",
    "element = cv2.getStructuringElement(cv2.MORPH_CROSS, (3,3))\n",
    "\n",
    "# Repeat steps 2-4\n",
    "while True:\n",
    "    #Step 2: Open the image\n",
    "    open = cv2.morphologyEx(img, cv2.MORPH_OPEN, element)\n",
    "    #Step 3: Substract open from the original image\n",
    "    temp = cv2.subtract(img, open)\n",
    "    #Step 4: Erode the original image and refine the skeleton\n",
    "    eroded = cv2.erode(img, element)\n",
    "    skel = cv2.bitwise_or(skel,temp)\n",
    "    img = eroded.copy()\n",
    "    # Step 5: If there are no white pixels left ie.. the image has been completely eroded, quit the loop\n",
    "    if cv2.countNonZero(img)==0:\n",
    "        break\n",
    "\n",
    "# Displaying the final skeleton\n",
    "cv2.imshow(\"Skeleton\",skel)"
   ]
  },
  {
   "cell_type": "code",
   "execution_count": 181,
   "metadata": {},
   "outputs": [
    {
     "data": {
      "image/png": "[encoded data removed]",
      "text/plain": [
       "<Figure size 864x216 with 20 Axes>"
      ]
     },
     "metadata": {
      "needs_background": "light"
     },
     "output_type": "display_data"
    }
   ],
   "source": [
    "# Skeletonize images\n",
    "Sr_zeros_im = []\n",
    "Sr_ones_im = []\n",
    "for im0, im1 in zip(zeros_im, ones_im):\n",
    "    skel0 = skeletonize(im0)\n",
    "    Sr_zeros_im.append(skel0) \n",
    "    skel1 = skeletonize(im1)\n",
    "    Sr_ones_im.append(skel1)\n",
    "    \n",
    "fig, axes = plt.subplots(2, len(zeros_im), figsize=(12, 3))\n",
    "for ax, im, nm in zip(axes[0], Sr_zeros_im, zeros_names):\n",
    "    ax.imshow(im, cmap='gray')\n",
    "    ax.axis('off')\n",
    "    ax.set_title(nm)\n",
    "for ax, im, nm in zip(axes[1], Sr_ones_im, ones_names):\n",
    "    ax.imshow(im, cmap='gray')\n",
    "    ax.axis('off')\n",
    "    ax.set_title(nm)"
   ]
  },
  {
   "cell_type": "code",
   "execution_count": 182,
   "metadata": {
    "scrolled": true
   },
   "outputs": [
    {
     "data": {
      "image/png": "[encoded data removed]",
      "text/plain": [
       "<Figure size 432x288 with 1 Axes>"
      ]
     },
     "metadata": {
      "needs_background": "light"
     },
     "output_type": "display_data"
    },
    {
     "data": {
      "text/plain": [
       "<matplotlib.image.AxesImage at 0x27fce6c5470>"
      ]
     },
     "execution_count": 182,
     "metadata": {},
     "output_type": "execute_result"
    },
    {
     "data": {
      "image/png": "[encoded data removed]",
      "text/plain": [
       "<Figure size 432x288 with 1 Axes>"
      ]
     },
     "metadata": {
      "needs_background": "light"
     },
     "output_type": "display_data"
    }
   ],
   "source": [
    "# plot distance maps with mean skeleton\n",
    "mean_skel0 = np.array(np.mean(Sr_zeros_im,0))\n",
    "mean_skel1 = np.array(np.mean(Sr_ones_im,0))\n",
    "mean_skel0[mean_skel0>0] = 1\n",
    "mean_skel1[mean_skel1>0] = 1\n",
    "\n",
    "distance_map_0 = morphology.distance_transform_edt(1-mean_skel0)\n",
    "plt.imshow(distance_map_0, cmap ='gray')\n",
    "plt.show()\n",
    "distance_map_1 = morphology.distance_transform_edt(1-mean_skel1)\n",
    "plt.imshow(distance_map_1, cmap ='gray')"
   ]
  },
  {
   "cell_type": "code",
   "execution_count": 183,
   "metadata": {},
   "outputs": [
    {
     "name": "stdout",
     "output_type": "stream",
     "text": [
      "[[0.19262595 0.96101077]\n",
      " [0.17516152 1.05499408]\n",
      " [0.25916014 1.12231896]\n",
      " [0.31127863 0.82664408]\n",
      " [0.27156854 0.99056874]\n",
      " [0.31403966 1.27027762]\n",
      " [0.29067057 1.39405454]\n",
      " [0.35598386 1.32092506]\n",
      " [0.53592331 1.98456209]\n",
      " [0.25309837 0.93577874]]\n",
      "[[0.78086939 0.38251406]\n",
      " [0.76750189 0.27142624]\n",
      " [0.81595225 0.18256196]\n",
      " [0.8708424  0.17333333]\n",
      " [0.74449888 0.40691426]\n",
      " [0.61008046 0.42795166]\n",
      " [0.85826433 0.17578309]\n",
      " [0.71616759 0.33236852]\n",
      " [0.69660062 0.27691125]\n",
      " [0.63851612 0.38635707]]\n"
     ]
    },
    {
     "data": {
      "image/png": "[encoded data removed]",
      "text/plain": [
       "<Figure size 432x288 with 1 Axes>"
      ]
     },
     "metadata": {
      "needs_background": "light"
     },
     "output_type": "display_data"
    }
   ],
   "source": [
    "# Calculate image distances\n",
    "distance_zeros=[]\n",
    "for im in zeros_im:\n",
    "    distance_0 = np.sum(np.multiply(distance_map_0, im))/np.sum(im)\n",
    "    distance_1 = np.sum(np.multiply(distance_map_1, im))/np.sum(im)\n",
    "    distance_zeros.append([distance_0,distance_1])\n",
    "distance_zeros = np.array(distance_zeros)\n",
    "print(distance_zeros)\n",
    "distance_ones=[]\n",
    "for im in ones_im:\n",
    "    distance_0 = np.sum(np.multiply(distance_map_0, im))/np.sum(im)\n",
    "    distance_1 = np.sum(np.multiply(distance_map_1, im))/np.sum(im)\n",
    "    distance_ones.append([distance_0,distance_1])\n",
    "distance_ones = np.array(distance_ones)\n",
    "print(distance_ones)\n",
    "\n",
    "# plot distances from mean skeletons of 0s and 1s\n",
    "plt.scatter(distance_zeros[:,0],distance_zeros[:,1])\n",
    "plt.scatter(distance_ones[:,0],distance_ones[:,1])\n",
    "plt.show()"
   ]
  },
  {
   "cell_type": "markdown",
   "metadata": {},
   "source": [
    "#### Distance Map method + Contours"
   ]
  },
  {
   "cell_type": "code",
   "execution_count": 184,
   "metadata": {},
   "outputs": [
    {
     "data": {
      "text/plain": [
       "<matplotlib.image.AxesImage at 0x27fce70c748>"
      ]
     },
     "execution_count": 184,
     "metadata": {},
     "output_type": "execute_result"
    },
    {
     "data": {
      "image/png": "[encoded data removed]",
      "text/plain": [
       "<Figure size 432x288 with 1 Axes>"
      ]
     },
     "metadata": {
      "needs_background": "light"
     },
     "output_type": "display_data"
    }
   ],
   "source": [
    "contours = np.array(measure.find_contours(ones_im[6], 0))[0]\n",
    "cont_1 = np.zeros_like(ones_im[0])\n",
    "cont_1[contours[:,0].astype(int),contours[:,1].astype(int)]=1\n",
    "plt.imshow(cont_1)"
   ]
  },
  {
   "cell_type": "code",
   "execution_count": 185,
   "metadata": {},
   "outputs": [
    {
     "data": {
      "text/plain": [
       "<matplotlib.image.AxesImage at 0x27fce7557b8>"
      ]
     },
     "execution_count": 185,
     "metadata": {},
     "output_type": "execute_result"
    },
    {
     "data": {
      "image/png": "[encoded data removed]",
      "text/plain": [
       "<Figure size 432x288 with 1 Axes>"
      ]
     },
     "metadata": {
      "needs_background": "light"
     },
     "output_type": "display_data"
    }
   ],
   "source": [
    "contours = np.array(measure.find_contours(zeros_im[7], 0))[0]\n",
    "cont_0 = np.zeros_like(zeros_im[0])\n",
    "cont_0[contours[:,0].astype(int),contours[:,1].astype(int)]=1\n",
    "plt.imshow(cont_0)"
   ]
  },
  {
   "cell_type": "code",
   "execution_count": 186,
   "metadata": {},
   "outputs": [
    {
     "data": {
      "text/plain": [
       "<matplotlib.image.AxesImage at 0x27fcc6572b0>"
      ]
     },
     "execution_count": 186,
     "metadata": {},
     "output_type": "execute_result"
    },
    {
     "data": {
      "image/png": "[encoded data removed]",
      "text/plain": [
       "<Figure size 432x288 with 1 Axes>"
      ]
     },
     "metadata": {
      "needs_background": "light"
     },
     "output_type": "display_data"
    }
   ],
   "source": [
    "distance_map_0 = morphology.distance_transform_edt(1-cont_0)\n",
    "plt.imshow(distance_map_0, cmap ='gray')"
   ]
  },
  {
   "cell_type": "code",
   "execution_count": 187,
   "metadata": {},
   "outputs": [
    {
     "data": {
      "text/plain": [
       "<matplotlib.image.AxesImage at 0x27fcea38a58>"
      ]
     },
     "execution_count": 187,
     "metadata": {},
     "output_type": "execute_result"
    },
    {
     "data": {
      "image/png": "[encoded data removed]",
      "text/plain": [
       "<Figure size 432x288 with 1 Axes>"
      ]
     },
     "metadata": {
      "needs_background": "light"
     },
     "output_type": "display_data"
    }
   ],
   "source": [
    "distance_map_1 = morphology.distance_transform_edt(1-cont_1)\n",
    "plt.imshow(distance_map_1, cmap ='gray')"
   ]
  },
  {
   "cell_type": "code",
   "execution_count": 188,
   "metadata": {},
   "outputs": [
    {
     "name": "stdout",
     "output_type": "stream",
     "text": [
      "[[ 52.3782036  167.14206195]\n",
      " [ 50.89949494 198.18137138]\n",
      " [ 53.1869126  214.59002257]\n",
      " [ 69.71172365 139.717819  ]\n",
      " [ 62.85033956 164.04882314]\n",
      " [ 48.14213562 262.21154073]\n",
      " [ 71.86295677 250.42663105]\n",
      " [  0.         237.74044007]\n",
      " [103.64130204 275.4926569 ]\n",
      " [ 67.15090264 176.51144141]]\n"
     ]
    }
   ],
   "source": [
    "distance_zeros=[]\n",
    "for im in zeros_im:\n",
    "    contours = np.array(measure.find_contours(im, 0))[0]\n",
    "    cont_0 = np.zeros_like(zeros_im[0])\n",
    "    cont_0[contours[:,0].astype(int),contours[:,1].astype(int)]=1\n",
    "    distance_0 = np.sum(np.multiply(distance_map_0, cont_0))\n",
    "    distance_1 = np.sum(np.multiply(distance_map_1, cont_0))\n",
    "    distance_zeros.append([distance_0,distance_1])\n",
    "distance_zeros = np.array(distance_zeros)\n",
    "print(distance_zeros)"
   ]
  },
  {
   "cell_type": "code",
   "execution_count": 189,
   "metadata": {},
   "outputs": [
    {
     "name": "stdout",
     "output_type": "stream",
     "text": [
      "[[147.31404441  96.06855194]\n",
      " [143.1467278   63.60112616]\n",
      " [144.39465813  48.48528137]\n",
      " [146.71996594  34.95084462]\n",
      " [141.69703754  89.76068131]\n",
      " [205.24054566 187.08262339]\n",
      " [139.38017717   0.        ]\n",
      " [150.81300833  87.15265196]\n",
      " [168.04586055  73.77654924]\n",
      " [185.43886437 111.05739419]]\n"
     ]
    }
   ],
   "source": [
    "distance_ones=[]\n",
    "for im in ones_im:\n",
    "    contours = np.array(measure.find_contours(im, 0))[0]\n",
    "    cont_1 = np.zeros_like(ones_im[0])\n",
    "    cont_1[contours[:,0].astype(int),contours[:,1].astype(int)]=1\n",
    "    distance_0 = np.sum(np.multiply(distance_map_0, cont_1))\n",
    "    distance_1 = np.sum(np.multiply(distance_map_1, cont_1))\n",
    "    distance_ones.append([distance_0,distance_1])\n",
    "distance_ones = np.array(distance_ones)\n",
    "print(distance_ones)"
   ]
  },
  {
   "cell_type": "code",
   "execution_count": 190,
   "metadata": {},
   "outputs": [
    {
     "data": {
      "image/png": "[encoded data removed]",
      "text/plain": [
       "<Figure size 432x288 with 1 Axes>"
      ]
     },
     "metadata": {
      "needs_background": "light"
     },
     "output_type": "display_data"
    }
   ],
   "source": [
    "plt.scatter(distance_zeros[:,0],distance_zeros[:,1])\n",
    "plt.scatter(distance_ones[:,0],distance_ones[:,1])\n",
    "plt.show()"
   ]
  },
  {
   "cell_type": "code",
   "execution_count": 191,
   "metadata": {},
   "outputs": [
    {
     "ename": "ValueError",
     "evalue": "Image contains values other than 0 and 1",
     "output_type": "error",
     "traceback": [
      "\u001b[1;31m---------------------------------------------------------------------------\u001b[0m",
      "\u001b[1;31mValueError\u001b[0m                                Traceback (most recent call last)",
      "\u001b[1;32m<ipython-input-191-b270d9a0b41a>\u001b[0m in \u001b[0;36m<module>\u001b[1;34m\u001b[0m\n\u001b[0;32m      1\u001b[0m \u001b[1;32mfrom\u001b[0m \u001b[0mskimage\u001b[0m\u001b[1;33m.\u001b[0m\u001b[0mmorphology\u001b[0m \u001b[1;32mimport\u001b[0m \u001b[0mskeletonize\u001b[0m\u001b[1;33m\u001b[0m\u001b[1;33m\u001b[0m\u001b[0m\n\u001b[0;32m      2\u001b[0m \u001b[1;32mfrom\u001b[0m \u001b[0mskimage\u001b[0m\u001b[1;33m.\u001b[0m\u001b[0mmorphology\u001b[0m \u001b[1;32mimport\u001b[0m \u001b[0mmedial_axis\u001b[0m\u001b[1;33m\u001b[0m\u001b[1;33m\u001b[0m\u001b[0m\n\u001b[1;32m----> 3\u001b[1;33m \u001b[0mskeleton\u001b[0m \u001b[1;33m=\u001b[0m \u001b[0mskeletonize\u001b[0m\u001b[1;33m(\u001b[0m\u001b[0mones_im\u001b[0m\u001b[1;33m[\u001b[0m\u001b[1;36m4\u001b[0m\u001b[1;33m]\u001b[0m\u001b[1;33m)\u001b[0m\u001b[1;33m\u001b[0m\u001b[1;33m\u001b[0m\u001b[0m\n\u001b[0m\u001b[0;32m      4\u001b[0m \u001b[0mskel\u001b[0m\u001b[1;33m,\u001b[0m \u001b[0mdistance\u001b[0m \u001b[1;33m=\u001b[0m \u001b[0mmedial_axis\u001b[0m\u001b[1;33m(\u001b[0m\u001b[0mzeros_im\u001b[0m\u001b[1;33m[\u001b[0m\u001b[1;36m5\u001b[0m\u001b[1;33m]\u001b[0m\u001b[1;33m,\u001b[0m \u001b[0mreturn_distance\u001b[0m\u001b[1;33m=\u001b[0m\u001b[1;32mTrue\u001b[0m\u001b[1;33m)\u001b[0m\u001b[1;33m\u001b[0m\u001b[1;33m\u001b[0m\u001b[0m\n\u001b[0;32m      5\u001b[0m \u001b[0mdistance\u001b[0m\u001b[1;33m[\u001b[0m\u001b[0mdistance\u001b[0m\u001b[1;33m<\u001b[0m\u001b[1;36m2\u001b[0m\u001b[1;33m]\u001b[0m\u001b[1;33m=\u001b[0m\u001b[1;36m0\u001b[0m\u001b[1;33m\u001b[0m\u001b[1;33m\u001b[0m\u001b[0m\n",
      "\u001b[1;32mC:\\ProgramData\\Anaconda\\lib\\site-packages\\skimage\\morphology\\_skeletonize.py\u001b[0m in \u001b[0;36mskeletonize\u001b[1;34m(image)\u001b[0m\n\u001b[0;32m     97\u001b[0m         \u001b[1;32mraise\u001b[0m \u001b[0mValueError\u001b[0m\u001b[1;33m(\u001b[0m\u001b[1;34m'Skeletonize requires a 2D array'\u001b[0m\u001b[1;33m)\u001b[0m\u001b[1;33m\u001b[0m\u001b[1;33m\u001b[0m\u001b[0m\n\u001b[0;32m     98\u001b[0m     \u001b[1;32mif\u001b[0m \u001b[1;32mnot\u001b[0m \u001b[0mnp\u001b[0m\u001b[1;33m.\u001b[0m\u001b[0mall\u001b[0m\u001b[1;33m(\u001b[0m\u001b[0mnp\u001b[0m\u001b[1;33m.\u001b[0m\u001b[0min1d\u001b[0m\u001b[1;33m(\u001b[0m\u001b[0mimage\u001b[0m\u001b[1;33m.\u001b[0m\u001b[0mflat\u001b[0m\u001b[1;33m,\u001b[0m \u001b[1;33m(\u001b[0m\u001b[1;36m0\u001b[0m\u001b[1;33m,\u001b[0m \u001b[1;36m1\u001b[0m\u001b[1;33m)\u001b[0m\u001b[1;33m)\u001b[0m\u001b[1;33m)\u001b[0m\u001b[1;33m:\u001b[0m\u001b[1;33m\u001b[0m\u001b[1;33m\u001b[0m\u001b[0m\n\u001b[1;32m---> 99\u001b[1;33m         \u001b[1;32mraise\u001b[0m \u001b[0mValueError\u001b[0m\u001b[1;33m(\u001b[0m\u001b[1;34m'Image contains values other than 0 and 1'\u001b[0m\u001b[1;33m)\u001b[0m\u001b[1;33m\u001b[0m\u001b[1;33m\u001b[0m\u001b[0m\n\u001b[0m\u001b[0;32m    100\u001b[0m \u001b[1;33m\u001b[0m\u001b[0m\n\u001b[0;32m    101\u001b[0m     \u001b[1;32mreturn\u001b[0m \u001b[0m_fast_skeletonize\u001b[0m\u001b[1;33m(\u001b[0m\u001b[0mimage\u001b[0m\u001b[1;33m)\u001b[0m\u001b[1;33m\u001b[0m\u001b[1;33m\u001b[0m\u001b[0m\n",
      "\u001b[1;31mValueError\u001b[0m: Image contains values other than 0 and 1"
     ]
    }
   ],
   "source": [
    "from skimage.morphology import skeletonize\n",
    "from skimage.morphology import medial_axis\n",
    "skeleton = skeletonize(ones_im[4])\n",
    "skel, distance = medial_axis(zeros_im[5], return_distance=True)\n",
    "distance[distance<2]=0\n",
    "dist_on_skel = distance * skel"
   ]
  },
  {
   "cell_type": "code",
   "execution_count": null,
   "metadata": {},
   "outputs": [],
   "source": [
    "plt.imshow(dist_on_skel, cmap=plt.cm.Spectral, interpolation='nearest')"
   ]
  },
  {
   "cell_type": "code",
   "execution_count": null,
   "metadata": {},
   "outputs": [],
   "source": []
  },
  {
   "cell_type": "markdown",
   "metadata": {},
   "source": [
    "## Part 2\n",
    "The `lab-02-data/part2` folder contains grey-scale pictures of handwritten \"2\" and \"3\".\n",
    "Extract the same feature (typically 2 Fourier descriptors) as in part 1 also on these images and plot them on the same graph as the features of the \"0\" and \"1\".\n",
    "Is it possible to discriminate all these 4 digits with a 2-dimensional feature vector?"
   ]
  },
  {
   "cell_type": "markdown",
   "metadata": {},
   "source": [
    "### 2.1 Data visualization"
   ]
  },
  {
   "cell_type": "code",
   "execution_count": null,
   "metadata": {},
   "outputs": [],
   "source": [
    "#  Load zeros\n",
    "twos_path = os.path.join(data_base_path, data_folder, 'part2', '2')\n",
    "twos_names = [nm for nm in os.listdir(twos_path) if '.png' in nm]  # make sure to only load .png\n",
    "twos_names.sort()  # sort file names\n",
    "ic = skimage.io.imread_collection([os.path.join(twos_path, nm) for nm in twos_names])\n",
    "twos_im = skimage.io.concatenate_images(ic)\n",
    "#  Load ones\n",
    "threes_path = os.path.join(data_base_path, data_folder, 'part2', '3')\n",
    "threes_names = [nm for nm in os.listdir(threes_path) if '.png' in nm]  # make sure to only load .png\n",
    "threes_names.sort()  # sort file names\n",
    "ic = skimage.io.imread_collection(([os.path.join(threes_path, nm) for nm in threes_names]))\n",
    "threes_im = skimage.io.concatenate_images(ic)\n",
    "\n",
    "# Plot images\n",
    "fig, axes = plt.subplots(2, len(twos_im), figsize=(12, 3))\n",
    "for ax, im, nm in zip(axes[0], twos_im, twos_names):\n",
    "    ax.imshow(im, cmap='gray')\n",
    "    ax.axis('off')\n",
    "    ax.set_title(nm)\n",
    "for ax, im, nm in zip(axes[1], threes_im, threes_names):\n",
    "    ax.imshow(im, cmap='gray')\n",
    "    ax.axis('off')\n",
    "    ax.set_title(nm)"
   ]
  },
  {
   "cell_type": "markdown",
   "metadata": {},
   "source": [
    "### 2.2 Additional method(s) and conclusion\n",
    "Add your implementations and discussions here"
   ]
  },
  {
   "cell_type": "code",
   "execution_count": null,
   "metadata": {},
   "outputs": [],
   "source": [
    "# Next meeting tentative April 7th!"
   ]
  },
  {
   "cell_type": "code",
   "execution_count": null,
   "metadata": {},
   "outputs": [],
   "source": []
  }
 ],
 "metadata": {
  "kernelspec": {
   "display_name": "Python 3",
   "language": "python",
   "name": "python3"
  },
  "language_info": {
   "codemirror_mode": {
    "name": "ipython",
    "version": 3
   },
   "file_extension": ".py",
   "mimetype": "text/x-python",
   "name": "python",
   "nbconvert_exporter": "python",
   "pygments_lexer": "ipython3",
   "version": "3.7.3"
  }
 },
 "nbformat": 4,
 "nbformat_minor": 4
}
