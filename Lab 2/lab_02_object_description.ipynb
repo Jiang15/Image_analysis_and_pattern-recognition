{
 "cells": [
  {
   "cell_type": "markdown",
   "metadata": {},
   "source": [
    "# [IAPR 2020:][iapr2020] Lab 2 ‒  Object description\n",
    "\n",
    "**Authors:** Wei JIANG, Minghui SHI, Costanza VOLPINI\n",
    "\n",
    "**Due date:** 24.04.2020\n",
    "\n",
    "[iapr2020]: https://github.com/LTS5/iapr-2020"
   ]
  },
  {
   "cell_type": "markdown",
   "metadata": {},
   "source": [
    "## Extract relevant data\n",
    "We first need to extract the `lab-02-data.tar.gz` archive.\n",
    "To this end, we use the [tarfile] module from the Python standard library.\n",
    "\n",
    "[tarfile]: https://docs.python.org/3.6/library/tarfile.html"
   ]
  },
  {
   "cell_type": "code",
   "execution_count": 1,
   "metadata": {},
   "outputs": [],
   "source": [
    "import tarfile\n",
    "import os\n",
    "\n",
    "data_base_path = os.path.join(os.pardir, 'data')\n",
    "data_folder = 'lab-02-data'\n",
    "tar_path = os.path.join(data_base_path, data_folder + '.tar.gz')\n",
    "with tarfile.open(tar_path, mode='r:gz') as tar:\n",
    "    tar.extractall(path=data_base_path)"
   ]
  },
  {
   "cell_type": "markdown",
   "metadata": {},
   "source": [
    "## Part 1\n",
    "In the `lab-02-data/part1` folder, you will find 28x28 grey-scale pictures of handwritten \"0\" and \"1\".\n",
    "These digits have been extracted from MNIST dataset (http://yann.lecun.com/exdb/mnist/).\n",
    "\n",
    "Your goal is to extract, from each of those images, a 2-dimensional feature vector (i.e. 2 features) and to plot them all on a 2D graph.\n",
    "If you have chosen good features, the vectors of the \"0\"'s should nicely cluster in one part of the plane and those of the \"1\"'s in another.\n",
    "\n",
    "Please try first the Fourier Descriptors.\n",
    "You can make several attempts: e.g. with and without invariance to rotation, translation, scaling, etc.\n",
    "You can also for instance rotate the images and assess the invariance in rotation.\n",
    "\n",
    "**Note:** for the Fourier descriptors, the u_k signal has to be constructed by following the contour point after point.\n",
    "Some pre-processing (image binarization, possibly some Mathematical Morphology) might be useful.\n",
    "\n",
    "Then feel free to try other features, the more you try, the better it will be (for you)."
   ]
  },
  {
   "cell_type": "markdown",
   "metadata": {},
   "source": [
    "### 1.1 Data visualization"
   ]
  },
  {
   "cell_type": "code",
   "execution_count": 2,
   "metadata": {},
   "outputs": [
    {
     "data": {
      "image/png": "[encoded data removed]",
      "text/plain": [
       "<Figure size 864x216 with 20 Axes>"
      ]
     },
     "metadata": {
      "needs_background": "light"
     },
     "output_type": "display_data"
    }
   ],
   "source": [
    "import skimage.io\n",
    "import matplotlib.pyplot as plt\n",
    "%matplotlib inline\n",
    "\n",
    "# Load images\n",
    "data_base_path = os.path.join(os.pardir, 'data')\n",
    "data_folder = 'lab-02-data'\n",
    "#  Load zeros\n",
    "zeros_path = os.path.join(data_base_path, data_folder, 'part1', '0')\n",
    "zeros_names = [nm for nm in os.listdir(zeros_path) if '.png' in nm]  # make sure to only load .png\n",
    "zeros_names.sort()  # sort file names\n",
    "ic = skimage.io.imread_collection([os.path.join(zeros_path, nm) for nm in zeros_names])\n",
    "zeros_im = skimage.io.concatenate_images(ic)\n",
    "#  Load ones\n",
    "ones_path = os.path.join(data_base_path, data_folder, 'part1', '1')\n",
    "ones_names = [nm for nm in os.listdir(ones_path) if '.png' in nm]  # make sure to only load .png\n",
    "ones_names.sort()  # sort file names\n",
    "ic = skimage.io.imread_collection(([os.path.join(ones_path, nm) for nm in ones_names]))\n",
    "ones_im = skimage.io.concatenate_images(ic)\n",
    "\n",
    "# Plot images\n",
    "fig, axes = plt.subplots(2, len(zeros_im), figsize=(12, 3))\n",
    "for ax, im, nm in zip(axes[0], zeros_im, zeros_names):\n",
    "    ax.imshow(im, cmap='gray')\n",
    "    ax.axis('off')\n",
    "    ax.set_title(nm)\n",
    "for ax, im, nm in zip(axes[1], ones_im, ones_names):\n",
    "    ax.imshow(im, cmap='gray')\n",
    "    ax.axis('off')\n",
    "    ax.set_title(nm)\n"
   ]
  },
  {
   "cell_type": "markdown",
   "metadata": {},
   "source": [
    "### 1.2 Fourier descriptors\n",
    "Add your implementation and discussion\n",
    "\n",
    "### Invariances rotation, translation, scaling -- MS, CV, WJ"
   ]
  },
  {
   "cell_type": "code",
   "execution_count": 3,
   "metadata": {},
   "outputs": [],
   "source": [
    "zeros_im[zeros_im>0] = 255\n",
    "ones_im[ones_im>0] = 255"
   ]
  },
  {
   "cell_type": "code",
   "execution_count": 4,
   "metadata": {},
   "outputs": [],
   "source": [
    "from skimage import feature\n",
    "import matplotlib.pyplot as plt\n",
    "import numpy as np\n",
    "from scipy import ndimage\n",
    "import skimage.measure as measure\n",
    "\n",
    "from skimage.transform import rotate, AffineTransform, warp\n",
    "import random\n",
    "import cv2\n",
    "import math\n",
    "from numpy.linalg import inv\n",
    "\n",
    "from scipy.interpolate import Rbf\n",
    "from scipy.ndimage import morphology\n"
   ]
  },
  {
   "cell_type": "code",
   "execution_count": 5,
   "metadata": {},
   "outputs": [],
   "source": [
    "# Helper functions\n",
    "# Convert contour into complex signals\n",
    "def convert_signal(contour):\n",
    "#     contour -= contour.mean() # do we demean the data?\n",
    "    output = np.zeros((np.array(contour).shape[0],1))\n",
    "    output = contour[:,1] + 1j*contour[:,0] \n",
    "    return output\n",
    "\n",
    "# Find outer contour and convert\n",
    "def contour_fourier(images):\n",
    "    contour_out = []\n",
    "    \n",
    "    for im in images:\n",
    "        im = ndimage.binary_fill_holes(im)\n",
    "        im[im>0] =255\n",
    "        contours = measure.find_contours(im, 0)\n",
    "        contour = sorted(contours, key=lambda x: len(x))[-1]\n",
    "        contour_out.append(convert_signal(contour))\n",
    "    return np.array(contour_out)\n",
    "\n",
    "\n",
    "\n",
    "# Helper functions to do transforms\n",
    "\n",
    "# def rotateImage(img):\n",
    "    # Test with different rotations (or we should just keep one? or all of them?)\n",
    "    # I have tried also with numpy e.g. np.rot90(img) but I got almost the same result\n",
    "    # skimage: from skimage import measure, transform\n",
    "    # a = transform.rotate(img, 90, resize=False, preserve_range=True).astype('uint8')\n",
    "    \n",
    "#     r = random.randint(1, 3)\n",
    "#     r = 1 # for testing\n",
    "#     if (r == 1):\n",
    "#         a = cv2.rotate(img, cv2.ROTATE_90_CLOCKWISE)\n",
    "#     elif (r == 2):\n",
    "#         a = cv2.rotate(img, cv2.ROTATE_90_COUNTERCLOCKWISE)\n",
    "#     else:\n",
    "#         a = cv2.rotate(img, cv2.ROTATE_180)\n",
    "#     return a #the invariance seems not working (?)\n",
    "\n",
    "\n",
    "# def translateImage(img):\n",
    "#     x = random.randint(-2, 2)\n",
    "#     y = random.randint(-2, 2)\n",
    "#     shift = AffineTransform(translation=(x, y))\n",
    "#     return warp(img, shift, mode=\"wrap\")\n",
    "    \n",
    "# def scaleImage(img): # TODO: I will check and try to fix it\n",
    "#     scale_img = np.pad(img, ((5,5),(5,5)), mode='constant',constant_values=0)\n",
    "#     resized = cv2.resize(scale_img, (img.shape[0],img.shape[1]))\n",
    "#     return resized\n",
    "\n",
    "# def dataAugmentation(img):\n",
    "#     '''\n",
    "#     Return [original_img, rot_clockwise, rot_anticlockwise, translated, scaled]\n",
    "#     '''\n",
    "#     imgs = [img]\n",
    "#     rot = rotateImage(img)\n",
    "#     imgs.append(rot)\n",
    "#     shifted = translateImage(img)\n",
    "#     imgs.append(shifted)\n",
    "#     scaled = scaleImage(img)\n",
    "#     imgs.append(scaled)\n",
    "#     return imgs\n",
    "\n",
    "# def affineTransform(img, rotation, scaling, translation):\n",
    "#     if rotation:\n",
    "#         img = rotateImage(img)\n",
    "#     if scaling:\n",
    "#         img = scaleImage(img)\n",
    "#     if translation:\n",
    "#         img = translateImage(img)\n",
    "#     return img\n",
    "\n",
    "\n",
    "\n",
    "# Convert image coordinates to matrix\n",
    "def convertImg(img):   \n",
    "    N = img.shape[0]\n",
    "    # zero padding\n",
    "    if N%2 == 0:\n",
    "        img = np.pad(img, ((5,6),(5,6)), mode='constant',constant_values=0)\n",
    "        N+=11\n",
    "    else:\n",
    "        img = np.pad(img, ((5,5),(5,5)), mode='constant',constant_values=0)\n",
    "        N+=10\n",
    "    x = np.arange(-(N//2), N//2+1)\n",
    "    y = np.arange(-(N//2), N//2+1)\n",
    "\n",
    "\n",
    "    xx, yy = np.meshgrid(x, y)\n",
    "    out = []\n",
    "    out.append(xx.reshape([1,-1]))\n",
    "    out.append(yy.reshape([1,-1]))\n",
    "    out.append(np.ones(yy.reshape([1,-1]).shape))\n",
    "    out = np.array(out).squeeze()\n",
    "    return xx,yy,img,out\n",
    "\n",
    "def affineTransform(img, rotation, scaling, translation):\n",
    "    xx,yy,img,imgvec = convertImg(img)\n",
    "\n",
    "    if rotation:\n",
    "        theta =  random.uniform(-np.pi, np.pi)\n",
    "        a0 = 0\n",
    "        a1 = math.cos(theta)\n",
    "        a2 = math.sin(theta)\n",
    "        b0 = 0\n",
    "        b1 = -math.sin(theta)\n",
    "        b2 = math.cos(theta)\n",
    "        operator = np.array([[a1, a2, a0],[b1, b2, b0], [0, 0, 1]])\n",
    "        imgvec = inv(operator) @ imgvec\n",
    "\n",
    "    if scaling:\n",
    "        s =  random.uniform(0.8, 1.2)\n",
    "        a0 = 0\n",
    "        a1 = 1/s\n",
    "        a2 = 0\n",
    "        b0 = 0\n",
    "        b1 = 0\n",
    "        b2 = 1/s \n",
    "        operator = np.array([[a1, a2, a0],[b1, b2, b0], [0, 0, 1]])\n",
    "        imgvec = inv(operator) @ imgvec\n",
    "    if translation:\n",
    "        tx =  random.randint(-2, 2)\n",
    "        ty =  random.randint(-2, 2)\n",
    "        a0 = -tx\n",
    "        a1 = 1\n",
    "        a2 = 0\n",
    "        b0 = -ty\n",
    "        b1 = 0\n",
    "        b2 = 1        \n",
    "        operator = np.array([[a1, a2, a0],[b1, b2, b0], [0, 0, 1]])\n",
    "        imgvec = inv(operator) @ imgvec\n",
    "    xt = imgvec[0,:]\n",
    "    yt = imgvec[1,:]\n",
    "    rbf = Rbf(xx, yy, img, epsilon=2)\n",
    "    imgt = rbf(xt, yt)\n",
    "    # normalize and threshold\n",
    "    imgt = imgt- imgt.min()\n",
    "    imgt = imgt/ (imgt.max()-imgt.min())\n",
    "    t = 0.4\n",
    "    imgt[imgt>= t] = 1\n",
    "    imgt[imgt<t] = 0\n",
    "    imgt = imgt*255\n",
    "    \n",
    "    return imgt.reshape(xx.shape)\n",
    "\n",
    "\n",
    "# Plot images with contours\n",
    "def plotImagContour(axes, contourf_0, contourf_1, zeros_im, ones_im, zeros_names, ones_names):\n",
    "    for ax0, ax1, contour0, contour1,im0, im1, nm0, nm1 in zip(axes[0], axes[1], contourf_0, contourf_1, zeros_im, ones_im, zeros_names, ones_names):\n",
    "        ax0.imshow(im0)\n",
    "        ax0.step(np.real(contour0), np.imag(contour0), linewidth=2, c='r')\n",
    "        ax0.axis('off')\n",
    "        ax0.set_title(nm0)\n",
    "\n",
    "        ax1.imshow(im1)\n",
    "        ax1.step(np.real(contour1), np.imag(contour1), linewidth=2, c='r')\n",
    "        ax1.axis('off')\n",
    "        ax1.set_title(nm1)\n",
    "        \n",
    "        \n",
    "# Skeletonize\n",
    "def skeletonize(im):\n",
    "    element = cv2.getStructuringElement(cv2.MORPH_CROSS, (3,3))\n",
    "    size = np.size(im)\n",
    "    skel = np.zeros(im.shape, np.uint8)\n",
    "    while True:\n",
    "        eroded = cv2.erode(im, element)\n",
    "        im = eroded.copy()\n",
    "        if cv2.countNonZero(im)==0:\n",
    "            break\n",
    "        open = cv2.morphologyEx(eroded, cv2.MORPH_OPEN, element)\n",
    "        temp = cv2.subtract(eroded, open)\n",
    "        skel = cv2.bitwise_or(skel,temp)\n",
    "    skel[skel>0]=1\n",
    "    return skel"
   ]
  },
  {
   "cell_type": "code",
   "execution_count": 6,
   "metadata": {},
   "outputs": [],
   "source": [
    "def get_fourier_discriptor(images_1, images_2, f1, f2, f_div):\n",
    "    \n",
    "    # Contour detection\n",
    "    contourf_0 = contour_fourier(images_1)\n",
    "    contourf_1 = contour_fourier(images_2)\n",
    "\n",
    "\n",
    "    FD_0_orig = np.zeros((10,2))\n",
    "    FD_1_orig = np.zeros((10,2))\n",
    "\n",
    "    for i in range(len(images_1)):\n",
    "\n",
    "        fft0 = np.fft.fft(contourf_0[i])#,n = N)\n",
    "        fft1 = np.fft.fft(contourf_1[i])#, n = N)\n",
    "\n",
    "\n",
    "        # normalization\n",
    "        if f_div == -1:\n",
    "            FD_0_orig[i,:]  = np.abs([fft0[f1],fft0[f2]])  # Translaton (Exclude f0), scaling (ratio)，and rotation(amplitude) invariances\n",
    "            FD_1_orig[i,:]  = np.abs([fft1[f1],fft1[f2]])\n",
    "                   \n",
    "        else:\n",
    "            FD_0_orig[i,:]  = np.abs([fft0[f1],fft0[f2]])/np.abs(fft0[f_div])  # Translaton (Exclude f0), scaling (ratio)，and rotation(amplitude) invariances\n",
    "            FD_1_orig[i,:]  = np.abs([fft1[f1],fft1[f2]])/np.abs(fft1[f_div])\n",
    "\n",
    "        # print(FD_0)\n",
    "    zeros = plt.scatter(FD_0_orig[:,0], FD_0_orig[:,1]) \n",
    "    ones = plt.scatter(FD_1_orig[:,0], FD_1_orig[:,1])\n",
    "    plt.legend((zeros,ones),(\"0\",\"1\"))\n",
    "    plt.show()\n",
    "    return FD_0_orig, FD_1_orig"
   ]
  },
  {
   "cell_type": "code",
   "execution_count": 7,
   "metadata": {},
   "outputs": [
    {
     "data": {
      "image/png": "[encoded data removed]",
      "text/plain": [
       "<Figure size 432x288 with 1 Axes>"
      ]
     },
     "metadata": {
      "needs_background": "light"
     },
     "output_type": "display_data"
    }
   ],
   "source": [
    "f1 = 3\n",
    "f2 = 5\n",
    "f_div = 1\n",
    "FD_0_orig, FD_1_orig = get_fourier_discriptor(zeros_im, ones_im, f1, f2, f_div)"
   ]
  },
  {
   "cell_type": "code",
   "execution_count": 8,
   "metadata": {},
   "outputs": [
    {
     "data": {
      "image/png": "[encoded data removed]",
      "text/plain": [
       "<Figure size 864x216 with 20 Axes>"
      ]
     },
     "metadata": {
      "needs_background": "light"
     },
     "output_type": "display_data"
    }
   ],
   "source": [
    "# Apply affine transformations with boolean flags\n",
    "rotation = True\n",
    "scaling = True\n",
    "translation = True\n",
    "\n",
    "im_af0 = []\n",
    "im_af1 = []\n",
    "\n",
    "for img0, img1, nm0, nm1 in zip(zeros_im, ones_im, zeros_names, ones_names):\n",
    "    img0 = affineTransform(img0, rotation, scaling, translation)\n",
    "    img1 = affineTransform(img1, rotation, scaling, translation)\n",
    "\n",
    "    im_af0.append(img0)\n",
    "    im_af1.append(img1)\n",
    "\n",
    "# Contour detection\n",
    "contourf_af0 = contour_fourier(im_af0)\n",
    "contourf_af1 = contour_fourier(im_af1)\n",
    "\n",
    "# Plots\n",
    "fig, axes = plt.subplots(2, len(zeros_im), figsize=(12, 3))\n",
    "plotImagContour(axes, contourf_af0, contourf_af1, im_af0, im_af1, zeros_names, ones_names)\n"
   ]
  },
  {
   "cell_type": "code",
   "execution_count": 9,
   "metadata": {},
   "outputs": [
    {
     "data": {
      "image/png": "[encoded data removed]",
      "text/plain": [
       "<Figure size 432x288 with 1 Axes>"
      ]
     },
     "metadata": {
      "needs_background": "light"
     },
     "output_type": "display_data"
    }
   ],
   "source": [
    "\n",
    "f1 = 3\n",
    "f2 = 5\n",
    "f_div = 1\n",
    "FD_0, FD_1 = get_fourier_discriptor(im_af0, im_af1, f1, f2, f_div)"
   ]
  },
  {
   "cell_type": "code",
   "execution_count": 10,
   "metadata": {},
   "outputs": [
    {
     "data": {
      "text/plain": [
       "<matplotlib.legend.Legend at 0x22abd4d9408>"
      ]
     },
     "execution_count": 10,
     "metadata": {},
     "output_type": "execute_result"
    },
    {
     "data": {
      "image/png": "[encoded data removed]",
      "text/plain": [
       "<Figure size 432x288 with 1 Axes>"
      ]
     },
     "metadata": {
      "needs_background": "light"
     },
     "output_type": "display_data"
    }
   ],
   "source": [
    "\n",
    "# Superimposed plot of original and transformed to test invariances\n",
    "zeros = plt.scatter(FD_0_orig[:,0],FD_0_orig[:,1]) \n",
    "ones = plt.scatter(FD_1_orig[:,0],FD_1_orig[:,1])\n",
    "zeros_tf = plt.scatter(FD_0[:,0],FD_0[:,1]) \n",
    "ones_tf = plt.scatter(FD_1[:,0],FD_1[:,1])\n",
    "plt.legend((zeros,zeros_tf,ones,ones_tf), (\"0\",\"0_transform\",\"1\", \"1_transform\"))"
   ]
  },
  {
   "cell_type": "markdown",
   "metadata": {},
   "source": [
    "### 1.3 Additional method(s)\n",
    "Add your implementation and discussion\n",
    "\n",
    "### Skeleton\n",
    "\n",
    "### PCA -- MS\n",
    "\n",
    "### Compacity -- CV\n",
    "\n",
    "\n",
    "\n",
    "### Moments -- WJ\n"
   ]
  },
  {
   "cell_type": "markdown",
   "metadata": {},
   "source": [
    "### Freeman Code\n"
   ]
  },
  {
   "cell_type": "code",
   "execution_count": 35,
   "metadata": {},
   "outputs": [
    {
     "data": {
      "image/png": "[encoded data removed]",
      "text/plain": [
       "<Figure size 432x288 with 1 Axes>"
      ]
     },
     "metadata": {
      "needs_background": "light"
     },
     "output_type": "display_data"
    }
   ],
   "source": [
    "# Code taken from pseudocode: http://www.cs.unca.edu/~reiser/imaging/chaincode.html \n",
    "def chain_code(im):\n",
    "    '''\n",
    "    Directions  0 1 2    Change in    -1  0  1   Change in    -1 -1 -1\n",
    "               7 x 3    x-dimension  -1  0  1   y-dimension   0  0  0\n",
    "               6 5 4                 -1  0  1                 1  1  1\n",
    "    '''\n",
    "    chain = []\n",
    "    contour = [] #just for debug\n",
    "    \n",
    "    im = im.copy()\n",
    "    \n",
    "    # Find the first pixel on the boundary of the object. \n",
    "    for r in range(0, im.shape[0]):\n",
    "        for c in range(0, im.shape[1]):\n",
    "            if im[r][c] == 255:\n",
    "                start_r = r\n",
    "                start_c = c\n",
    "                break\n",
    "    \n",
    "    # chain code\n",
    "    directions = [0, 1, 2, 7, 3, 6, 5, 4]\n",
    "    change_y = [-1, -1, -1, 0, 0, 1, 1, 1]\n",
    "    change_x = [-1, 0, 1, -1, 1, -1, 0, 1]\n",
    "    \n",
    "    r = start_r\n",
    "    c = start_c\n",
    "    \n",
    "    for index, d in enumerate(directions):\n",
    "        if im[start_r + change_y[index], start_c + change_x[index]] == 255:\n",
    "            r = start_r + change_y[index]\n",
    "            c = start_c + change_x[index]\n",
    "            contour.append((r, c))\n",
    "            chain.append(d)\n",
    "            break\n",
    "\n",
    "    while (r != start_r) or (c != start_c):\n",
    "        # decide where start\n",
    "        b_direction = (d + 5) % 8\n",
    "        dir1 = range(b_direction, 8)\n",
    "        dir2 = range(0, b_direction)\n",
    "        directions_ext = list(dir1) + list(dir2)\n",
    "        for d in directions_ext:\n",
    "            index = directions.index(d)\n",
    "            if im[r + change_y[index], c + change_x[index]] == 255:\n",
    "                r = r + change_y[index]\n",
    "                c = c + change_x[index] \n",
    "                contour.append((r, c))\n",
    "                chain.append(d)\n",
    "                break\n",
    "    \n",
    "    plt.imshow(im)\n",
    "    plt.plot([i[1] for i in contour], [i[0] for i in contour])\n",
    "    plt.show()\n",
    "    return chain\n",
    "\n",
    "chain_zero = chain_code(zeros_im[8])\n",
    "\n",
    "\n",
    "im_chain0 = []\n",
    "im_chain1 = []\n",
    "\n",
    "for img0, img1, nm0, nm1 in zip(zeros_im, ones_im, zeros_names, ones_names):\n",
    "    img0 = affineTransform(img0, rotation, scaling, translation)\n",
    "    img1 = affineTransform(img1, rotation, scaling, translation)\n",
    "\n",
    "    im_af0.append(img0)\n",
    "    im_af1.append(img1)\n",
    "\n",
    "# Contour detection\n",
    "contourf_af0 = contour_fourier(im_af0)\n",
    "contourf_af1 = contour_fourier(im_af1)\n",
    "\n",
    "# Plots\n",
    "fig, axes = plt.subplots(2, len(zeros_im), figsize=(12, 3))\n",
    "plotImagContour(axes, contourf_af0, contourf_af1, im_af0, im_af1, zeros_names, ones_names)"
   ]
  },
  {
   "cell_type": "markdown",
   "metadata": {},
   "source": [
    "### Elongation(Eclipse fitted)"
   ]
  },
  {
   "cell_type": "code",
   "execution_count": 12,
   "metadata": {},
   "outputs": [],
   "source": [
    "from skimage.measure import regionprops, label\n",
    "from matplotlib.patches import Ellipse"
   ]
  },
  {
   "cell_type": "code",
   "execution_count": 13,
   "metadata": {},
   "outputs": [],
   "source": [
    "def elongation_plot(img):\n",
    "    label_img = label(img)\n",
    "    [props] = regionprops(label_img)\n",
    "    fig, ax = plt.subplots()\n",
    "    ax.imshow(img, cmap=plt.cm.gray)\n",
    "    (y0, x0) = props.centroid\n",
    "    orientation = props.orientation\n",
    "    x1 = x0 + math.cos(orientation) * 0.5 * props.major_axis_length\n",
    "    y1 = y0 - math.sin(orientation) * 0.5 * props.major_axis_length\n",
    "    x2 = x0 - math.sin(orientation) * 0.5 * props.minor_axis_length\n",
    "    y2 = y0 - math.cos(orientation) * 0.5 * props.minor_axis_length\n",
    "\n",
    "    ax.plot((x0, x1), (y0, y1), '-r', linewidth=2.5)\n",
    "    ax.plot((x0, x2), (y0, y2), '-r', linewidth=2.5)\n",
    "    ax.plot(x0, y0, '.g', markersize=15)\n",
    "\n",
    "    ellipse = Ellipse(xy=(x0, y0), width=props.minor_axis_length, height=props.major_axis_length, angle = 90 - orientation/3.14*180,\n",
    "                        edgecolor='b', fc='None', lw=2)\n",
    "    ax.add_patch(ellipse)\n",
    "    plt.show()"
   ]
  },
  {
   "cell_type": "code",
   "execution_count": 14,
   "metadata": {},
   "outputs": [
    {
     "name": "stderr",
     "output_type": "stream",
     "text": [
      "C:\\Users\\costa\\Anaconda3\\lib\\site-packages\\skimage\\measure\\_regionprops.py:250: UserWarning: regionprops and image moments (including moments, normalized moments, central moments, and inertia tensor) of 2D images will change from xy coordinates to rc coordinates in version 0.16.\n",
      "See https://scikit-image.org/docs/0.14.x/release_notes_and_installation.html#deprecations for details on how to avoid this message.\n",
      "  warn(XY_TO_RC_DEPRECATION_MESSAGE)\n",
      "C:\\Users\\costa\\Anaconda3\\lib\\site-packages\\skimage\\measure\\_regionprops.py:260: UserWarning: regionprops and image moments (including moments, normalized moments, central moments, and inertia tensor) of 2D images will change from xy coordinates to rc coordinates in version 0.16.\n",
      "See https://scikit-image.org/docs/0.14.x/release_notes_and_installation.html#deprecations for details on how to avoid this message.\n",
      "  warn(XY_TO_RC_DEPRECATION_MESSAGE)\n"
     ]
    },
    {
     "data": {
      "image/png": "[encoded data removed]",
      "text/plain": [
       "<Figure size 432x288 with 1 Axes>"
      ]
     },
     "metadata": {
      "needs_background": "light"
     },
     "output_type": "display_data"
    }
   ],
   "source": [
    "elongation_plot(zeros_im[0])"
   ]
  },
  {
   "cell_type": "code",
   "execution_count": 15,
   "metadata": {},
   "outputs": [
    {
     "data": {
      "image/png": "[encoded data removed]",
      "text/plain": [
       "<Figure size 432x288 with 1 Axes>"
      ]
     },
     "metadata": {
      "needs_background": "light"
     },
     "output_type": "display_data"
    }
   ],
   "source": [
    "elongation_plot(ones_im[0])"
   ]
  },
  {
   "cell_type": "code",
   "execution_count": 16,
   "metadata": {},
   "outputs": [],
   "source": [
    "def cal_major_minor_axis(img):\n",
    "    label_img = label(img)\n",
    "    [props] = regionprops(label_img)\n",
    "    return [props.major_axis_length/props.minor_axis_length,props.minor_axis_length/props.major_axis_length]"
   ]
  },
  {
   "cell_type": "code",
   "execution_count": 17,
   "metadata": {},
   "outputs": [
    {
     "name": "stdout",
     "output_type": "stream",
     "text": [
      "[[1.66129393 0.60194044]\n",
      " [1.5628025  0.63987612]\n",
      " [1.53488475 0.65151471]\n",
      " [1.83045114 0.54631341]\n",
      " [1.65029954 0.6059506 ]\n",
      " [1.34649183 0.74267068]\n",
      " [1.10131561 0.90800492]\n",
      " [1.4681463  0.68113103]\n",
      " [1.10164699 0.90773179]\n",
      " [1.47438582 0.67824852]]\n"
     ]
    }
   ],
   "source": [
    "axis_length_zeros=[]\n",
    "for im in zeros_im:\n",
    "     axis_length_zeros.append(cal_major_minor_axis(im))\n",
    "axis_length_zeros = np.array(axis_length_zeros)\n",
    "print(axis_length_zeros)"
   ]
  },
  {
   "cell_type": "code",
   "execution_count": 18,
   "metadata": {},
   "outputs": [
    {
     "name": "stdout",
     "output_type": "stream",
     "text": [
      "[[5.29918444 0.18870828]\n",
      " [4.37390828 0.22862848]\n",
      " [5.64017952 0.17729932]\n",
      " [4.9248096  0.20305354]\n",
      " [5.11540097 0.1954881 ]\n",
      " [1.62458724 0.61554097]\n",
      " [4.7206662  0.21183451]\n",
      " [4.93789577 0.20251541]\n",
      " [3.86224166 0.25891699]\n",
      " [2.57718658 0.38802002]]\n"
     ]
    }
   ],
   "source": [
    "axis_length_ones=[]\n",
    "for im in ones_im:\n",
    "    el = cv2.getStructuringElement(cv2.MORPH_CROSS, (3,3))\n",
    "    im = ndimage.binary_opening(im,el )\n",
    "    axis_length_ones.append(cal_major_minor_axis(im))\n",
    "axis_length_ones = np.array(axis_length_ones)\n",
    "print(axis_length_ones)"
   ]
  },
  {
   "cell_type": "code",
   "execution_count": 19,
   "metadata": {},
   "outputs": [
    {
     "data": {
      "image/png": "[encoded data removed]",
      "text/plain": [
       "<Figure size 432x288 with 1 Axes>"
      ]
     },
     "metadata": {
      "needs_background": "light"
     },
     "output_type": "display_data"
    }
   ],
   "source": [
    "zeros = plt.scatter(axis_length_zeros[:,0], axis_length_zeros[:,1])\n",
    "ones = plt.scatter(axis_length_ones[:,0], axis_length_ones[:,1])\n",
    "plt.legend((zeros,ones),(\"0\",\"1\"))\n",
    "plt.show()"
   ]
  },
  {
   "cell_type": "markdown",
   "metadata": {},
   "source": [
    "Morphological Skeleton"
   ]
  },
  {
   "cell_type": "code",
   "execution_count": 20,
   "metadata": {},
   "outputs": [
    {
     "data": {
      "image/png": "[encoded data removed]",
      "text/plain": [
       "<Figure size 864x216 with 20 Axes>"
      ]
     },
     "metadata": {
      "needs_background": "light"
     },
     "output_type": "display_data"
    }
   ],
   "source": [
    "# Skeleton version 2\n",
    "def skeletonize2(im):\n",
    "    n = True\n",
    "    out = np.zeros(im.shape, np.uint8)\n",
    "    iter = 0\n",
    "    curr = im.copy()\n",
    "    topHatImage = np.zeros(im.shape, np.uint8)\n",
    "    el = cv2.getStructuringElement(cv2.MORPH_CROSS, (3,3)) #replace with square\n",
    "    while True:\n",
    "        curr = cv2.erode(curr, el, iterations = 1)\n",
    "        topHatImage = cv2.morphologyEx(curr, cv2.MORPH_TOPHAT, el)\n",
    "        out = np.add(out, topHatImage)\n",
    "        n = np.amax(curr) > 0\n",
    "        iter = iter + 1\n",
    "        if not n:\n",
    "            break\n",
    "    for x in range(0, out.shape[0]):\n",
    "        for y in range(0, out.shape[1]):\n",
    "            if out[x][y] > 0:\n",
    "                out[x][y] = 255.0\n",
    "            else:\n",
    "                out[x][y] = 0\n",
    "    return out\n",
    "    \n",
    "Sr_zeros_im = []\n",
    "Sr_ones_im = []\n",
    "for im0, im1 in zip(zeros_im, ones_im):\n",
    "    skel0 = skeletonize2(im0)\n",
    "    Sr_zeros_im.append(skel0) \n",
    "    skel1 = skeletonize2(im1)\n",
    "    Sr_ones_im.append(skel1)\n",
    "    \n",
    "fig, axes = plt.subplots(2, len(zeros_im), figsize=(12, 3))\n",
    "for ax, im, nm in zip(axes[0], Sr_zeros_im, zeros_names):\n",
    "    ax.imshow(im, cmap='gray')\n",
    "    ax.axis('off')\n",
    "    ax.set_title(nm)\n",
    "for ax, im, nm in zip(axes[1], Sr_ones_im, ones_names):\n",
    "    ax.imshow(im, cmap='gray')\n",
    "    ax.axis('off')\n",
    "    ax.set_title(nm)"
   ]
  },
  {
   "cell_type": "code",
   "execution_count": 21,
   "metadata": {},
   "outputs": [
    {
     "data": {
      "image/png": "[encoded data removed]",
      "text/plain": [
       "<Figure size 864x216 with 20 Axes>"
      ]
     },
     "metadata": {
      "needs_background": "light"
     },
     "output_type": "display_data"
    }
   ],
   "source": [
    "# Skeletonize images\n",
    "Sr_zeros_im = []\n",
    "Sr_ones_im = []\n",
    "for im0, im1 in zip(zeros_im, ones_im):\n",
    "    skel0 = skeletonize(im0)\n",
    "    Sr_zeros_im.append(skel0) \n",
    "    skel1 = skeletonize(im1)\n",
    "    Sr_ones_im.append(skel1)\n",
    "    \n",
    "fig, axes = plt.subplots(2, len(zeros_im), figsize=(12, 3))\n",
    "for ax, im, nm in zip(axes[0], Sr_zeros_im, zeros_names):\n",
    "    ax.imshow(im, cmap='gray')\n",
    "    ax.axis('off')\n",
    "    ax.set_title(nm)\n",
    "for ax, im, nm in zip(axes[1], Sr_ones_im, ones_names):\n",
    "    ax.imshow(im, cmap='gray')\n",
    "    ax.axis('off')\n",
    "    ax.set_title(nm)"
   ]
  },
  {
   "cell_type": "code",
   "execution_count": 22,
   "metadata": {
    "scrolled": true
   },
   "outputs": [
    {
     "data": {
      "image/png": "[encoded data removed]",
      "text/plain": [
       "<Figure size 432x288 with 1 Axes>"
      ]
     },
     "metadata": {
      "needs_background": "light"
     },
     "output_type": "display_data"
    },
    {
     "data": {
      "text/plain": [
       "<matplotlib.image.AxesImage at 0x22abe0698c8>"
      ]
     },
     "execution_count": 22,
     "metadata": {},
     "output_type": "execute_result"
    },
    {
     "data": {
      "image/png": "[encoded data removed]",
      "text/plain": [
       "<Figure size 432x288 with 1 Axes>"
      ]
     },
     "metadata": {
      "needs_background": "light"
     },
     "output_type": "display_data"
    }
   ],
   "source": [
    "# plot distance maps with mean skeleton\n",
    "mean_skel0 = np.array(np.mean(Sr_zeros_im,0))\n",
    "mean_skel1 = np.array(np.mean(Sr_ones_im,0))\n",
    "mean_skel0[mean_skel0>0] = 1\n",
    "mean_skel1[mean_skel1>0] = 1\n",
    "\n",
    "distance_map_0 = morphology.distance_transform_edt(1-mean_skel0)\n",
    "plt.imshow(distance_map_0, cmap ='gray')\n",
    "plt.show()\n",
    "distance_map_1 = morphology.distance_transform_edt(1-mean_skel1)\n",
    "plt.imshow(distance_map_1, cmap ='gray')"
   ]
  },
  {
   "cell_type": "code",
   "execution_count": 23,
   "metadata": {},
   "outputs": [
    {
     "name": "stdout",
     "output_type": "stream",
     "text": [
      "[[0.19262595 0.96101077]\n",
      " [0.17516152 1.05499408]\n",
      " [0.25916014 1.12231896]\n",
      " [0.31127863 0.82664408]\n",
      " [0.27156854 0.99056874]\n",
      " [0.31403966 1.27027762]\n",
      " [0.29067057 1.39405454]\n",
      " [0.35598386 1.32092506]\n",
      " [0.53592331 1.98456209]\n",
      " [0.25309837 0.93577874]]\n",
      "[[0.78086939 0.38251406]\n",
      " [0.76750189 0.27142624]\n",
      " [0.81595225 0.18256196]\n",
      " [0.8708424  0.17333333]\n",
      " [0.74449888 0.40691426]\n",
      " [0.61008046 0.42795166]\n",
      " [0.85826433 0.17578309]\n",
      " [0.71616759 0.33236852]\n",
      " [0.69660062 0.27691125]\n",
      " [0.63851612 0.38635707]]\n"
     ]
    },
    {
     "data": {
      "image/png": "[encoded data removed]",
      "text/plain": [
       "<Figure size 432x288 with 1 Axes>"
      ]
     },
     "metadata": {
      "needs_background": "light"
     },
     "output_type": "display_data"
    }
   ],
   "source": [
    "# Calculate image distances\n",
    "distance_zeros=[]\n",
    "for im in zeros_im:\n",
    "    distance_0 = np.sum(np.multiply(distance_map_0, im))/np.sum(im)\n",
    "    distance_1 = np.sum(np.multiply(distance_map_1, im))/np.sum(im)\n",
    "    distance_zeros.append([distance_0,distance_1])\n",
    "distance_zeros = np.array(distance_zeros)\n",
    "print(distance_zeros)\n",
    "distance_ones=[]\n",
    "for im in ones_im:\n",
    "    distance_0 = np.sum(np.multiply(distance_map_0, im))/np.sum(im)\n",
    "    distance_1 = np.sum(np.multiply(distance_map_1, im))/np.sum(im)\n",
    "    distance_ones.append([distance_0,distance_1])\n",
    "distance_ones = np.array(distance_ones)\n",
    "print(distance_ones)\n",
    "\n",
    "# plot distances from mean skeletons of 0s and 1s\n",
    "plt.scatter(distance_zeros[:,0],distance_zeros[:,1])\n",
    "plt.scatter(distance_ones[:,0],distance_ones[:,1])\n",
    "plt.show()"
   ]
  },
  {
   "cell_type": "markdown",
   "metadata": {},
   "source": [
    "#### Distance Map method + Contours"
   ]
  },
  {
   "cell_type": "code",
   "execution_count": 24,
   "metadata": {},
   "outputs": [
    {
     "data": {
      "text/plain": [
       "<matplotlib.image.AxesImage at 0x22abe130bc8>"
      ]
     },
     "execution_count": 24,
     "metadata": {},
     "output_type": "execute_result"
    },
    {
     "data": {
      "image/png": "[encoded data removed]",
      "text/plain": [
       "<Figure size 432x288 with 1 Axes>"
      ]
     },
     "metadata": {
      "needs_background": "light"
     },
     "output_type": "display_data"
    }
   ],
   "source": [
    "contours = np.array(measure.find_contours(ones_im[6], 0))[0]\n",
    "cont_1 = np.zeros_like(ones_im[0])\n",
    "cont_1[contours[:,0].astype(int),contours[:,1].astype(int)]=1\n",
    "plt.imshow(cont_1)"
   ]
  },
  {
   "cell_type": "code",
   "execution_count": 25,
   "metadata": {},
   "outputs": [
    {
     "data": {
      "text/plain": [
       "<matplotlib.image.AxesImage at 0x22abe0046c8>"
      ]
     },
     "execution_count": 25,
     "metadata": {},
     "output_type": "execute_result"
    },
    {
     "data": {
      "image/png": "[encoded data removed]",
      "text/plain": [
       "<Figure size 432x288 with 1 Axes>"
      ]
     },
     "metadata": {
      "needs_background": "light"
     },
     "output_type": "display_data"
    }
   ],
   "source": [
    "contours = np.array(measure.find_contours(zeros_im[7], 0))[0]\n",
    "cont_0 = np.zeros_like(zeros_im[0])\n",
    "cont_0[contours[:,0].astype(int),contours[:,1].astype(int)]=1\n",
    "plt.imshow(cont_0)"
   ]
  },
  {
   "cell_type": "code",
   "execution_count": 26,
   "metadata": {},
   "outputs": [
    {
     "data": {
      "text/plain": [
       "<matplotlib.image.AxesImage at 0x22abd57aa48>"
      ]
     },
     "execution_count": 26,
     "metadata": {},
     "output_type": "execute_result"
    },
    {
     "data": {
      "image/png": "[encoded data removed]",
      "text/plain": [
       "<Figure size 432x288 with 1 Axes>"
      ]
     },
     "metadata": {
      "needs_background": "light"
     },
     "output_type": "display_data"
    }
   ],
   "source": [
    "distance_map_0 = morphology.distance_transform_edt(1-cont_0)\n",
    "plt.imshow(distance_map_0, cmap ='gray')"
   ]
  },
  {
   "cell_type": "code",
   "execution_count": 27,
   "metadata": {},
   "outputs": [
    {
     "data": {
      "text/plain": [
       "<matplotlib.image.AxesImage at 0x22abd5f8a88>"
      ]
     },
     "execution_count": 27,
     "metadata": {},
     "output_type": "execute_result"
    },
    {
     "data": {
      "image/png": "[encoded data removed]",
      "text/plain": [
       "<Figure size 432x288 with 1 Axes>"
      ]
     },
     "metadata": {
      "needs_background": "light"
     },
     "output_type": "display_data"
    }
   ],
   "source": [
    "distance_map_1 = morphology.distance_transform_edt(1-cont_1)\n",
    "plt.imshow(distance_map_1, cmap ='gray')"
   ]
  },
  {
   "cell_type": "code",
   "execution_count": 28,
   "metadata": {},
   "outputs": [
    {
     "name": "stdout",
     "output_type": "stream",
     "text": [
      "[[ 52.3782036  167.14206195]\n",
      " [ 50.89949494 198.18137138]\n",
      " [ 53.1869126  214.59002257]\n",
      " [ 69.71172365 139.717819  ]\n",
      " [ 62.85033956 164.04882314]\n",
      " [ 48.14213562 262.21154073]\n",
      " [ 71.86295677 250.42663105]\n",
      " [  0.         237.74044007]\n",
      " [103.64130204 275.4926569 ]\n",
      " [ 67.15090264 176.51144141]]\n"
     ]
    }
   ],
   "source": [
    "distance_zeros=[]\n",
    "for im in zeros_im:\n",
    "    contours = np.array(measure.find_contours(im, 0))[0]\n",
    "    cont_0 = np.zeros_like(zeros_im[0])\n",
    "    cont_0[contours[:,0].astype(int),contours[:,1].astype(int)]=1\n",
    "    distance_0 = np.sum(np.multiply(distance_map_0, cont_0))\n",
    "    distance_1 = np.sum(np.multiply(distance_map_1, cont_0))\n",
    "    distance_zeros.append([distance_0,distance_1])\n",
    "distance_zeros = np.array(distance_zeros)\n",
    "print(distance_zeros)"
   ]
  },
  {
   "cell_type": "code",
   "execution_count": 29,
   "metadata": {},
   "outputs": [
    {
     "name": "stdout",
     "output_type": "stream",
     "text": [
      "[[147.31404441  96.06855194]\n",
      " [143.1467278   63.60112616]\n",
      " [144.39465813  48.48528137]\n",
      " [146.71996594  34.95084462]\n",
      " [141.69703754  89.76068131]\n",
      " [205.24054566 187.08262339]\n",
      " [139.38017717   0.        ]\n",
      " [150.81300833  87.15265196]\n",
      " [168.04586055  73.77654924]\n",
      " [185.43886437 111.05739419]]\n"
     ]
    }
   ],
   "source": [
    "distance_ones=[]\n",
    "for im in ones_im:\n",
    "    contours = np.array(measure.find_contours(im, 0))[0]\n",
    "    cont_1 = np.zeros_like(ones_im[0])\n",
    "    cont_1[contours[:,0].astype(int),contours[:,1].astype(int)]=1\n",
    "    distance_0 = np.sum(np.multiply(distance_map_0, cont_1))\n",
    "    distance_1 = np.sum(np.multiply(distance_map_1, cont_1))\n",
    "    distance_ones.append([distance_0,distance_1])\n",
    "distance_ones = np.array(distance_ones)\n",
    "print(distance_ones)"
   ]
  },
  {
   "cell_type": "code",
   "execution_count": 30,
   "metadata": {},
   "outputs": [
    {
     "data": {
      "image/png": "[encoded data removed]",
      "text/plain": [
       "<Figure size 432x288 with 1 Axes>"
      ]
     },
     "metadata": {
      "needs_background": "light"
     },
     "output_type": "display_data"
    }
   ],
   "source": [
    "plt.scatter(distance_zeros[:,0],distance_zeros[:,1])\n",
    "plt.scatter(distance_ones[:,0],distance_ones[:,1])\n",
    "plt.show()"
   ]
  },
  {
   "cell_type": "markdown",
   "metadata": {},
   "source": [
    "## PCA\n"
   ]
  },
  {
   "cell_type": "code",
   "execution_count": 31,
   "metadata": {
    "scrolled": true
   },
   "outputs": [
    {
     "data": {
      "text/plain": [
       "<matplotlib.collections.PathCollection at 0x22abd8f9bc8>"
      ]
     },
     "execution_count": 31,
     "metadata": {},
     "output_type": "execute_result"
    },
    {
     "data": {
      "image/png": "[encoded data removed]",
      "text/plain": [
       "<Figure size 432x288 with 1 Axes>"
      ]
     },
     "metadata": {
      "needs_background": "light"
     },
     "output_type": "display_data"
    }
   ],
   "source": [
    "# initializing the pca\n",
    "from sklearn import decomposition\n",
    "pca = decomposition.PCA()\n",
    "# configuring the parameteres\n",
    "# the number of components = 2\n",
    "pca.n_components = 2\n",
    "# zeros_im_data = zeros_im.reshape(10,-1)\n",
    "# zeros_im_data = zeros_im_data - np.mean(zeros_im_data,axis = 0)\n",
    "# ones_im_data = ones_im.reshape(10,-1)\n",
    "# ones_im_data = ones_im_data - np.mean(ones_im_data,axis = 0)\n",
    "\n",
    "pca0 = pca.fit_transform(np.array(Sr_zeros_im).reshape(10,-1))\n",
    "pca1 = pca.fit_transform(np.array(Sr_ones_im).reshape(10,-1))\n",
    "# pca_reduced will contain the 2-d projects of simple data\n",
    "plt.scatter(pca0[:,0],pca0[:,1])\n",
    "plt.scatter(pca1[:,0],pca1[:,1])"
   ]
  },
  {
   "cell_type": "markdown",
   "metadata": {},
   "source": [
    "## Part 2\n",
    "The `lab-02-data/part2` folder contains grey-scale pictures of handwritten \"2\" and \"3\".\n",
    "Extract the same feature (typically 2 Fourier descriptors) as in part 1 also on these images and plot them on the same graph as the features of the \"0\" and \"1\".\n",
    "Is it possible to discriminate all these 4 digits with a 2-dimensional feature vector?"
   ]
  },
  {
   "cell_type": "markdown",
   "metadata": {},
   "source": [
    "### 2.1 Data visualization"
   ]
  },
  {
   "cell_type": "code",
   "execution_count": 32,
   "metadata": {},
   "outputs": [
    {
     "data": {
      "image/png": "[encoded data removed]",
      "text/plain": [
       "<Figure size 864x216 with 20 Axes>"
      ]
     },
     "metadata": {
      "needs_background": "light"
     },
     "output_type": "display_data"
    }
   ],
   "source": [
    "#  Load zeros\n",
    "twos_path = os.path.join(data_base_path, data_folder, 'part2', '2')\n",
    "twos_names = [nm for nm in os.listdir(twos_path) if '.png' in nm]  # make sure to only load .png\n",
    "twos_names.sort()  # sort file names\n",
    "ic = skimage.io.imread_collection([os.path.join(twos_path, nm) for nm in twos_names])\n",
    "twos_im = skimage.io.concatenate_images(ic)\n",
    "#  Load ones\n",
    "threes_path = os.path.join(data_base_path, data_folder, 'part2', '3')\n",
    "threes_names = [nm for nm in os.listdir(threes_path) if '.png' in nm]  # make sure to only load .png\n",
    "threes_names.sort()  # sort file names\n",
    "ic = skimage.io.imread_collection(([os.path.join(threes_path, nm) for nm in threes_names]))\n",
    "threes_im = skimage.io.concatenate_images(ic)\n",
    "\n",
    "# Plot images\n",
    "fig, axes = plt.subplots(2, len(twos_im), figsize=(12, 3))\n",
    "for ax, im, nm in zip(axes[0], twos_im, twos_names):\n",
    "    ax.imshow(im, cmap='gray')\n",
    "    ax.axis('off')\n",
    "    ax.set_title(nm)\n",
    "for ax, im, nm in zip(axes[1], threes_im, threes_names):\n",
    "    ax.imshow(im, cmap='gray')\n",
    "    ax.axis('off')\n",
    "    ax.set_title(nm)"
   ]
  },
  {
   "cell_type": "markdown",
   "metadata": {},
   "source": [
    "### 2.2 Additional method(s) and conclusion\n",
    "Add your implementations and discussions here"
   ]
  },
  {
   "cell_type": "code",
   "execution_count": 33,
   "metadata": {},
   "outputs": [],
   "source": [
    "# Next meeting tentative April 7th!"
   ]
  },
  {
   "cell_type": "code",
   "execution_count": null,
   "metadata": {},
   "outputs": [],
   "source": []
  }
 ],
 "metadata": {
  "kernelspec": {
   "display_name": "Python 3",
   "language": "python",
   "name": "python3"
  },
  "language_info": {
   "codemirror_mode": {
    "name": "ipython",
    "version": 3
   },
   "file_extension": ".py",
   "mimetype": "text/x-python",
   "name": "python",
   "nbconvert_exporter": "python",
   "pygments_lexer": "ipython3",
   "version": "3.7.4"
  }
 },
 "nbformat": 4,
 "nbformat_minor": 4
}
