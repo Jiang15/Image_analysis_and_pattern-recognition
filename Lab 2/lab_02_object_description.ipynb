{
 "cells": [
  {
   "cell_type": "markdown",
   "metadata": {},
   "source": [
    "# [IAPR 2020:][iapr2020] Lab 2 ‒  Object description\n",
    "\n",
    "**Authors:** first_name_1 last_name_1, first_name_2 last_name_2, first_name_3 last_name_3  \n",
    "**Due date:** 24.04.2020\n",
    "\n",
    "[iapr2020]: https://github.com/LTS5/iapr-2020"
   ]
  },
  {
   "cell_type": "markdown",
   "metadata": {},
   "source": [
    "## Extract relevant data\n",
    "We first need to extract the `lab-02-data.tar.gz` archive.\n",
    "To this end, we use the [tarfile] module from the Python standard library.\n",
    "\n",
    "[tarfile]: https://docs.python.org/3.6/library/tarfile.html"
   ]
  },
  {
   "cell_type": "code",
   "execution_count": 1,
   "metadata": {},
   "outputs": [],
   "source": [
    "import tarfile\n",
    "import os\n",
    "\n",
    "data_base_path = os.path.join(os.pardir, 'data')\n",
    "data_folder = 'lab-02-data'\n",
    "tar_path = os.path.join(data_base_path, data_folder + '.tar.gz')\n",
    "with tarfile.open(tar_path, mode='r:gz') as tar:\n",
    "    tar.extractall(path=data_base_path)"
   ]
  },
  {
   "cell_type": "markdown",
   "metadata": {},
   "source": [
    "## Part 1\n",
    "In the `lab-02-data/part1` folder, you will find 28x28 grey-scale pictures of handwritten \"0\" and \"1\".\n",
    "These digits have been extracted from MNIST dataset (http://yann.lecun.com/exdb/mnist/).\n",
    "\n",
    "Your goal is to extract, from each of those images, a 2-dimensional feature vector (i.e. 2 features) and to plot them all on a 2D graph.\n",
    "If you have chosen good features, the vectors of the \"0\"'s should nicely cluster in one part of the plane and those of the \"1\"'s in another.\n",
    "\n",
    "Please try first the Fourier Descriptors.\n",
    "You can make several attempts: e.g. with and without invariance to rotation, translation, scaling, etc.\n",
    "You can also for instance rotate the images and assess the invariance in rotation.\n",
    "\n",
    "**Note:** for the Fourier descriptors, the u_k signal has to be constructed by following the contour point after point.\n",
    "Some pre-processing (image binarization, possibly some Mathematical Morphology) might be useful.\n",
    "\n",
    "Then feel free to try other features, the more you try, the better it will be (for you)."
   ]
  },
  {
   "cell_type": "markdown",
   "metadata": {},
   "source": [
    "### 1.1 Data visualization"
   ]
  },
  {
   "cell_type": "code",
   "execution_count": 42,
   "metadata": {},
   "outputs": [
    {
     "data": {
      "image/png": "[encoded data removed]",
      "text/plain": [
       "<Figure size 864x216 with 20 Axes>"
      ]
     },
     "metadata": {
      "needs_background": "light"
     },
     "output_type": "display_data"
    }
   ],
   "source": [
    "import skimage.io\n",
    "import matplotlib.pyplot as plt\n",
    "%matplotlib inline\n",
    "\n",
    "# Load images\n",
    "data_base_path = os.path.join(os.pardir, 'data')\n",
    "data_folder = 'lab-02-data'\n",
    "#  Load zeros\n",
    "zeros_path = os.path.join(data_base_path, data_folder, 'part1', '0')\n",
    "zeros_names = [nm for nm in os.listdir(zeros_path) if '.png' in nm]  # make sure to only load .png\n",
    "zeros_names.sort()  # sort file names\n",
    "ic = skimage.io.imread_collection([os.path.join(zeros_path, nm) for nm in zeros_names])\n",
    "zeros_im = skimage.io.concatenate_images(ic)\n",
    "#  Load ones\n",
    "ones_path = os.path.join(data_base_path, data_folder, 'part1', '1')\n",
    "ones_names = [nm for nm in os.listdir(ones_path) if '.png' in nm]  # make sure to only load .png\n",
    "ones_names.sort()  # sort file names\n",
    "ic = skimage.io.imread_collection(([os.path.join(ones_path, nm) for nm in ones_names]))\n",
    "ones_im = skimage.io.concatenate_images(ic)\n",
    "\n",
    "# Plot images\n",
    "fig, axes = plt.subplots(2, len(zeros_im), figsize=(12, 3))\n",
    "for ax, im, nm in zip(axes[0], zeros_im, zeros_names):\n",
    "    ax.imshow(im, cmap='gray')\n",
    "    ax.axis('off')\n",
    "    ax.set_title(nm)\n",
    "for ax, im, nm in zip(axes[1], ones_im, ones_names):\n",
    "    ax.imshow(im, cmap='gray')\n",
    "    ax.axis('off')\n",
    "    ax.set_title(nm)\n"
   ]
  },
  {
   "cell_type": "markdown",
   "metadata": {},
   "source": [
    "### 1.2 Fourier descriptors\n",
    "Add your implementation and discussion\n",
    "\n",
    "### Invariances rotation, translation, scaling -- MS, CV, WJ"
   ]
  },
  {
   "cell_type": "code",
   "execution_count": 43,
   "metadata": {},
   "outputs": [],
   "source": [
    "from skimage import feature\n",
    "import matplotlib.pyplot as plt\n",
    "import numpy as np\n",
    "from scipy import ndimage\n",
    "import skimage.measure as measure\n",
    "\n",
    "from skimage.transform import rotate, AffineTransform, warp\n",
    "import random\n",
    "import cv2\n",
    "import math"
   ]
  },
  {
   "cell_type": "code",
   "execution_count": 60,
   "metadata": {},
   "outputs": [],
   "source": [
    "# Helper functions\n",
    "# Convert contour into complex signals\n",
    "def convert_signal(contour):\n",
    "#     contour -= contour.mean() # do we demean the data?\n",
    "    output = np.zeros((np.array(contour).shape[0],1))\n",
    "    output = contour[:,1] + 1j*contour[:,0] \n",
    "    return output\n",
    "\n",
    "# Find outer contour and convert\n",
    "def contour_fourier(images):\n",
    "    contour_out = []\n",
    "    for im in images:\n",
    "        im = ndimage.binary_fill_holes(im)\n",
    "        contours = measure.find_contours(im, 0)\n",
    "        contour = sorted(contours, key=lambda x: len(x))[-1]\n",
    "        contour_out.append(convert_signal(contour))\n",
    "    return np.array(contour_out)\n",
    "\n",
    "\n",
    "\n",
    "# Helper functions to increase dataset\n",
    "\n",
    "def rotateImage(img):\n",
    "    # Test with different rotations (or we should just keep one? or all of them?)\n",
    "    # I have tried also with numpy e.g. np.rot90(img) but I got almost the same result\n",
    "    # skimage: from skimage import measure, transform\n",
    "    # a = transform.rotate(img, 90, resize=False, preserve_range=True).astype('uint8')\n",
    "    \n",
    "    r = random.randint(1, 3)\n",
    "    r = 1 # for testing\n",
    "    if (r == 1):\n",
    "        a = cv2.rotate(img, cv2.ROTATE_90_CLOCKWISE)\n",
    "    elif (r == 2):\n",
    "        a = cv2.rotate(img, cv2.ROTATE_90_COUNTERCLOCKWISE)\n",
    "    else:\n",
    "        a = cv2.rotate(img, cv2.ROTATE_180)\n",
    "    return a #the invariance seems not working (?)\n",
    "    \n",
    "    \n",
    "\n",
    "def translateImage(img):\n",
    "    x = random.randint(-2, 2)\n",
    "    y = random.randint(-2, 2)\n",
    "    shift = AffineTransform(translation=(x, y))\n",
    "    return warp(img, shift, mode=\"wrap\")\n",
    "    \n",
    "def scaleImage(img): # TODO: I will check and try to fix it\n",
    "    s = random.uniform(0.9, 1.1)\n",
    "    scaled = AffineTransform(scale=(s, s))\n",
    "    return warp(img, scaled, mode=\"wrap\")\n",
    "    \n",
    "def dataAugmentation(img):\n",
    "    '''\n",
    "    Return [original_img, rot_clockwise, rot_anticlockwise, translated, scaled]\n",
    "    '''\n",
    "    imgs = [img]\n",
    "    rot = rotateImage(img)\n",
    "    imgs.append(rot)\n",
    "    shifted = translateImage(img)\n",
    "    imgs.append(shifted)\n",
    "    scaled = scaleImage(img)\n",
    "    imgs.append(scaled)\n",
    "    return imgs\n",
    "\n",
    "def affineTransform(img, rotation, scaling, translation):\n",
    "    if rotation:\n",
    "        img = rotateImage(img)\n",
    "    if scaling:\n",
    "        img = scaleImage(img)\n",
    "    if translation:\n",
    "        img = translateImage(img)\n",
    "    return img\n",
    "\n",
    "\n",
    "# Plot images with contours\n",
    "def plotImagContour(axes, contourf_0, contourf_1, zeros_im, ones_im, zeros_names, ones_names):\n",
    "    for ax0, ax1, contour0, contour1,im0, im1, nm0, nm1 in zip(axes[0], axes[1], contourf_0, contourf_1, zeros_im, ones_im, zeros_names, ones_names):\n",
    "        ax0.imshow(im0)\n",
    "        ax0.step(np.real(contour0), np.imag(contour0), linewidth=2, c='r')\n",
    "        ax0.axis('off')\n",
    "        ax0.set_title(nm0)\n",
    "\n",
    "        ax1.imshow(im1)\n",
    "        ax1.step(np.real(contour1), np.imag(contour1), linewidth=2, c='r')\n",
    "        ax1.axis('off')\n",
    "        ax1.set_title(nm1)"
   ]
  },
  {
   "cell_type": "code",
   "execution_count": 61,
   "metadata": {},
   "outputs": [
    {
     "data": {
      "image/png": "[encoded data removed]",
      "text/plain": [
       "<Figure size 864x216 with 20 Axes>"
      ]
     },
     "metadata": {
      "needs_background": "light"
     },
     "output_type": "display_data"
    }
   ],
   "source": [
    "# Contour detection\n",
    "contourf_0 = contour_fourier(zeros_im)\n",
    "contourf_1 = contour_fourier(ones_im)\n",
    "\n",
    "# Plots\n",
    "fig, axes = plt.subplots(2, len(zeros_im), figsize=(12, 3))\n",
    "plotImagContour(axes, contourf_0, contourf_1, zeros_im, ones_im, zeros_names, ones_names)\n",
    "\n"
   ]
  },
  {
   "cell_type": "code",
   "execution_count": 62,
   "metadata": {
    "scrolled": true
   },
   "outputs": [
    {
     "data": {
      "image/png": "[encoded data removed]",
      "text/plain": [
       "<Figure size 864x216 with 20 Axes>"
      ]
     },
     "metadata": {
      "needs_background": "light"
     },
     "output_type": "display_data"
    }
   ],
   "source": [
    "# Apply affine transformations with boolean flags\n",
    "rotation = True\n",
    "scaling = False\n",
    "translation = False\n",
    "\n",
    "im_af0 = []\n",
    "im_af1 = []\n",
    "\n",
    "for img0, img1, nm0, nm1 in zip(zeros_im, ones_im, zeros_names, ones_names):\n",
    "    img0 = affineTransform (img0, rotation, scaling, translation)\n",
    "    img1 = affineTransform (img1, rotation, scaling, translation)\n",
    "    im_af0.append(img0)\n",
    "    im_af1.append(img1)\n",
    "\n",
    "# Contour detection\n",
    "contourf_af0 = contour_fourier(im_af0)\n",
    "contourf_af1 = contour_fourier(im_af1)\n",
    "\n",
    "# Plots\n",
    "fig, axes = plt.subplots(2, len(zeros_im), figsize=(12, 3))\n",
    "plotImagContour(axes, contourf_af0, contourf_af1, im_af0, im_af1, zeros_names, ones_names)\n"
   ]
  },
  {
   "cell_type": "code",
   "execution_count": 63,
   "metadata": {},
   "outputs": [
    {
     "data": {
      "text/plain": [
       "<matplotlib.collections.PathCollection at 0x11b5d79f240>"
      ]
     },
     "execution_count": 63,
     "metadata": {},
     "output_type": "execute_result"
    },
    {
     "data": {
      "image/png": "[encoded data removed]",
      "text/plain": [
       "<Figure size 432x288 with 1 Axes>"
      ]
     },
     "metadata": {
      "needs_background": "light"
     },
     "output_type": "display_data"
    }
   ],
   "source": [
    "# original images\n",
    "f1 = 1\n",
    "f2 = 3\n",
    "div = 5 # No division when set to -1\n",
    "# N = 30 # number of pts in fft\n",
    "\n",
    "FD_0 = np.zeros((10,2))\n",
    "FD_1 = np.zeros((10,2))\n",
    "\n",
    "for i in range(10):\n",
    "    fft0 = np.fft.fft(contourf_0[i])#,n = N)\n",
    "    fft1 = np.fft.fft(contourf_1[i])#, n = N)\n",
    "    fft0[-1] = 1\n",
    "    fft1[-1] = 1 \n",
    "\n",
    "    freq0 = np.fft.fftfreq(len(contourf_0[i]))\n",
    "    freq1 = np.fft.fftfreq(len(contourf_1[i]))\n",
    "        \n",
    "    # normalization\n",
    "    FD_0[i,:]  = np.abs([fft0[f1],fft0[f2]])/np.abs(fft0[div])  # Translaton (Exclude f0), scaling (ratio)，and rotation(amplitude) invariances\n",
    "    FD_1[i,:]  = np.abs([fft1[f1],fft1[f2]])/np.abs(fft1[div])\n",
    "        \n",
    "\n",
    "plt.scatter(FD_0[:,0],FD_0[:,1]) \n",
    "plt.scatter(FD_1[:,0],FD_1[:,1])\n"
   ]
  },
  {
   "cell_type": "code",
   "execution_count": 64,
   "metadata": {},
   "outputs": [
    {
     "data": {
      "text/plain": [
       "<matplotlib.collections.PathCollection at 0x11b5f163630>"
      ]
     },
     "execution_count": 64,
     "metadata": {},
     "output_type": "execute_result"
    },
    {
     "data": {
      "image/png": "[encoded data removed]",
      "text/plain": [
       "<Figure size 432x288 with 1 Axes>"
      ]
     },
     "metadata": {
      "needs_background": "light"
     },
     "output_type": "display_data"
    }
   ],
   "source": [
    "# Affine transformed images, scatter plot should match the previous ones if invariances are working!\n",
    "f1 = 1\n",
    "f2 = 3\n",
    "div = 5 # No division when set to -1\n",
    "\n",
    "FD_0 = np.zeros((10,2))\n",
    "FD_1 = np.zeros((10,2))\n",
    "\n",
    "for i in range(10):\n",
    "    fft0 = np.fft.fft(contourf_af0[i])#,n = N)\n",
    "    fft1 = np.fft.fft(contourf_af1[i])#, n = N)\n",
    "    fft0[-1] = 1\n",
    "    fft1[-1] = 1 \n",
    "\n",
    "    freq0 = np.fft.fftfreq(len(contourf_af0[i]))\n",
    "    freq1 = np.fft.fftfreq(len(contourf_af1[i]))\n",
    "        \n",
    "    # normalization\n",
    "    FD_0[i,:]  = np.abs([fft0[f1],fft0[f2]])/np.abs(fft0[div])  # Translaton (Exclude f0), scaling (ratio)，and rotation(amplitude) invariances\n",
    "    FD_1[i,:]  = np.abs([fft1[f1],fft1[f2]])/np.abs(fft1[div])\n",
    "        \n",
    "\n",
    "plt.scatter(FD_0[:,0],FD_0[:,1]) \n",
    "plt.scatter(FD_1[:,0],FD_1[:,1])\n",
    "\n",
    "\n"
   ]
  },
  {
   "cell_type": "code",
   "execution_count": 52,
   "metadata": {},
   "outputs": [
    {
     "data": {
      "image/png": "[encoded data removed]",
      "text/plain": [
       "<Figure size 432x288 with 1 Axes>"
      ]
     },
     "metadata": {
      "needs_background": "light"
     },
     "output_type": "display_data"
    },
    {
     "data": {
      "text/plain": [
       "<matplotlib.collections.PathCollection at 0x11b5dea0da0>"
      ]
     },
     "execution_count": 52,
     "metadata": {},
     "output_type": "execute_result"
    },
    {
     "data": {
      "image/png": "[encoded data removed]",
      "text/plain": [
       "<Figure size 432x288 with 1 Axes>"
      ]
     },
     "metadata": {
      "needs_background": "light"
     },
     "output_type": "display_data"
    }
   ],
   "source": [
    "# Test IFFT it appears we need DC component?? Also not perfect reconstruction even if using all fourier coeffs? \n",
    "# sampling points??\n",
    "i = 9\n",
    "R = np.fft.ifft([fft1[1:]])\n",
    "signal = contourf_1[i]\n",
    "xr = np.real(signal)\n",
    "yr = np.imag(signal)\n",
    "plt.scatter(xr,yr)\n",
    "plt.show()\n",
    "signal = R\n",
    "xr = np.real(signal)\n",
    "yr = np.imag(signal)\n",
    "plt.scatter(xr[xr>5],yr[xr>5])"
   ]
  },
  {
   "cell_type": "code",
   "execution_count": 51,
   "metadata": {},
   "outputs": [
    {
     "ename": "NameError",
     "evalue": "name 'contour' is not defined",
     "output_type": "error",
     "traceback": [
      "\u001b[1;31m---------------------------------------------------------------------------\u001b[0m",
      "\u001b[1;31mNameError\u001b[0m                                 Traceback (most recent call last)",
      "\u001b[1;32m<ipython-input-51-8757eae196c3>\u001b[0m in \u001b[0;36m<module>\u001b[1;34m\u001b[0m\n\u001b[0;32m      1\u001b[0m \u001b[1;31m# Checked the points are in successive order\u001b[0m\u001b[1;33m\u001b[0m\u001b[1;33m\u001b[0m\u001b[1;33m\u001b[0m\u001b[0m\n\u001b[1;32m----> 2\u001b[1;33m \u001b[1;32mfor\u001b[0m \u001b[0mi\u001b[0m \u001b[1;32min\u001b[0m \u001b[0mrange\u001b[0m\u001b[1;33m(\u001b[0m\u001b[0mlen\u001b[0m\u001b[1;33m(\u001b[0m\u001b[0mcontour\u001b[0m\u001b[1;33m)\u001b[0m\u001b[1;33m)\u001b[0m\u001b[1;33m:\u001b[0m\u001b[1;33m\u001b[0m\u001b[1;33m\u001b[0m\u001b[0m\n\u001b[0m\u001b[0;32m      3\u001b[0m     \u001b[0mplt\u001b[0m\u001b[1;33m.\u001b[0m\u001b[0mscatter\u001b[0m\u001b[1;33m(\u001b[0m\u001b[0mcontour\u001b[0m\u001b[1;33m[\u001b[0m\u001b[0mi\u001b[0m\u001b[1;33m,\u001b[0m\u001b[1;36m1\u001b[0m\u001b[1;33m]\u001b[0m\u001b[1;33m,\u001b[0m\u001b[0mcontour\u001b[0m\u001b[1;33m[\u001b[0m\u001b[0mi\u001b[0m\u001b[1;33m,\u001b[0m\u001b[1;36m0\u001b[0m\u001b[1;33m]\u001b[0m\u001b[1;33m,\u001b[0m \u001b[0mmarker\u001b[0m\u001b[1;33m=\u001b[0m\u001b[1;34m'x'\u001b[0m\u001b[1;33m,\u001b[0m \u001b[0mcolor\u001b[0m\u001b[1;33m=\u001b[0m\u001b[1;34m'red'\u001b[0m\u001b[1;33m)\u001b[0m\u001b[1;33m\u001b[0m\u001b[1;33m\u001b[0m\u001b[0m\n\u001b[0;32m      4\u001b[0m     \u001b[0mplt\u001b[0m\u001b[1;33m.\u001b[0m\u001b[0mtext\u001b[0m\u001b[1;33m(\u001b[0m\u001b[0mcontour\u001b[0m\u001b[1;33m[\u001b[0m\u001b[0mi\u001b[0m\u001b[1;33m,\u001b[0m\u001b[1;36m1\u001b[0m\u001b[1;33m]\u001b[0m\u001b[1;33m+\u001b[0m\u001b[1;36m.05\u001b[0m\u001b[1;33m,\u001b[0m \u001b[0mcontour\u001b[0m\u001b[1;33m[\u001b[0m\u001b[0mi\u001b[0m\u001b[1;33m,\u001b[0m\u001b[1;36m0\u001b[0m\u001b[1;33m]\u001b[0m\u001b[1;33m+\u001b[0m\u001b[1;36m.05\u001b[0m\u001b[1;33m,\u001b[0m \u001b[0mi\u001b[0m\u001b[1;33m,\u001b[0m \u001b[0mfontsize\u001b[0m\u001b[1;33m=\u001b[0m\u001b[1;36m9\u001b[0m\u001b[1;33m)\u001b[0m\u001b[1;33m\u001b[0m\u001b[1;33m\u001b[0m\u001b[0m\n\u001b[0;32m      5\u001b[0m \u001b[0mplt\u001b[0m\u001b[1;33m.\u001b[0m\u001b[0mshow\u001b[0m\u001b[1;33m(\u001b[0m\u001b[1;33m)\u001b[0m\u001b[1;33m\u001b[0m\u001b[1;33m\u001b[0m\u001b[0m\n",
      "\u001b[1;31mNameError\u001b[0m: name 'contour' is not defined"
     ]
    }
   ],
   "source": [
    "# Checked the points are in successive order\n",
    "for i in range(len(contour)):\n",
    "    plt.scatter(contour[i,1],contour[i,0], marker='x', color='red')\n",
    "    plt.text(contour[i,1]+.05, contour[i,0]+.05, i, fontsize=9)\n",
    "plt.show()\n"
   ]
  },
  {
   "cell_type": "markdown",
   "metadata": {},
   "source": [
    "### 1.3 Additional method(s)\n",
    "Add your implementation and discussion\n",
    "\n",
    "### Skeleton\n",
    "\n",
    "### PCA -- MS\n",
    "\n",
    "### Compacity -- CV\n",
    "\n",
    "### Freeman Code\n",
    "\n",
    "\n",
    "### Moments -- WJ\n"
   ]
  },
  {
   "cell_type": "markdown",
   "metadata": {},
   "source": [
    "## Part 2\n",
    "The `lab-02-data/part2` folder contains grey-scale pictures of handwritten \"2\" and \"3\".\n",
    "Extract the same feature (typically 2 Fourier descriptors) as in part 1 also on these images and plot them on the same graph as the features of the \"0\" and \"1\".\n",
    "Is it possible to discriminate all these 4 digits with a 2-dimensional feature vector?"
   ]
  },
  {
   "cell_type": "markdown",
   "metadata": {},
   "source": [
    "### 2.1 Data visualization"
   ]
  },
  {
   "cell_type": "code",
   "execution_count": null,
   "metadata": {},
   "outputs": [],
   "source": [
    "#  Load zeros\n",
    "twos_path = os.path.join(data_base_path, data_folder, 'part2', '2')\n",
    "twos_names = [nm for nm in os.listdir(twos_path) if '.png' in nm]  # make sure to only load .png\n",
    "twos_names.sort()  # sort file names\n",
    "ic = skimage.io.imread_collection([os.path.join(twos_path, nm) for nm in twos_names])\n",
    "twos_im = skimage.io.concatenate_images(ic)\n",
    "#  Load ones\n",
    "threes_path = os.path.join(data_base_path, data_folder, 'part2', '3')\n",
    "threes_names = [nm for nm in os.listdir(threes_path) if '.png' in nm]  # make sure to only load .png\n",
    "threes_names.sort()  # sort file names\n",
    "ic = skimage.io.imread_collection(([os.path.join(threes_path, nm) for nm in threes_names]))\n",
    "threes_im = skimage.io.concatenate_images(ic)\n",
    "\n",
    "# Plot images\n",
    "fig, axes = plt.subplots(2, len(twos_im), figsize=(12, 3))\n",
    "for ax, im, nm in zip(axes[0], twos_im, twos_names):\n",
    "    ax.imshow(im, cmap='gray')\n",
    "    ax.axis('off')\n",
    "    ax.set_title(nm)\n",
    "for ax, im, nm in zip(axes[1], threes_im, threes_names):\n",
    "    ax.imshow(im, cmap='gray')\n",
    "    ax.axis('off')\n",
    "    ax.set_title(nm)"
   ]
  },
  {
   "cell_type": "markdown",
   "metadata": {},
   "source": [
    "### 2.2 Additional method(s) and conclusion\n",
    "Add your implementations and discussions here"
   ]
  },
  {
   "cell_type": "code",
   "execution_count": null,
   "metadata": {},
   "outputs": [],
   "source": [
    "# Next meeting tentative April 7th!"
   ]
  },
  {
   "cell_type": "code",
   "execution_count": null,
   "metadata": {},
   "outputs": [],
   "source": []
  }
 ],
 "metadata": {
  "kernelspec": {
   "display_name": "Python 3",
   "language": "python",
   "name": "python3"
  },
  "language_info": {
   "codemirror_mode": {
    "name": "ipython",
    "version": 3
   },
   "file_extension": ".py",
   "mimetype": "text/x-python",
   "name": "python",
   "nbconvert_exporter": "python",
   "pygments_lexer": "ipython3",
   "version": "3.7.3"
  }
 },
 "nbformat": 4,
 "nbformat_minor": 2
}
