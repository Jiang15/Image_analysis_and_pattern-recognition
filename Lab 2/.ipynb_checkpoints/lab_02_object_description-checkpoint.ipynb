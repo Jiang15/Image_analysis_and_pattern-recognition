{
 "cells": [
  {
   "cell_type": "markdown",
   "metadata": {},
   "source": [
    "# [IAPR 2020:][iapr2020] Lab 2 ‒  Object description\n",
    "\n",
    "**Authors:** Wei JIANG, Minghui SHI, Costanza VOLPINI\n",
    "\n",
    "**Due date:** 24.04.2020\n",
    "\n",
    "[iapr2020]: https://github.com/LTS5/iapr-2020"
   ]
  },
  {
   "cell_type": "markdown",
   "metadata": {},
   "source": [
    "## Extract relevant data\n",
    "We first need to extract the `lab-02-data.tar.gz` archive.\n",
    "To this end, we use the [tarfile] module from the Python standard library.\n",
    "\n",
    "[tarfile]: https://docs.python.org/3.6/library/tarfile.html"
   ]
  },
  {
   "cell_type": "code",
   "execution_count": 4,
   "metadata": {},
   "outputs": [],
   "source": [
    "import tarfile\n",
    "import os\n",
    "\n",
    "data_base_path = os.path.join(os.pardir, 'data')\n",
    "data_folder = 'lab-02-data'\n",
    "tar_path = os.path.join(data_base_path, data_folder + '.tar.gz')\n",
    "with tarfile.open(tar_path, mode='r:gz') as tar:\n",
    "    tar.extractall(path=data_base_path)"
   ]
  },
  {
   "cell_type": "code",
   "execution_count": 5,
   "metadata": {},
   "outputs": [],
   "source": [
    "# Additional imports\n",
    "from skimage import feature\n",
    "import matplotlib.pyplot as plt\n",
    "from mpl_toolkits.mplot3d import Axes3D\n",
    "import numpy as np\n",
    "from scipy import ndimage\n",
    "import skimage.measure as measure\n",
    "\n",
    "from skimage.transform import rotate, AffineTransform, warp\n",
    "import random\n",
    "import cv2\n",
    "import math\n",
    "from numpy.linalg import inv\n",
    "\n",
    "from scipy.interpolate import Rbf\n",
    "from scipy.ndimage import morphology\n",
    "\n",
    "from skimage.measure import regionprops, label\n",
    "from matplotlib.patches import Ellipse\n",
    "import plotly.express as px\n",
    "import pandas as pd\n",
    "from sklearn import decomposition"
   ]
  },
  {
   "cell_type": "code",
   "execution_count": 6,
   "metadata": {},
   "outputs": [],
   "source": [
    "# Helper functions\n",
    "\n",
    "# Convert contour into complex signals\n",
    "def convert_signal(contour):\n",
    "    '''\n",
    "        Args: \n",
    "            contour: contour coordiante of images\n",
    "        outputs:\n",
    "            complex signal representation of contour\n",
    "    '''\n",
    "    output = np.zeros((np.array(contour).shape[0],1))\n",
    "    output = contour[:,1] + 1j*contour[:,0] \n",
    "    return output\n",
    "\n",
    "# Find outer contour and convert\n",
    "def contour_fourier(images):\n",
    "    '''\n",
    "        Args: \n",
    "            images: input images\n",
    "        outputs:\n",
    "            contours of the images\n",
    "    '''\n",
    "    contour_out = []\n",
    "    for im in images: \n",
    "        im = ndimage.binary_fill_holes(im) \n",
    "        im[im>0] =255\n",
    "        contours = measure.find_contours(im, 0)\n",
    "        contour = sorted(contours, key=lambda x: len(x))[-1]\n",
    "        contour_out.append(convert_signal(contour))\n",
    "    return np.array(contour_out)\n",
    "\n",
    "\n",
    "\n",
    "# Affine transform Helper functions: convertImg, affineTransform\n",
    "# Convert image coordinates to matrix\n",
    "def convertImg(img):   \n",
    "    N = img.shape[0]\n",
    "    # zero padding\n",
    "    if N%2 == 0:\n",
    "        img = np.pad(img, ((5,6),(5,6)), mode='constant',constant_values=0)\n",
    "        N+=11\n",
    "    else:\n",
    "        img = np.pad(img, ((5,5),(5,5)), mode='constant',constant_values=0)\n",
    "        N+=10\n",
    "    x = np.arange(-(N//2), N//2+1)\n",
    "    y = np.arange(-(N//2), N//2+1)\n",
    "\n",
    "\n",
    "    xx, yy = np.meshgrid(x, y)\n",
    "    out = []\n",
    "    out.append(xx.reshape([1,-1]))\n",
    "    out.append(yy.reshape([1,-1]))\n",
    "    out.append(np.ones(yy.reshape([1,-1]).shape))\n",
    "    out = np.array(out).squeeze()\n",
    "    return xx,yy,img,out\n",
    "\n",
    "def affineTransform(img, rotation, scaling, translation):\n",
    "\n",
    "    xx,yy,img,imgvec = convertImg(img)\n",
    "    # rotation\n",
    "    if rotation:\n",
    "        theta =  random.uniform(-np.pi, np.pi)\n",
    "        a0 = 0\n",
    "        a1 = math.cos(theta)\n",
    "        a2 = math.sin(theta)\n",
    "        b0 = 0\n",
    "        b1 = -math.sin(theta)\n",
    "        b2 = math.cos(theta)\n",
    "        operator = np.array([[a1, a2, a0],[b1, b2, b0], [0, 0, 1]])\n",
    "        imgvec = inv(operator) @ imgvec\n",
    "    # scaling\n",
    "    if scaling:\n",
    "        s =  random.uniform(0.8, 1.2)\n",
    "        a0 = 0\n",
    "        a1 = 1/s\n",
    "        a2 = 0\n",
    "        b0 = 0\n",
    "        b1 = 0\n",
    "        b2 = 1/s \n",
    "        operator = np.array([[a1, a2, a0],[b1, b2, b0], [0, 0, 1]])\n",
    "        imgvec = inv(operator) @ imgvec\n",
    "    # translation\n",
    "    if translation:\n",
    "        tx =  random.randint(-2, 2)\n",
    "        ty =  random.randint(-2, 2)\n",
    "        a0 = -tx\n",
    "        a1 = 1\n",
    "        a2 = 0\n",
    "        b0 = -ty\n",
    "        b1 = 0\n",
    "        b2 = 1        \n",
    "        operator = np.array([[a1, a2, a0],[b1, b2, b0], [0, 0, 1]])\n",
    "        imgvec = inv(operator) @ imgvec\n",
    "    xt = imgvec[0,:]\n",
    "    yt = imgvec[1,:]\n",
    "    \n",
    "    # interpolation\n",
    "    rbf = Rbf(xx, yy, img, epsilon=2)\n",
    "    imgt = rbf(xt, yt)\n",
    "    \n",
    "    # normalize and threshold\n",
    "    imgt = imgt- imgt.min()\n",
    "    imgt = imgt/ (imgt.max()-imgt.min())\n",
    "    t = 0.4\n",
    "    imgt[imgt>= t] = 1\n",
    "    imgt[imgt<t] = 0\n",
    "    imgt = imgt*255\n",
    "    \n",
    "    return imgt.reshape(xx.shape)\n",
    "\n",
    "\n",
    "# Plot images with contours\n",
    "def plotImagContour(axes, contourf_0, contourf_1, zeros_im, ones_im, zeros_names, ones_names):\n",
    "    for ax0, ax1, contour0, contour1,im0, im1, nm0, nm1 in zip(axes[0], axes[1], contourf_0, contourf_1, zeros_im, ones_im, zeros_names, ones_names):\n",
    "        ax0.imshow(im0)\n",
    "        ax0.step(np.real(contour0), np.imag(contour0), linewidth=2, c='r')\n",
    "        ax0.axis('off')\n",
    "        ax0.set_title(nm0)\n",
    "\n",
    "        ax1.imshow(im1)\n",
    "        ax1.step(np.real(contour1), np.imag(contour1), linewidth=2, c='r')\n",
    "        ax1.axis('off')\n",
    "        ax1.set_title(nm1)\n",
    "        \n",
    "        \n",
    "# Skeletonize\n",
    "def skeletonize(im):\n",
    "    element = cv2.getStructuringElement(cv2.MORPH_CROSS, (3,3))\n",
    "    size = np.size(im)\n",
    "    skel = np.zeros(im.shape, np.uint8)\n",
    "    while True:\n",
    "        eroded = cv2.erode(im, element)\n",
    "        im = eroded.copy()\n",
    "        if cv2.countNonZero(im)==0:\n",
    "            break\n",
    "        open = cv2.morphologyEx(eroded, cv2.MORPH_OPEN, element)\n",
    "        temp = cv2.subtract(eroded, open)\n",
    "        skel = cv2.bitwise_or(skel,temp)\n",
    "    skel[skel>0]=1\n",
    "    return skel\n",
    "\n",
    "# Fourier Descriptor\n",
    "\n",
    "def get_fourier_descriptor(images_1, images_2, f1, f2, f_div, plot = False):\n",
    "    # Contour detection\n",
    "    contourf_0 = contour_fourier(images_1)\n",
    "    contourf_1 = contour_fourier(images_2)\n",
    "\n",
    "\n",
    "    FD_0 = np.zeros((10,2))\n",
    "    FD_1 = np.zeros((10,2))\n",
    "\n",
    "    for i in range(len(images_1)):\n",
    "\n",
    "        fft0 = np.fft.fft(contourf_0[i])#,n = N)\n",
    "        fft1 = np.fft.fft(contourf_1[i])#, n = N)\n",
    "\n",
    "        # normalization\n",
    "        if f_div == -1:\n",
    "            FD_0[i,:]  = np.abs([fft0[f1],fft0[f2]])  # Translaton (Exclude f0), scaling (ratio)，and rotation(amplitude) invariances\n",
    "            FD_1[i,:]  = np.abs([fft1[f1],fft1[f2]])\n",
    "                   \n",
    "        else:\n",
    "            FD_0[i,:]  = np.abs([fft0[f1],fft0[f2]])/np.abs(fft0[f_div])  # Translaton (Exclude f0), scaling (ratio)，and rotation(amplitude) invariances\n",
    "            FD_1[i,:]  = np.abs([fft1[f1],fft1[f2]])/np.abs(fft1[f_div])\n",
    "    if plot:\n",
    "        zeros = plt.scatter(FD_0[:,0], FD_0[:,1]) \n",
    "        ones = plt.scatter(FD_1[:,0], FD_1[:,1])\n",
    "        plt.legend((zeros,ones),(\"0\",\"1\"))\n",
    "        plt.show()\n",
    "    return FD_0, FD_1\n",
    "\n",
    "# Get 3 Fourier Descriptors\n",
    "\n",
    "def get_fourier_descriptor_3(images_1, images_2, images_3, images_4, f1, f2, f3, f_div, plot = False):\n",
    "    \n",
    "    # Contour detection\n",
    "    contourf_0 = contour_fourier(images_1)\n",
    "    contourf_1 = contour_fourier(images_2)\n",
    "    contourf_2 = contour_fourier(images_3)\n",
    "    contourf_3 = contour_fourier(images_4)\n",
    "\n",
    "    FD_0 = np.zeros((10,3))\n",
    "    FD_1 = np.zeros((10,3))\n",
    "    FD_2 = np.zeros((10,3))\n",
    "    FD_3 = np.zeros((10,3))\n",
    "    \n",
    "    for i in range(len(images_1)):\n",
    "\n",
    "        fft0 = np.fft.fft(contourf_0[i])#,n = N)\n",
    "        fft1 = np.fft.fft(contourf_1[i])#, n = N)\n",
    "        \n",
    "        fft2 = np.fft.fft(contourf_2[i])#,n = N)\n",
    "        fft3 = np.fft.fft(contourf_3[i])#, n = N)\n",
    "        \n",
    "        # normalization\n",
    "        if f_div == -1:\n",
    "            FD_0[i,:]  = np.abs([fft0[f1],fft0[f2],fft0[f3]] )  # Translaton (Exclude f0), scaling (ratio)，and rotation(amplitude) invariances\n",
    "            FD_1[i,:]  = np.abs([fft1[f1],fft1[f2],fft1[f3]] )\n",
    "            FD_2[i,:]  = np.abs([fft2[f1],fft2[f2],fft2[f3]] )  # Translaton (Exclude f0), scaling (ratio)，and rotation(amplitude) invariances\n",
    "            FD_3[i,:]  = np.abs([fft3[f1],fft3[f2],fft3[f3]])      \n",
    "        else:\n",
    "            FD_0[i,:]  = np.abs([fft0[f1],fft0[f2],fft0[f3]])/np.abs(fft0[f_div])  # Translaton (Exclude f0), scaling (ratio)，and rotation(amplitude) invariances\n",
    "            FD_1[i,:]  = np.abs([fft1[f1],fft1[f2],fft1[f3]] )/np.abs(fft1[f_div])\n",
    "            FD_2[i,:]  = np.abs([fft2[f1],fft2[f2],fft2[f3]] )/np.abs(fft2[f_div])  # Translaton (Exclude f0), scaling (ratio)，and rotation(amplitude) invariances\n",
    "            FD_3[i,:]  = np.abs([fft3[f1],fft3[f2],fft3[f3]] )/np.abs(fft3[f_div])  \n",
    "\n",
    "    return FD_0, FD_1, FD_2, FD_3\n",
    "\n",
    "# Chain code calculation (Freeman code)\n",
    "# Code taken from pseudocode: http://www.cs.unca.edu/~reiser/imaging/chaincode.html \n",
    "def chain_code(im):\n",
    "    '''\n",
    "    Directions  0 1 2    Change in    -1  0  1   Change in    -1 -1 -1\n",
    "               7 x 3    x-dimension  -1  0  1   y-dimension   0  0  0\n",
    "               6 5 4                 -1  0  1                 1  1  1\n",
    "    '''\n",
    "    chain = []\n",
    "    contour = [] #just for debug\n",
    "    \n",
    "    im = im.copy()\n",
    "    start_r = 0\n",
    "    start_c = 0\n",
    "    # Find the first pixel on the boundary of the object. \n",
    "    for r in range(0, im.shape[0]):\n",
    "        for c in range(0, im.shape[1]):\n",
    "            if im[r][c] == 255:\n",
    "                start_r = r\n",
    "                start_c = c\n",
    "                break\n",
    "    \n",
    "    # chain code\n",
    "    directions = [0, 1, 2, 7, 3, 6, 5, 4]\n",
    "    change_y = [-1, -1, -1, 0, 0, 1, 1, 1]\n",
    "    change_x = [-1, 0, 1, -1, 1, -1, 0, 1]\n",
    "    \n",
    "    r = start_r\n",
    "    c = start_c\n",
    "    \n",
    "    for index, d in enumerate(directions):\n",
    "        if im[start_r + change_y[index], start_c + change_x[index]] == 255:\n",
    "            r = start_r + change_y[index]\n",
    "            c = start_c + change_x[index]\n",
    "            contour.append((r, c))\n",
    "            chain.append(d)\n",
    "            break\n",
    "\n",
    "    while (r != start_r) or (c != start_c):\n",
    "        # decide where start\n",
    "        b_direction = (d + 5) % 8\n",
    "        dir1 = range(b_direction, 8)\n",
    "        dir2 = range(0, b_direction)\n",
    "        directions_ext = list(dir1) + list(dir2)\n",
    "        for d in directions_ext:\n",
    "            index = directions.index(d)\n",
    "            if im[r + change_y[index], c + change_x[index]] == 255:\n",
    "                r = r + change_y[index]\n",
    "                c = c + change_x[index] \n",
    "                contour.append((r, c))\n",
    "                chain.append(d)\n",
    "                break\n",
    "    return chain\n",
    "\n",
    "# Edition distance calculation\n",
    "# inspired by pseudo code on wikipedia: https://en.wikipedia.org/wiki/Wagner%E2%80%93Fischer_algorithm\n",
    "def editDistance(c1, c2):\n",
    "    m = len(c1)\n",
    "    n = len(c2)\n",
    "    D = np.zeros([m,n])\n",
    "    D[0,:] = range(n)\n",
    "    D[:,0] = range(m)\n",
    "    for i in range(1,m):\n",
    "        for j in range(1,n):\n",
    "            if c1[i] == c2[j]:\n",
    "                D[i,j] = D[i-1, j-1]\n",
    "            else:\n",
    "                D[i,j]= np.min([D[i-1,j]+1, D[i,j-1]+1, D[i-1,j-1] + 1])\n",
    "    return D[m-1,n-1]\n",
    "\n",
    "# Elongation (Eclipse fitted) calculation and plot\n",
    "def elongation_plot(img):\n",
    "    label_img = label(img)\n",
    "    [props] = regionprops(img)\n",
    "    fig, ax = plt.subplots()\n",
    "    ax.imshow(img, cmap=plt.cm.gray)\n",
    "    (y0, x0) = props.centroid\n",
    "    orientation = props.orientation\n",
    "    x1 = x0 + math.cos(orientation) * 0.5 * props.major_axis_length\n",
    "    y1 = y0 - math.sin(orientation) * 0.5 * props.major_axis_length\n",
    "    x2 = x0 - math.sin(orientation) * 0.5 * props.minor_axis_length\n",
    "    y2 = y0 - math.cos(orientation) * 0.5 * props.minor_axis_length\n",
    "\n",
    "    ax.plot((x0, x1), (y0, y1), '-r', linewidth=2.5)\n",
    "    ax.plot((x0, x2), (y0, y2), '-r', linewidth=2.5)\n",
    "    ax.plot(x0, y0, '.g', markersize=15)\n",
    "\n",
    "    ellipse = Ellipse(xy=(x0, y0), width=props.minor_axis_length, height=props.major_axis_length, angle = 90 - orientation/3.14*180,\n",
    "                        edgecolor='b', fc='None', lw=2)\n",
    "    ax.add_patch(ellipse)\n",
    "    plt.show()\n",
    "\n",
    "# Rotate image\n",
    "def rotate(img, theta):\n",
    "    xx,yy,img,imgvec = convertImg(img)\n",
    "    # rotation\n",
    "    if rotation:\n",
    "        a0 = 0\n",
    "        a1 = math.cos(theta)\n",
    "        a2 = math.sin(theta)\n",
    "        b0 = 0\n",
    "        b1 = -math.sin(theta)\n",
    "        b2 = math.cos(theta)\n",
    "        operator = np.array([[a1, a2, a0],[b1, b2, b0], [0, 0, 1]])\n",
    "        imgvec = inv(operator) @ imgvec\n",
    "    xt = imgvec[0,:]\n",
    "    yt = imgvec[1,:]\n",
    "    \n",
    "    # interpolation\n",
    "    rbf = Rbf(xx, yy, img, epsilon=2)\n",
    "    imgt = rbf(xt, yt)   \n",
    "    # normalize and threshold\n",
    "    imgt = imgt- imgt.min()\n",
    "    imgt = imgt/ (imgt.max()-imgt.min())\n",
    "    t = 0.4\n",
    "    imgt[imgt>= t] = 1\n",
    "    imgt[imgt<t] = 0\n",
    "    imgt = imgt*255 \n",
    "    return imgt.reshape(xx.shape)\n",
    "\n",
    "# Calculate chamfer distance map from image\n",
    "def get_distance_map(img):\n",
    "    contours = np.array(measure.find_contours(img, 0))[0]\n",
    "    cont = np.zeros_like(img)\n",
    "    cont[contours[:,0].astype(int),contours[:,1].astype(int)]=1\n",
    "\n",
    "    # Chamfer distance maps\n",
    "    return morphology.distance_transform_cdt(1-cont)\n"
   ]
  },
  {
   "cell_type": "markdown",
   "metadata": {},
   "source": [
    "## Part 1\n",
    "In the `lab-02-data/part1` folder, you will find 28x28 grey-scale pictures of handwritten \"0\" and \"1\".\n",
    "These digits have been extracted from MNIST dataset (http://yann.lecun.com/exdb/mnist/).\n",
    "\n",
    "Your goal is to extract, from each of those images, a 2-dimensional feature vector (i.e. 2 features) and to plot them all on a 2D graph.\n",
    "If you have chosen good features, the vectors of the \"0\"'s should nicely cluster in one part of the plane and those of the \"1\"'s in another.\n",
    "\n",
    "Please try first the Fourier Descriptors.\n",
    "You can make several attempts: e.g. with and without invariance to rotation, translation, scaling, etc.\n",
    "You can also for instance rotate the images and assess the invariance in rotation.\n",
    "\n",
    "**Note:** for the Fourier descriptors, the u_k signal has to be constructed by following the contour point after point.\n",
    "Some pre-processing (image binarization, possibly some Mathematical Morphology) might be useful.\n",
    "\n",
    "Then feel free to try other features, the more you try, the better it will be (for you)."
   ]
  },
  {
   "cell_type": "markdown",
   "metadata": {},
   "source": [
    "### 1.1 Data visualization"
   ]
  },
  {
   "cell_type": "code",
   "execution_count": 10,
   "metadata": {},
   "outputs": [
    {
     "data": {
      "image/png": "[encoded data removed]",
      "text/plain": [
       "<Figure size 864x216 with 20 Axes>"
      ]
     },
     "metadata": {
      "needs_background": "light"
     },
     "output_type": "display_data"
    }
   ],
   "source": [
    "import skimage.io\n",
    "import matplotlib.pyplot as plt\n",
    "%matplotlib inline\n",
    "\n",
    "# Load images\n",
    "data_base_path = os.path.join(os.pardir, 'data')\n",
    "data_folder = 'lab-02-data'\n",
    "#  Load zeros\n",
    "zeros_path = os.path.join(data_base_path, data_folder, 'part1', '0')\n",
    "zeros_names = [nm for nm in os.listdir(zeros_path) if '.png' in nm]  # make sure to only load .png\n",
    "zeros_names.sort()  # sort file names\n",
    "ic = skimage.io.imread_collection([os.path.join(zeros_path, nm) for nm in zeros_names])\n",
    "zeros_im = skimage.io.concatenate_images(ic)\n",
    "#  Load ones\n",
    "ones_path = os.path.join(data_base_path, data_folder, 'part1', '1')\n",
    "ones_names = [nm for nm in os.listdir(ones_path) if '.png' in nm]  # make sure to only load .png\n",
    "ones_names.sort()  # sort file names\n",
    "ic = skimage.io.imread_collection(([os.path.join(ones_path, nm) for nm in ones_names]))\n",
    "ones_im = skimage.io.concatenate_images(ic)\n",
    "\n",
    "# Plot images\n",
    "fig, axes = plt.subplots(2, len(zeros_im), figsize=(12, 3))\n",
    "for ax, im, nm in zip(axes[0], zeros_im, zeros_names):\n",
    "    ax.imshow(im, cmap='gray')\n",
    "    ax.axis('off')\n",
    "    ax.set_title(nm)\n",
    "for ax, im, nm in zip(axes[1], ones_im, ones_names):\n",
    "    ax.imshow(im, cmap='gray')\n",
    "    ax.axis('off')\n",
    "    ax.set_title(nm)\n",
    "\n",
    "zeros_im[zeros_im>0] = 255\n",
    "ones_im[ones_im>0] = 255"
   ]
  },
  {
   "cell_type": "markdown",
   "metadata": {},
   "source": [
    "### 1.2 Fourier descriptors\n"
   ]
  },
  {
   "cell_type": "markdown",
   "metadata": {},
   "source": [
    "We get contours of the 0s and 1s. We find the contours of 0s are very similar to a round shape while in 1s there are two diffrent writings. For example, the 1_5.png and 1_9.png use diffrent styles. We guess this may cause problems of outliers."
   ]
  },
  {
   "cell_type": "code",
   "execution_count": 11,
   "metadata": {},
   "outputs": [
    {
     "data": {
      "image/png": "[encoded data removed]",
      "text/plain": [
       "<Figure size 864x216 with 20 Axes>"
      ]
     },
     "metadata": {
      "needs_background": "light"
     },
     "output_type": "display_data"
    }
   ],
   "source": [
    "contourf_0 = contour_fourier(zeros_im)\n",
    "contourf_1 = contour_fourier(ones_im)\n",
    "\n",
    "# Plots\n",
    "fig, axes = plt.subplots(2, len(zeros_im), figsize=(12, 3))\n",
    "plotImagContour(axes, contourf_0, contourf_1, zeros_im, ones_im, zeros_names, ones_names)"
   ]
  },
  {
   "cell_type": "markdown",
   "metadata": {},
   "source": [
    "We find the three Fourier descriptors indexed 3, 5, 1(for devision) give us best clustering of 0s and 1s.\n",
    "\n",
    "The reason of choosing these three is because of invarince to translation, scaling, rotation.  \n",
    "We don't use the one indexed 0 to make it invariant to translation.   \n",
    "We use additional one for devision(index 1) to make it invariant to scaling.   \n",
    "We use the magtitude rather than phase in order to be invariant to rotation and different starting points.  "
   ]
  },
  {
   "cell_type": "code",
   "execution_count": 12,
   "metadata": {},
   "outputs": [
    {
     "data": {
      "image/png": "[encoded data removed]",
      "text/plain": [
       "<Figure size 432x288 with 1 Axes>"
      ]
     },
     "metadata": {
      "needs_background": "light"
     },
     "output_type": "display_data"
    }
   ],
   "source": [
    "f1 = 3\n",
    "f2 = 5\n",
    "f_div = 1\n",
    "FD_0, FD_1 = get_fourier_descriptor(zeros_im, ones_im, f1, f2, f_div, plot = True)"
   ]
  },
  {
   "cell_type": "markdown",
   "metadata": {},
   "source": [
    "The result of clustering is good in general for distinguish 0s and 1s.    \n",
    "The intra cluster variance in 1s is relatively higher because there are two 1s with different writing style compared to others."
   ]
  },
  {
   "cell_type": "markdown",
   "metadata": {},
   "source": [
    "Now we generate transformed data through rotation, translation, scaling to test invariance"
   ]
  },
  {
   "cell_type": "code",
   "execution_count": 13,
   "metadata": {},
   "outputs": [
    {
     "data": {
      "image/png": "[encoded data removed]",
      "text/plain": [
       "<Figure size 864x216 with 20 Axes>"
      ]
     },
     "metadata": {
      "needs_background": "light"
     },
     "output_type": "display_data"
    }
   ],
   "source": [
    "# Apply affine transformations with boolean flags and plot the results\n",
    "rotation = True\n",
    "scaling = True\n",
    "translation = True\n",
    "\n",
    "im_af0 = []\n",
    "im_af1 = []\n",
    "\n",
    "for img0, img1, nm0, nm1 in zip(zeros_im, ones_im, zeros_names, ones_names):\n",
    "    img0 = affineTransform(img0, rotation, scaling, translation)\n",
    "    img1 = affineTransform(img1, rotation, scaling, translation)\n",
    "    im_af0.append(img0)\n",
    "    im_af1.append(img1)\n",
    "\n",
    "# Contour detection\n",
    "contourf_af0 = contour_fourier(im_af0)\n",
    "contourf_af1 = contour_fourier(im_af1)\n",
    "\n",
    "# Plots\n",
    "fig, axes = plt.subplots(2, len(zeros_im), figsize=(12, 3))\n",
    "plotImagContour(axes, contourf_af0, contourf_af1, im_af0, im_af1, zeros_names, ones_names)\n"
   ]
  },
  {
   "cell_type": "code",
   "execution_count": 14,
   "metadata": {},
   "outputs": [
    {
     "data": {
      "text/plain": [
       "<matplotlib.legend.Legend at 0x172786e5b48>"
      ]
     },
     "execution_count": 14,
     "metadata": {},
     "output_type": "execute_result"
    },
    {
     "data": {
      "image/png": "[encoded data removed]",
      "text/plain": [
       "<Figure size 432x288 with 1 Axes>"
      ]
     },
     "metadata": {
      "needs_background": "light"
     },
     "output_type": "display_data"
    }
   ],
   "source": [
    "# Fourier descriptors of original images and transformed images\n",
    "f1 = 3\n",
    "f2 = 5\n",
    "f_div = 1\n",
    "FD_0_orig, FD_1_orig = get_fourier_descriptor(zeros_im, ones_im, f1, f2, f_div)\n",
    "FD_0, FD_1 = get_fourier_descriptor(im_af0, im_af1, f1, f2, f_div)\n",
    "\n",
    "# Superimposed plot of original and transformed to test invariances\n",
    "zeros = plt.scatter(FD_0_orig[:,0],FD_0_orig[:,1]) \n",
    "ones = plt.scatter(FD_1_orig[:,0],FD_1_orig[:,1])\n",
    "zeros_tf = plt.scatter(FD_0[:,0],FD_0[:,1]) \n",
    "ones_tf = plt.scatter(FD_1[:,0],FD_1[:,1])\n",
    "plt.legend((zeros,zeros_tf,ones,ones_tf), (\"0\",\"0_trans\",\"1\", \"1_trans\"))"
   ]
  },
  {
   "cell_type": "markdown",
   "metadata": {},
   "source": [
    "From the result of superimposed plot we can see the transformed data have similar clusters compared to the original one so it is invariate to these three transformations.     \n",
    "The reason why they are not totally same is because of the image deviation after rotation and scaling."
   ]
  },
  {
   "cell_type": "markdown",
   "metadata": {},
   "source": [
    "### 1.3 Additional method(s)"
   ]
  },
  {
   "cell_type": "markdown",
   "metadata": {},
   "source": [
    "## 1. Region-based object classification"
   ]
  },
  {
   "cell_type": "markdown",
   "metadata": {},
   "source": [
    "### 1.1 Compacity and rectangularity"
   ]
  },
  {
   "cell_type": "markdown",
   "metadata": {},
   "source": [
    "We have decided to use compacity and rectangularity as region-based descriptors. Moreover, the first one is invariant in translation, rotation, and scaling. Since compacity is highly sensitive to the definition of area and perimeter, we have selected the longest contour. "
   ]
  },
  {
   "cell_type": "code",
   "execution_count": 17,
   "metadata": {},
   "outputs": [],
   "source": [
    "def compacity(im):\n",
    "    im = im.copy()\n",
    "    contours, hierarchy = cv2.findContours(im, cv2.RETR_TREE, cv2.CHAIN_APPROX_SIMPLE)\n",
    "    \n",
    "    # sort contours\n",
    "    contours = sorted(contours, key = cv2.contourArea, reverse = True)\n",
    "    \n",
    "    c = contours[0] # longest contour\n",
    "    area = cv2.contourArea(c)\n",
    "    perimeter = cv2.arcLength(c, True)\n",
    "    return (perimeter ** 2)/area, area, perimeter # must be bigger/equal than 4PI"
   ]
  },
  {
   "cell_type": "code",
   "execution_count": 16,
   "metadata": {},
   "outputs": [],
   "source": [
    "def rectangularity(im):\n",
    "    im = im.copy()\n",
    "    contours, hierarchy = cv2.findContours(im, cv2.RETR_TREE, cv2.CHAIN_APPROX_SIMPLE)\n",
    "    \n",
    "    contours = sorted(contours, key = cv2.contourArea, reverse = True)\n",
    "    \n",
    "    c = contours[0] # longest contour\n",
    "    area = cv2.contourArea(c)\n",
    "    x, y, w, h = cv2.boundingRect(c)\n",
    "    area_rect = float(w * h)\n",
    "    return area/area_rect"
   ]
  },
  {
   "cell_type": "markdown",
   "metadata": {},
   "source": [
    "### 1.2 Elongation(Eclipse fitted)"
   ]
  },
  {
   "cell_type": "markdown",
   "metadata": {},
   "source": [
    "This method get the feature of proportion between major axis length and minor axis length as the feature to distinguish two objects.  \n",
    "We can see the proportion of 0s is smaller than 1s in most cases.  "
   ]
  },
  {
   "cell_type": "code",
   "execution_count": 40,
   "metadata": {},
   "outputs": [
    {
     "data": {
      "image/png": "[encoded data removed]",
      "text/plain": [
       "<Figure size 432x288 with 1 Axes>"
      ]
     },
     "metadata": {
      "needs_background": "light"
     },
     "output_type": "display_data"
    },
    {
     "data": {
      "image/png": "[encoded data removed]",
      "text/plain": [
       "<Figure size 432x288 with 1 Axes>"
      ]
     },
     "metadata": {
      "needs_background": "light"
     },
     "output_type": "display_data"
    }
   ],
   "source": [
    "elongation_plot(zeros_im[0])\n",
    "elongation_plot(ones_im[0])"
   ]
  },
  {
   "cell_type": "code",
   "execution_count": 45,
   "metadata": {},
   "outputs": [],
   "source": [
    "def cal_major_minor_axis(img):\n",
    "    '''\n",
    "        Args: \n",
    "            img: input image\n",
    "        output:\n",
    "            the proportion between major axis length and minor axis length\n",
    "    '''\n",
    "    label_img = label(img)\n",
    "    [props] = regionprops(label_img)\n",
    "    return [props.major_axis_length/props.minor_axis_length]"
   ]
  },
  {
   "cell_type": "code",
   "execution_count": 81,
   "metadata": {},
   "outputs": [
    {
     "data": {
      "image/png": "[encoded data removed]",
      "text/plain": [
       "<Figure size 432x288 with 1 Axes>"
      ]
     },
     "metadata": {
      "needs_background": "light"
     },
     "output_type": "display_data"
    }
   ],
   "source": [
    "# get elongation of two digits\n",
    "axis_length_zeros=[]\n",
    "axis_length_ones=[]\n",
    "\n",
    "for im0, im1 in zip(zeros_im,ones_im):\n",
    "    axis_length_zeros.append(cal_major_minor_axis(im0))\n",
    "    # Perform opening to remove noise in images of 1, particularly in 1_8.png\n",
    "    el = cv2.getStructuringElement(cv2.MORPH_CROSS, (3,3))\n",
    "    axis_length_ones.append(cal_major_minor_axis(ndimage.binary_opening(im1,el)))\n",
    "    \n",
    "# plot\n",
    "plt.scatter(np.array(axis_length_zeros), np.array(axis_length_zeros))\n",
    "plt.scatter(np.array(axis_length_ones), np.array(axis_length_ones))\n",
    "plt.legend((\"0\",\"1\"))\n",
    "plt.show()"
   ]
  },
  {
   "cell_type": "markdown",
   "metadata": {},
   "source": [
    "The result is as our expected that the proportion of 1s are larger than 0s.   \n",
    "But there are one outlier which is 1_5.png that has different writing of 1s making the proportion relatively smaller."
   ]
  },
  {
   "cell_type": "markdown",
   "metadata": {},
   "source": [
    "## 2. Contour-based object classification"
   ]
  },
  {
   "cell_type": "markdown",
   "metadata": {},
   "source": [
    "### 1.1 Distance map of contours"
   ]
  },
  {
   "cell_type": "markdown",
   "metadata": {},
   "source": [
    "We take a random image in two clusters as our distance map to compare them to other images to get similarity.  \n",
    "We use two features, i.e, the distance to distance map of zeros and ones to generate clusters."
   ]
  },
  {
   "cell_type": "code",
   "execution_count": 52,
   "metadata": {},
   "outputs": [
    {
     "data": {
      "image/png": "[encoded data removed]",
      "text/plain": [
       "<Figure size 432x288 with 2 Axes>"
      ]
     },
     "metadata": {
      "needs_background": "light"
     },
     "output_type": "display_data"
    }
   ],
   "source": [
    "# Contour detection\n",
    "contours = np.array(measure.find_contours(ones_im[6], 0))[0]\n",
    "cont_1 = np.zeros_like(ones_im[0])\n",
    "cont_1[contours[:,0].astype(int),contours[:,1].astype(int)]=1\n",
    "\n",
    "contours = np.array(measure.find_contours(zeros_im[7], 0))[0]\n",
    "cont_0 = np.zeros_like(zeros_im[0])\n",
    "cont_0[contours[:,0].astype(int),contours[:,1].astype(int)]=1\n",
    "\n",
    "\n",
    "fig, axes = plt.subplots(1,2)\n",
    "axes[0].imshow(cont_0, cmap ='gray')\n",
    "axes[1].imshow(cont_1, cmap ='gray')\n",
    "plt.show()"
   ]
  },
  {
   "cell_type": "code",
   "execution_count": 53,
   "metadata": {},
   "outputs": [
    {
     "data": {
      "image/png": "[encoded data removed]",
      "text/plain": [
       "<Figure size 432x288 with 2 Axes>"
      ]
     },
     "metadata": {
      "needs_background": "light"
     },
     "output_type": "display_data"
    }
   ],
   "source": [
    "# Chamfer distance maps\n",
    "distance_map_0 = morphology.distance_transform_cdt(1-cont_0)\n",
    "distance_map_1 = morphology.distance_transform_cdt(1-cont_1)\n",
    "\n",
    "fig, axes = plt.subplots(1,2)\n",
    "axes[0].imshow(distance_map_0, cmap ='gray')\n",
    "axes[1].imshow(distance_map_1, cmap ='gray')\n",
    "plt.show()"
   ]
  },
  {
   "cell_type": "code",
   "execution_count": 60,
   "metadata": {},
   "outputs": [
    {
     "data": {
      "image/png": "[encoded data removed]",
      "text/plain": [
       "<Figure size 432x288 with 1 Axes>"
      ]
     },
     "metadata": {
      "needs_background": "light"
     },
     "output_type": "display_data"
    }
   ],
   "source": [
    "# Apply distance maps to get distance of zeros and ones\n",
    "distance_zeros=[]\n",
    "distance_ones=[]\n",
    "\n",
    "# get distance to distance_map_0 and distance_map_1 respectively \n",
    "for im0, im1 in zip(zeros_im, ones_im):\n",
    "    contours0 = np.array(measure.find_contours(im0, 0))[0]\n",
    "    cont_0 = np.zeros_like(zeros_im[0])\n",
    "    cont_0[contours0[:,0].astype(int),contours0[:,1].astype(int)]=1\n",
    "    distance_0 = np.sum(np.multiply(distance_map_0, cont_0))\n",
    "    distance_1 = np.sum(np.multiply(distance_map_1, cont_0))\n",
    "    distance_zeros.append([distance_0,distance_1])\n",
    "    \n",
    "    contours1 = np.array(measure.find_contours(im1, 0))[0]\n",
    "    cont_1 = np.zeros_like(ones_im[0])\n",
    "    cont_1[contours1[:,0].astype(int),contours1[:,1].astype(int)]=1\n",
    "    distance_0 = np.sum(np.multiply(distance_map_0, cont_1))\n",
    "    distance_1 = np.sum(np.multiply(distance_map_1, cont_1))\n",
    "    distance_ones.append([distance_0,distance_1])\n",
    "    \n",
    "distance_zeros = np.array(distance_zeros)\n",
    "distance_ones = np.array(distance_ones)\n",
    "\n",
    "#Plot results using the two features\n",
    "plt.scatter(distance_zeros[:,0],distance_zeros[:,1])\n",
    "plt.scatter(distance_ones[:,0],distance_ones[:,1])\n",
    "plt.legend((\"0\",\"1\"))\n",
    "plt.show()"
   ]
  },
  {
   "cell_type": "markdown",
   "metadata": {},
   "source": [
    "We can see the distance map of contours can distinguish zeros and ones very great.   \n",
    "The problem is that the result is affected by the choice of choosing the images as our distance map to test similarity."
   ]
  },
  {
   "cell_type": "markdown",
   "metadata": {},
   "source": [
    "### 1.2 Freeman Code"
   ]
  },
  {
   "cell_type": "markdown",
   "metadata": {},
   "source": [
    "To compute the similarity between objects and therefore described them, we have used the chain code or freeman code. The idea was to code the contour and represent it as a series of characteristics. Therefore to compute the similarity between 2 objects, we have used as metric the mean edition distance.\n",
    "\n",
    "However, we can see from the below plot that the result is not one of the best since we were able to cluster well just the 0s."
   ]
  },
  {
   "cell_type": "code",
   "execution_count": 72,
   "metadata": {},
   "outputs": [],
   "source": [
    "# Calculate chain codes for images and plot results\n",
    "\n",
    "chain_zeros = []\n",
    "chain_ones = []\n",
    "\n",
    "for img0, img1, nm0, nm1 in zip(zeros_im, ones_im, zeros_names, ones_names):\n",
    "    # Calculate chain code\n",
    "    chain_zeros.append(chain_code(img0))\n",
    "    chain_ones.append(chain_code(img1))\n",
    "\n",
    "# Combine all chain codes\n",
    "chains = []\n",
    "chains.append(chain_zeros)\n",
    "chains.append(chain_ones)\n",
    "chains = np.array(chains).reshape(20,-1)"
   ]
  },
  {
   "cell_type": "code",
   "execution_count": 12,
   "metadata": {},
   "outputs": [],
   "source": [
    "# Calculate chain code edition distances\n",
    "L = []\n",
    "D = []\n",
    "ED = []\n",
    "for c in chains:\n",
    "    temp = []\n",
    "    L.append(len(c[0]))\n",
    "    for cref in chains:\n",
    "        \n",
    "        # mean edition distance between each pair\n",
    "        temp.append(editDistance(cref[0], c[0]))\n",
    "        ED.append(temp[-1])\n",
    "    D.append(np.mean(temp))\n",
    "\n",
    "D = np.array(D)"
   ]
  },
  {
   "cell_type": "code",
   "execution_count": 13,
   "metadata": {},
   "outputs": [
    {
     "data": {
      "image/png": "[encoded data removed]",
      "text/plain": [
       "<Figure size 432x288 with 1 Axes>"
      ]
     },
     "metadata": {
      "needs_background": "light"
     },
     "output_type": "display_data"
    }
   ],
   "source": [
    "for i in range(2):\n",
    "    plt.scatter(D[i*10:(i+1)*10],L[i*10:(i+1)*10])"
   ]
  },
  {
   "cell_type": "code",
   "execution_count": 14,
   "metadata": {},
   "outputs": [
    {
     "data": {
      "text/plain": [
       "<matplotlib.legend.Legend at 0x7f3d839bab90>"
      ]
     },
     "execution_count": 14,
     "metadata": {},
     "output_type": "execute_result"
    },
    {
     "data": {
      "image/png": "[encoded data removed]",
      "text/plain": [
       "<Figure size 432x288 with 1 Axes>"
      ]
     },
     "metadata": {
      "needs_background": "light"
     },
     "output_type": "display_data"
    }
   ],
   "source": [
    "# Use PCA on edition distance matric\n",
    "ED = np.array(ED)\n",
    "ED_data = ED.reshape(20,-1)\n",
    "\n",
    "pca = decomposition.PCA(2) \n",
    "projected = pca.fit_transform(ED_data)\n",
    "plt.scatter(projected[:10,0], projected[:10,1])\n",
    "plt.scatter(projected[10:,0], projected[10:,1])\n",
    "plt.legend([\"0\", \"1\"])"
   ]
  },
  {
   "cell_type": "markdown",
   "metadata": {},
   "source": [
    "## 3. Other methods"
   ]
  },
  {
   "cell_type": "markdown",
   "metadata": {},
   "source": [
    "### 3.1 Morphological Skeleton"
   ]
  },
  {
   "cell_type": "code",
   "execution_count": 18,
   "metadata": {},
   "outputs": [
    {
     "data": {
      "image/png": "[encoded data removed]",
      "text/plain": [
       "<Figure size 864x216 with 20 Axes>"
      ]
     },
     "metadata": {
      "needs_background": "light"
     },
     "output_type": "display_data"
    }
   ],
   "source": [
    "# Skeletonize images\n",
    "Sr_zeros_im = []\n",
    "Sr_ones_im = []\n",
    "for im0, im1 in zip(zeros_im, ones_im):\n",
    "    skel0 = skeletonize(im0)\n",
    "    Sr_zeros_im.append(skel0) \n",
    "    skel1 = skeletonize(im1)\n",
    "    Sr_ones_im.append(skel1)\n",
    "    \n",
    "fig, axes = plt.subplots(2, len(zeros_im), figsize=(12, 3))\n",
    "for ax, im, nm in zip(axes[0], Sr_zeros_im, zeros_names):\n",
    "    ax.imshow(im, cmap='gray')\n",
    "    ax.axis('off')\n",
    "    ax.set_title(nm)\n",
    "for ax, im, nm in zip(axes[1], Sr_ones_im, ones_names):\n",
    "    ax.imshow(im, cmap='gray')\n",
    "    ax.axis('off')\n",
    "    ax.set_title(nm)"
   ]
  },
  {
   "cell_type": "code",
   "execution_count": 115,
   "metadata": {
    "scrolled": true
   },
   "outputs": [
    {
     "data": {
      "image/png": "[encoded data removed]",
      "text/plain": [
       "<Figure size 432x288 with 2 Axes>"
      ]
     },
     "metadata": {
      "needs_background": "light"
     },
     "output_type": "display_data"
    }
   ],
   "source": [
    "# plot distance maps with mean skeleton\n",
    "mean_skel0 = np.array(np.mean(Sr_zeros_im,0))\n",
    "mean_skel1 = np.array(np.mean(Sr_ones_im,0))\n",
    "mean_skel0[mean_skel0>0] = 1\n",
    "mean_skel1[mean_skel1>0] = 1\n",
    "\n",
    "# Chamfer distance map\n",
    "distance_map_0 = morphology.distance_transform_cdt(1-mean_skel0)\n",
    "# plot\n",
    "fig, axes = plt.subplots(1,2)\n",
    "axes[0].imshow(distance_map_0, cmap ='gray')\n",
    "axes[1].imshow(distance_map_1, cmap ='gray')\n",
    "plt.show()"
   ]
  },
  {
   "cell_type": "code",
   "execution_count": 20,
   "metadata": {},
   "outputs": [
    {
     "data": {
      "image/png": "[encoded data removed]",
      "text/plain": [
       "<Figure size 432x288 with 1 Axes>"
      ]
     },
     "metadata": {
      "needs_background": "light"
     },
     "output_type": "display_data"
    }
   ],
   "source": [
    "# Calculate image distances\n",
    "distance_zeros=[]\n",
    "for im in zeros_im:\n",
    "    distance_0 = np.sum(np.multiply(distance_map_0, im))/np.sum(im)\n",
    "    distance_1 = np.sum(np.multiply(distance_map_1, im))/np.sum(im)\n",
    "    distance_zeros.append([distance_0,distance_1])\n",
    "distance_zeros = np.array(distance_zeros)\n",
    "# print(distance_zeros)\n",
    "distance_ones=[]\n",
    "for im in ones_im:\n",
    "    distance_0 = np.sum(np.multiply(distance_map_0, im))/np.sum(im)\n",
    "    distance_1 = np.sum(np.multiply(distance_map_1, im))/np.sum(im)\n",
    "    distance_ones.append([distance_0,distance_1])\n",
    "distance_ones = np.array(distance_ones)\n",
    "# print(distance_ones)\n",
    "\n",
    "# plot distances from mean skeletons of 0s and 1s\n",
    "plt.scatter(distance_zeros[:,0],distance_zeros[:,1])\n",
    "plt.scatter(distance_ones[:,0],distance_ones[:,1])\n",
    "plt.show()"
   ]
  },
  {
   "cell_type": "markdown",
   "metadata": {},
   "source": [
    "### 3.2 PCA\n"
   ]
  },
  {
   "cell_type": "code",
   "execution_count": 116,
   "metadata": {
    "scrolled": true
   },
   "outputs": [
    {
     "data": {
      "image/png": "[encoded data removed]",
      "text/plain": [
       "<Figure size 432x288 with 1 Axes>"
      ]
     },
     "metadata": {
      "needs_background": "light"
     },
     "output_type": "display_data"
    }
   ],
   "source": [
    "zeros_im_data = zeros_im.reshape(10,-1)\n",
    "ones_im_data = ones_im.reshape(10,-1)\n",
    "digits=np.concatenate((zeros_im_data,ones_im_data),axis = 0)\n",
    "\n",
    "pca = decomposition.PCA(2) \n",
    "projected = pca.fit_transform(digits)\n",
    "plt.scatter(projected[:10,0], projected[:10,1])\n",
    "plt.scatter(projected[10:,0], projected[10:,1])\n",
    "plt.legend([\"0\", \"1\"])\n",
    "plt.show()"
   ]
  },
  {
   "cell_type": "markdown",
   "metadata": {},
   "source": [
    "## Part 2\n",
    "The `lab-02-data/part2` folder contains grey-scale pictures of handwritten \"2\" and \"3\".\n",
    "Extract the same feature (typically 2 Fourier descriptors) as in part 1 also on these images and plot them on the same graph as the features of the \"0\" and \"1\".\n",
    "Is it possible to discriminate all these 4 digits with a 2-dimensional feature vector?"
   ]
  },
  {
   "cell_type": "markdown",
   "metadata": {},
   "source": [
    "### 2.1 Data visualization"
   ]
  },
  {
   "cell_type": "code",
   "execution_count": 62,
   "metadata": {},
   "outputs": [
    {
     "data": {
      "image/png": "[encoded data removed]",
      "text/plain": [
       "<Figure size 864x216 with 20 Axes>"
      ]
     },
     "metadata": {
      "needs_background": "light"
     },
     "output_type": "display_data"
    }
   ],
   "source": [
    "#  Load zeros\n",
    "twos_path = os.path.join(data_base_path, data_folder, 'part2', '2')\n",
    "twos_names = [nm for nm in os.listdir(twos_path) if '.png' in nm]  # make sure to only load .png\n",
    "twos_names.sort()  # sort file names\n",
    "ic = skimage.io.imread_collection([os.path.join(twos_path, nm) for nm in twos_names])\n",
    "twos_im = skimage.io.concatenate_images(ic)\n",
    "#  Load ones\n",
    "threes_path = os.path.join(data_base_path, data_folder, 'part2', '3')\n",
    "threes_names = [nm for nm in os.listdir(threes_path) if '.png' in nm]  # make sure to only load .png\n",
    "threes_names.sort()  # sort file names\n",
    "ic = skimage.io.imread_collection(([os.path.join(threes_path, nm) for nm in threes_names]))\n",
    "threes_im = skimage.io.concatenate_images(ic)\n",
    "\n",
    "# Plot images\n",
    "fig, axes = plt.subplots(2, len(twos_im), figsize=(12, 3))\n",
    "for ax, im, nm in zip(axes[0], twos_im, twos_names):\n",
    "    ax.imshow(im, cmap='gray')\n",
    "    ax.axis('off')\n",
    "    ax.set_title(nm)\n",
    "for ax, im, nm in zip(axes[1], threes_im, threes_names):\n",
    "    ax.imshow(im, cmap='gray')\n",
    "    ax.axis('off')\n",
    "    ax.set_title(nm)\n",
    "\n",
    "# Binarize and scale the values\n",
    "twos_im[twos_im>0] = 255\n",
    "threes_im[threes_im>0] = 255"
   ]
  },
  {
   "cell_type": "markdown",
   "metadata": {},
   "source": [
    "### 2.1 Fourier discriptors and conclusion\n"
   ]
  },
  {
   "cell_type": "markdown",
   "metadata": {},
   "source": [
    "The fourier disriptors works with 2 digits expect 3 outliers because the writing of 2 and 3 is more complicated than 0 and 1"
   ]
  },
  {
   "cell_type": "code",
   "execution_count": 64,
   "metadata": {},
   "outputs": [
    {
     "data": {
      "image/png": "[encoded data removed]",
      "text/plain": [
       "<Figure size 432x288 with 1 Axes>"
      ]
     },
     "metadata": {
      "needs_background": "light"
     },
     "output_type": "display_data"
    }
   ],
   "source": [
    "# choosing fourier discriptors 1 and 3 and use 8 to divide\n",
    "FD2, FD3 = get_fourier_descriptor(twos_im, threes_im, 1, 3, 8)\n",
    "plt.scatter(FD2[:,0], FD2[:,1])\n",
    "plt.scatter(FD3[:,0], FD3[:,1])\n",
    "plt.legend((\"2\", \"3\"))\n",
    "plt.show()"
   ]
  },
  {
   "cell_type": "markdown",
   "metadata": {},
   "source": [
    "Now we superimpose the culster of 0s and 1 to 2s and 3s"
   ]
  },
  {
   "cell_type": "code",
   "execution_count": 65,
   "metadata": {},
   "outputs": [
    {
     "data": {
      "image/png": "[encoded data removed]",
      "text/plain": [
       "<Figure size 432x288 with 1 Axes>"
      ]
     },
     "metadata": {
      "needs_background": "light"
     },
     "output_type": "display_data"
    }
   ],
   "source": [
    "# choosing fourier discriptors 1 and 3 and use 8 to divide\n",
    "f1 = 1\n",
    "f2 = 3\n",
    "f_div = 8\n",
    "\n",
    "# zeros and ones\n",
    "FD0, FD1 = get_fourier_descriptor(zeros_im, ones_im, f1, f2, f_div)\n",
    "\n",
    "# twos and threes\n",
    "FD2, FD3 = get_fourier_descriptor(twos_im, threes_im, f1, f2, f_div)\n",
    "plt.scatter(FD0[:,0], FD0[:,1])\n",
    "plt.scatter(FD1[:,0], FD1[:,1])\n",
    "plt.scatter(FD2[:,0], FD2[:,1])\n",
    "plt.scatter(FD3[:,0], FD3[:,1])\n",
    "plt.legend([\"0\",\"1\",\"2\",\"3\"])"
   ]
  },
  {
   "cell_type": "markdown",
   "metadata": {},
   "source": [
    "The result of clustering four digits with 2 fourier discriptors is not satisfactory.  \n",
    "We try to use 3 fourier discriptors to see if it is works."
   ]
  },
  {
   "cell_type": "code",
   "execution_count": 77,
   "metadata": {},
   "outputs": [
    {
     "data": {
      "image/png": "[encoded data removed]",
      "text/plain": [
       "<Figure size 432x288 with 1 Axes>"
      ]
     },
     "metadata": {
      "needs_background": "light"
     },
     "output_type": "display_data"
    }
   ],
   "source": [
    "f1 = 1\n",
    "f2 = 3\n",
    "f3 = 8\n",
    "f_div = 5\n",
    "\n",
    "FD_0, FD_1, FD_2, FD_3 = get_fourier_descriptor_3(zeros_im, ones_im, twos_im, threes_im, f1, f2, f3, f_div, plot = False)\n",
    "\n",
    "fig = plt.figure()\n",
    "ax = Axes3D(fig)\n",
    "ax.scatter(FD_0[:,0], FD_0[:,1],FD_0[:,2],'green')\n",
    "ax.scatter(FD_1[:,0], FD_1[:,1],FD_1[:,2],'red')\n",
    "ax.scatter(FD_2[:,0], FD_2[:,1],FD_2[:,2],'yellow')\n",
    "ax.scatter(FD_3[:,0], FD_3[:,1],FD_3[:,2],'blue')\n",
    "plt.legend([\"0\",\"1\",\"2\",\"3\"])\n",
    "plt.show()"
   ]
  },
  {
   "cell_type": "markdown",
   "metadata": {},
   "source": [
    "It is clear cluster of 1s, 2s are not sepearate. But it works better in three dimensions than two features. So the performance will increase if we add more fourier descriptors to cluster. "
   ]
  },
  {
   "cell_type": "markdown",
   "metadata": {},
   "source": [
    "We are trying to hybrid the fourier descriptors to other methods to see if it gives us better result because elongation can separate 1s from 2s and 3s."
   ]
  },
  {
   "cell_type": "markdown",
   "metadata": {},
   "source": [
    "#### Hybrid method: two fourier discriptor features + Elongation"
   ]
  },
  {
   "cell_type": "code",
   "execution_count": 82,
   "metadata": {},
   "outputs": [
    {
     "data": {
      "image/png": "[encoded data removed]",
      "text/plain": [
       "<Figure size 432x288 with 1 Axes>"
      ]
     },
     "metadata": {
      "needs_background": "light"
     },
     "output_type": "display_data"
    },
    {
     "data": {
      "image/png": "[encoded data removed]",
      "text/plain": [
       "<Figure size 432x288 with 1 Axes>"
      ]
     },
     "metadata": {
      "needs_background": "light"
     },
     "output_type": "display_data"
    }
   ],
   "source": [
    "elongation_plot(twos_im[0])\n",
    "elongation_plot(threes_im[0])"
   ]
  },
  {
   "cell_type": "code",
   "execution_count": 83,
   "metadata": {},
   "outputs": [
    {
     "data": {
      "image/png": "[encoded data removed]",
      "text/plain": [
       "<Figure size 432x288 with 1 Axes>"
      ]
     },
     "metadata": {
      "needs_background": "light"
     },
     "output_type": "display_data"
    }
   ],
   "source": [
    "# get elongation of four digits\n",
    "\n",
    "axis_length_twos = []\n",
    "axis_length_threes = []\n",
    "for im2, im3 in zip( twos_im,threes_im):\n",
    "\n",
    "    # Perform opening to remove noise in images of 1, particularly in 1_8.png\n",
    "    el = cv2.getStructuringElement(cv2.MORPH_CROSS, (3,3))\n",
    "    axis_length_twos.append(cal_major_minor_axis(ndimage.binary_opening(im2,el)))\n",
    "    axis_length_threes.append(cal_major_minor_axis(ndimage.binary_opening(im3,el)))\n",
    "    \n",
    "plt.figure()\n",
    "zeros = plt.scatter(axis_length_zeros, axis_length_zeros)\n",
    "ones = plt.scatter(axis_length_ones, axis_length_ones)\n",
    "twos = plt.scatter(np.array(axis_length_twos), np.array(axis_length_twos))\n",
    "threes = plt.scatter(np.array(axis_length_threes), np.array(axis_length_threes))\n",
    "\n",
    "plt.legend((zeros,ones,twos, threes),(\"0\",\"1\",\"2\",\"3\"))\n",
    "plt.show()"
   ]
  },
  {
   "cell_type": "markdown",
   "metadata": {},
   "source": [
    "We can see 1s are sepearated from 2s and 3s in elongation which will improve of result of fourier descriptors since it has bad performance in 1s."
   ]
  },
  {
   "cell_type": "code",
   "execution_count": 84,
   "metadata": {},
   "outputs": [
    {
     "data": {
      "image/png": "[encoded data removed]",
      "text/plain": [
       "<Figure size 432x288 with 1 Axes>"
      ]
     },
     "metadata": {
      "needs_background": "light"
     },
     "output_type": "display_data"
    }
   ],
   "source": [
    "f1 = 3\n",
    "f2 = 5\n",
    "f3 = 8\n",
    "f_div = 1\n",
    "\n",
    "\n",
    "FD_0, FD_1, FD_2, FD_3 = get_fourier_descriptor_3(zeros_im, ones_im, twos_im, threes_im, f1, f2, f3, f_div, plot = False)\n",
    "\n",
    "fig = plt.figure()\n",
    "ax = Axes3D(fig)\n",
    "ax.scatter(FD_0[:,0], FD_0[:,1],axis_length_zeros,'green')\n",
    "ax.scatter(FD_1[:,0], FD_1[:,1],axis_length_ones,'red')\n",
    "ax.scatter(FD_2[:,0], FD_2[:,1],axis_length_twos,'yellow')\n",
    "ax.scatter(FD_3[:,0], FD_3[:,1],axis_length_threes,'blue')\n",
    "plt.legend([\"0\",\"1\",\"2\",\"3\"])\n",
    "plt.show()"
   ]
  },
  {
   "cell_type": "markdown",
   "metadata": {},
   "source": [
    "Now the four digits are mostly separated into four clusters except two outliers of 1s which corresponds to the different writing style ones."
   ]
  },
  {
   "cell_type": "markdown",
   "metadata": {},
   "source": [
    "### 2.2 Additional method(s) and conclusion TODO//"
   ]
  },
  {
   "cell_type": "markdown",
   "metadata": {},
   "source": [
    "### PCA\n",
    "Apparently does not work..."
   ]
  },
  {
   "cell_type": "code",
   "execution_count": 28,
   "metadata": {},
   "outputs": [
    {
     "data": {
      "text/plain": [
       "<matplotlib.legend.Legend at 0x7f3d844cffd0>"
      ]
     },
     "execution_count": 28,
     "metadata": {},
     "output_type": "execute_result"
    },
    {
     "data": {
      "image/png": "[encoded data removed]",
      "text/plain": [
       "<Figure size 432x288 with 1 Axes>"
      ]
     },
     "metadata": {
      "needs_background": "light"
     },
     "output_type": "display_data"
    }
   ],
   "source": [
    "zeros_im_data = zeros_im.reshape(10,-1)\n",
    "ones_im_data = ones_im.reshape(10,-1)\n",
    "twos_im_data = twos_im.reshape(10,-1)\n",
    "threes_im_data = threes_im.reshape(10,-1)\n",
    "digits=np.concatenate((zeros_im_data,ones_im_data,twos_im_data,threes_im_data),axis = 0)\n",
    "\n",
    "pca = decomposition.PCA(3) \n",
    "projected = pca.fit_transform(digits)\n",
    "fig = plt.figure()\n",
    "ax = Axes3D(fig)\n",
    "for i in range(4):\n",
    "    ax.scatter(projected[i*10:(i+1)*10,0],projected[i*10:(i+1)*10,1],projected[i*10:(i+1)*10,2])\n",
    "plt.legend([\"0\", \"1\", \"2\", \"3\"])"
   ]
  },
  {
   "cell_type": "markdown",
   "metadata": {},
   "source": [
    "### Skeletonize\n",
    "### TODO: How do we extract two features now if we apply distance map there will be 4 distances for each image?"
   ]
  },
  {
   "cell_type": "code",
   "execution_count": 85,
   "metadata": {},
   "outputs": [
    {
     "data": {
      "image/png": "[encoded data removed]",
      "text/plain": [
       "<Figure size 864x216 with 40 Axes>"
      ]
     },
     "metadata": {
      "needs_background": "light"
     },
     "output_type": "display_data"
    }
   ],
   "source": [
    "# Skeletonize images\n",
    "Sr_zeros_im = []\n",
    "Sr_ones_im = []\n",
    "Sr_twos_im = []\n",
    "Sr_threes_im = []\n",
    "for im0, im1, im2, im3, in zip(zeros_im, ones_im, twos_im, threes_im):\n",
    "    Sr_zeros_im.append(skeletonize(im0)) \n",
    "    Sr_ones_im.append(skeletonize(im1))\n",
    "    Sr_twos_im.append(skeletonize(im2))\n",
    "    Sr_threes_im.append(skeletonize(im3))\n",
    "\n",
    "fig, axes = plt.subplots(4, len(zeros_im), figsize=(12, 3))\n",
    "for ax, im, nm in zip(axes[0], Sr_zeros_im, zeros_names):\n",
    "    ax.imshow(im, cmap='gray')\n",
    "    ax.axis('off')\n",
    "    ax.set_title(nm)\n",
    "for ax, im, nm in zip(axes[1], Sr_ones_im, ones_names):\n",
    "    ax.imshow(im, cmap='gray')\n",
    "    ax.axis('off')\n",
    "    ax.set_title(nm)\n",
    "for ax, im, nm in zip(axes[2], Sr_twos_im, twos_names):\n",
    "    ax.imshow(im, cmap='gray')\n",
    "    ax.axis('off')\n",
    "    ax.set_title(nm)\n",
    "for ax, im, nm in zip(axes[3], Sr_threes_im, threes_names):\n",
    "    ax.imshow(im, cmap='gray')\n",
    "    ax.axis('off')\n",
    "    ax.set_title(nm)\n",
    "    "
   ]
  },
  {
   "cell_type": "code",
   "execution_count": 107,
   "metadata": {},
   "outputs": [
    {
     "data": {
      "image/png": "[encoded data removed]",
      "text/plain": [
       "<Figure size 432x288 with 4 Axes>"
      ]
     },
     "metadata": {
      "needs_background": "light"
     },
     "output_type": "display_data"
    }
   ],
   "source": [
    "# plot distance maps with mean skeleton\n",
    "mean_skel0 = np.array(np.mean(Sr_zeros_im,0))\n",
    "mean_skel1 = np.array(np.mean(Sr_ones_im,0))\n",
    "mean_skel2 = np.array(np.mean(Sr_twos_im,0))\n",
    "mean_skel3 = np.array(np.mean(Sr_threes_im,0))\n",
    "\n",
    "mean_skel0[mean_skel0>0] = 1\n",
    "mean_skel1[mean_skel1>0] = 1\n",
    "mean_skel2[mean_skel2>0] = 1\n",
    "mean_skel3[mean_skel3>0] = 1\n",
    "\n",
    "# Chamfer distance map\n",
    "distance_map_0 = morphology.distance_transform_cdt(1-mean_skel0)\n",
    "distance_map_1 = morphology.distance_transform_cdt(1-mean_skel1)\n",
    "distance_map_2 = morphology.distance_transform_cdt(1-mean_skel2)\n",
    "distance_map_3 = morphology.distance_transform_cdt(1-mean_skel3)\n",
    "\n",
    "# plot\n",
    "fig, axes = plt.subplots(1,4)\n",
    "axes[0].imshow(distance_map_0, cmap ='gray')\n",
    "axes[1].imshow(distance_map_1, cmap ='gray')\n",
    "axes[2].imshow(distance_map_2, cmap ='gray')\n",
    "axes[3].imshow(distance_map_2, cmap ='gray')\n",
    "plt.show()"
   ]
  },
  {
   "cell_type": "markdown",
   "metadata": {},
   "source": [
    "### Distance Map + Contour"
   ]
  },
  {
   "cell_type": "code",
   "execution_count": 113,
   "metadata": {},
   "outputs": [
    {
     "data": {
      "image/png": "[encoded data removed]",
      "text/plain": [
       "<Figure size 432x288 with 4 Axes>"
      ]
     },
     "metadata": {
      "needs_background": "light"
     },
     "output_type": "display_data"
    }
   ],
   "source": [
    "# Contour detection\n",
    "contours = np.array(measure.find_contours(twos_im[6], 0))[0]\n",
    "cont_2 = np.zeros_like(ones_im[0])\n",
    "cont_2[contours[:,0].astype(int),contours[:,1].astype(int)]=1\n",
    "\n",
    "contours = np.array(measure.find_contours(threes_im[8], 0))[0]\n",
    "cont_3 = np.zeros_like(zeros_im[0])\n",
    "cont_3[contours[:,0].astype(int),contours[:,1].astype(int)]=1\n",
    "\n",
    "# Chamfer distance maps\n",
    "distance_map_0 = morphology.distance_transform_cdt(1-cont_0)\n",
    "distance_map_1 = morphology.distance_transform_cdt(1-cont_1)\n",
    "# Chamfer distance maps\n",
    "distance_map_2 = morphology.distance_transform_cdt(1-cont_2)\n",
    "distance_map_3 = morphology.distance_transform_cdt(1-cont_3)\n",
    "\n",
    "# plot\n",
    "fig, axes = plt.subplots(1,4)\n",
    "axes[0].imshow(distance_map_0, cmap ='gray')\n",
    "axes[1].imshow(distance_map_1, cmap ='gray')\n",
    "axes[2].imshow(distance_map_2, cmap ='gray')\n",
    "axes[3].imshow(distance_map_2, cmap ='gray')\n",
    "plt.show()"
   ]
  },
  {
   "cell_type": "code",
   "execution_count": 114,
   "metadata": {},
   "outputs": [
    {
     "name": "stdout",
     "output_type": "stream",
     "text": [
      "The accuracy of recognizing  0  is  0.2  with  8  errors\n",
      "The accuracy of recognizing  1  is  0.3  with  7  errors\n",
      "The accuracy of recognizing  2  is  0.3  with  7  errors\n",
      "The accuracy of recognizing  3  is  0.8  with  2  errors\n"
     ]
    }
   ],
   "source": [
    "idx = -1\n",
    "for imgs in [zeros_im, ones_im, twos_im, threes_im]:\n",
    "    cor = 0\n",
    "    err = 0\n",
    "    idx += 1\n",
    "    \n",
    "    for img in imgs:\n",
    "        # Align orientation\n",
    "        contours0 = np.array(measure.find_contours(img, 0))[0]\n",
    "        cont_0 = np.zeros_like(zeros_im[0])\n",
    "        cont_0[contours0[:,0].astype(int),contours0[:,1].astype(int)]=1\n",
    "        \n",
    "        distance_0 = np.sum(np.multiply(distance_map_0, cont_0))\n",
    "        distance_1 = np.sum(np.multiply(distance_map_1, cont_0))\n",
    "        distance_2 = np.sum(np.multiply(distance_map_2, cont_0))\n",
    "        distance_3 = np.sum(np.multiply(distance_map_3, cont_0))\n",
    "        distance = [distance_0, distance_1, distance_2, distance_3]\n",
    "        \n",
    "        if idx == distance.index(min(distance)):\n",
    "            cor += 1\n",
    "        else:\n",
    "            err += 1\n",
    "    print(\"The accuracy of recognizing \", idx, \" is \", cor/len(imgs),\" with \", err, \" errors\")"
   ]
  },
  {
   "cell_type": "code",
   "execution_count": 89,
   "metadata": {},
   "outputs": [
    {
     "data": {
      "text/plain": [
       "<matplotlib.legend.Legend at 0x7f2fea165bd0>"
      ]
     },
     "execution_count": 89,
     "metadata": {},
     "output_type": "execute_result"
    },
    {
     "data": {
      "image/png": "[encoded data removed]",
      "text/plain": [
       "<Figure size 432x288 with 1 Axes>"
      ]
     },
     "metadata": {
      "needs_background": "light"
     },
     "output_type": "display_data"
    }
   ],
   "source": [
    "imgs = np.concatenate((zeros_im, ones_im, twos_im, threes_im), axis = 0)\n",
    "D = []\n",
    "ct = 0\n",
    "img_al = []\n",
    "for img in imgs:\n",
    "    [props] = regionprops(img)\n",
    "    img = rotate(img, -props.orientation)\n",
    "    img_al.append(img)\n",
    "img_al = np.array(img_al)\n",
    "img_al.shape\n",
    "Dist = []\n",
    "Dist_mean = []\n",
    "for imgref in img_al:\n",
    "    imgref = ndimage.median_filter(imgref,size = 3)\n",
    "    dm = get_distance_map(imgref)\n",
    "    temp = []\n",
    "    for img in img_al:\n",
    "        temp.append(np.sum(np.multiply(dm, img)))\n",
    "        Dist.append(temp[-1])\n",
    "    Dist_mean.append(np.mean(temp))\n",
    "Dist = np.array(Dist)\n",
    "Dist_mean = np.array(Dist_mean)\n",
    "Dist_data = Dist.reshape(40,-1)\n",
    "\n",
    "pca = decomposition.PCA(2) \n",
    "projected = pca.fit_transform(Dist_data)\n",
    "\n",
    "for i in range(4):\n",
    "    plt.scatter(projected[i*10:(i+1)*10,0],projected[i*10:(i+1)*10,1])\n",
    "plt.legend([\"0\",\"1\",\"2\",\"3\"])"
   ]
  },
  {
   "cell_type": "code",
   "execution_count": 90,
   "metadata": {},
   "outputs": [
    {
     "data": {
      "image/png": "[encoded data removed]",
      "text/plain": [
       "<Figure size 432x288 with 1 Axes>"
      ]
     },
     "metadata": {
      "needs_background": "light"
     },
     "output_type": "display_data"
    }
   ],
   "source": [
    "# 3 PCA components\n",
    "D = np.array(Dist)\n",
    "D_data = D.reshape(40,-1)\n",
    "\n",
    "pca = decomposition.PCA(3) \n",
    "projected = pca.fit_transform(D_data)\n",
    "\n",
    "fig = plt.figure()\n",
    "ax = Axes3D(fig)\n",
    "\n",
    "for i in range(4):\n",
    "    ax.scatter(projected[i*10:(i+1)*10,0],projected[i*10:(i+1)*10,1],projected[i*10:(i+1)*10,2])\n",
    "\n"
   ]
  },
  {
   "cell_type": "code",
   "execution_count": 91,
   "metadata": {},
   "outputs": [
    {
     "data": {
      "application/vnd.plotly.v1+json": {
       "config": {
        "plotlyServerURL": "https://plot.ly"
       },
       "data": [
        {
         "hoverlabel": {
          "namelength": 0
         },
         "hovertemplate": "f1=%{x}<br>f2=%{y}<br>f3=%{z}<br>label=%{marker.color}",
         "legendgroup": "",
         "marker": {
          "color": [
           0,
           0,
           0,
           0,
           0,
           0,
           0,
           0,
           0,
           0,
           1,
           1,
           1,
           1,
           1,
           1,
           1,
           1,
           1,
           1,
           2,
           2,
           2,
           2,
           2,
           2,
           2,
           2,
           2,
           2,
           3,
           3,
           3,
           3,
           3,
           3,
           3,
           3,
           3,
           3
          ],
          "coloraxis": "coloraxis",
          "symbol": "circle"
         },
         "mode": "markers",
         "name": "",
         "scene": "scene",
         "showlegend": false,
         "type": "scatter3d",
         "x": [
          136801.23196050557,
          205425.18973209054,
          231750.43924596894,
          106149.16154953562,
          126860.86317328848,
          355257.216815038,
          366411.84264841134,
          345120.0149845591,
          385406.1169704913,
          228676.04924420026,
          -27910.47735128049,
          -60615.31839665833,
          -26683.91916879925,
          -8143.437204419144,
          -34182.17518942941,
          -130999.03020019921,
          -39820.58748097246,
          -38960.76707277522,
          -44951.81599391516,
          -99639.24382167915,
          -95752.4856994501,
          -129603.21284499968,
          -115969.18254968477,
          -78754.92726897071,
          -146546.40031842224,
          -42585.34558777526,
          -143781.5832169753,
          -44884.787265376355,
          -49176.777794223235,
          -91626.18601118177,
          -123898.6358606385,
          -97671.35812211965,
          -125126.146596903,
          9701.291852881895,
          -43328.72491545366,
          -150827.39888901662,
          -83869.06821528487,
          -176038.37879920562,
          -127702.83273759579,
          -118509.21360356634
         ],
         "y": [
          -48855.283658801054,
          -44717.348355027236,
          -35458.65614155221,
          -54260.25632003976,
          -54823.745780113415,
          1803.6302012440815,
          20808.224662715384,
          -9538.059796190444,
          23845.742842668045,
          -37280.496585725385,
          95223.55342862032,
          71200.9608242289,
          125582.26481546056,
          135272.55914089296,
          102309.12055132395,
          -27507.412175899586,
          102013.16851637402,
          93998.17481107816,
          76582.33175732818,
          -3609.994830127104,
          -52952.003393792824,
          -51419.86131015219,
          -31908.08303324724,
          -4803.538888043181,
          -28185.93439185395,
          -29773.87191522876,
          -19243.17066587116,
          -32087.206608759312,
          -15376.527116309997,
          -12076.661127512092,
          -49356.82674863684,
          -25089.785426456958,
          -40161.47281921511,
          -24514.46158862936,
          -25233.504313534948,
          8408.333352712465,
          -33589.11248621003,
          -34135.38279546188,
          -34824.024087825106,
          3734.61745556986
         ],
         "z": [
          -32366.24709306914,
          -7893.4855846845085,
          -12515.073171388794,
          -39985.09823147867,
          -28394.98024102438,
          12096.17150202896,
          28070.546958815474,
          6039.440496078972,
          23106.724347837684,
          -16801.837411455013,
          -19716.70114759379,
          -5664.478687162785,
          7104.698904624505,
          -5241.063790063951,
          -9071.852293863842,
          3248.85011602356,
          -11286.466217415717,
          -11659.25242347593,
          -5861.793435260801,
          -3719.095517470429,
          -15742.58974592853,
          -2806.574412501527,
          13741.636914221883,
          28754.481110736644,
          11023.556111489073,
          2677.0615588983933,
          10591.966242852099,
          14012.093890289634,
          40490.7675840446,
          -9296.669578546333,
          8655.088410400218,
          -16807.61316794877,
          14920.091387286377,
          24157.72464258454,
          9941.790526474937,
          474.4015602439864,
          9959.947476853993,
          -8071.521481399749,
          -16767.71469385554,
          10603.068583802484
         ]
        }
       ],
       "layout": {
        "coloraxis": {
         "colorbar": {
          "title": {
           "text": "label"
          }
         },
         "colorscale": [
          [
           0,
           "#0d0887"
          ],
          [
           0.1111111111111111,
           "#46039f"
          ],
          [
           0.2222222222222222,
           "#7201a8"
          ],
          [
           0.3333333333333333,
           "#9c179e"
          ],
          [
           0.4444444444444444,
           "#bd3786"
          ],
          [
           0.5555555555555556,
           "#d8576b"
          ],
          [
           0.6666666666666666,
           "#ed7953"
          ],
          [
           0.7777777777777778,
           "#fb9f3a"
          ],
          [
           0.8888888888888888,
           "#fdca26"
          ],
          [
           1,
           "#f0f921"
          ]
         ]
        },
        "legend": {
         "tracegroupgap": 0
        },
        "margin": {
         "t": 60
        },
        "scene": {
         "domain": {
          "x": [
           0,
           1
          ],
          "y": [
           0,
           1
          ]
         },
         "xaxis": {
          "title": {
           "text": "f1"
          }
         },
         "yaxis": {
          "title": {
           "text": "f2"
          }
         },
         "zaxis": {
          "title": {
           "text": "f3"
          }
         }
        },
        "template": {
         "data": {
          "bar": [
           {
            "error_x": {
             "color": "#2a3f5f"
            },
            "error_y": {
             "color": "#2a3f5f"
            },
            "marker": {
             "line": {
              "color": "#E5ECF6",
              "width": 0.5
             }
            },
            "type": "bar"
           }
          ],
          "barpolar": [
           {
            "marker": {
             "line": {
              "color": "#E5ECF6",
              "width": 0.5
             }
            },
            "type": "barpolar"
           }
          ],
          "carpet": [
           {
            "aaxis": {
             "endlinecolor": "#2a3f5f",
             "gridcolor": "white",
             "linecolor": "white",
             "minorgridcolor": "white",
             "startlinecolor": "#2a3f5f"
            },
            "baxis": {
             "endlinecolor": "#2a3f5f",
             "gridcolor": "white",
             "linecolor": "white",
             "minorgridcolor": "white",
             "startlinecolor": "#2a3f5f"
            },
            "type": "carpet"
           }
          ],
          "choropleth": [
           {
            "colorbar": {
             "outlinewidth": 0,
             "ticks": ""
            },
            "type": "choropleth"
           }
          ],
          "contour": [
           {
            "colorbar": {
             "outlinewidth": 0,
             "ticks": ""
            },
            "colorscale": [
             [
              0,
              "#0d0887"
             ],
             [
              0.1111111111111111,
              "#46039f"
             ],
             [
              0.2222222222222222,
              "#7201a8"
             ],
             [
              0.3333333333333333,
              "#9c179e"
             ],
             [
              0.4444444444444444,
              "#bd3786"
             ],
             [
              0.5555555555555556,
              "#d8576b"
             ],
             [
              0.6666666666666666,
              "#ed7953"
             ],
             [
              0.7777777777777778,
              "#fb9f3a"
             ],
             [
              0.8888888888888888,
              "#fdca26"
             ],
             [
              1,
              "#f0f921"
             ]
            ],
            "type": "contour"
           }
          ],
          "contourcarpet": [
           {
            "colorbar": {
             "outlinewidth": 0,
             "ticks": ""
            },
            "type": "contourcarpet"
           }
          ],
          "heatmap": [
           {
            "colorbar": {
             "outlinewidth": 0,
             "ticks": ""
            },
            "colorscale": [
             [
              0,
              "#0d0887"
             ],
             [
              0.1111111111111111,
              "#46039f"
             ],
             [
              0.2222222222222222,
              "#7201a8"
             ],
             [
              0.3333333333333333,
              "#9c179e"
             ],
             [
              0.4444444444444444,
              "#bd3786"
             ],
             [
              0.5555555555555556,
              "#d8576b"
             ],
             [
              0.6666666666666666,
              "#ed7953"
             ],
             [
              0.7777777777777778,
              "#fb9f3a"
             ],
             [
              0.8888888888888888,
              "#fdca26"
             ],
             [
              1,
              "#f0f921"
             ]
            ],
            "type": "heatmap"
           }
          ],
          "heatmapgl": [
           {
            "colorbar": {
             "outlinewidth": 0,
             "ticks": ""
            },
            "colorscale": [
             [
              0,
              "#0d0887"
             ],
             [
              0.1111111111111111,
              "#46039f"
             ],
             [
              0.2222222222222222,
              "#7201a8"
             ],
             [
              0.3333333333333333,
              "#9c179e"
             ],
             [
              0.4444444444444444,
              "#bd3786"
             ],
             [
              0.5555555555555556,
              "#d8576b"
             ],
             [
              0.6666666666666666,
              "#ed7953"
             ],
             [
              0.7777777777777778,
              "#fb9f3a"
             ],
             [
              0.8888888888888888,
              "#fdca26"
             ],
             [
              1,
              "#f0f921"
             ]
            ],
            "type": "heatmapgl"
           }
          ],
          "histogram": [
           {
            "marker": {
             "colorbar": {
              "outlinewidth": 0,
              "ticks": ""
             }
            },
            "type": "histogram"
           }
          ],
          "histogram2d": [
           {
            "colorbar": {
             "outlinewidth": 0,
             "ticks": ""
            },
            "colorscale": [
             [
              0,
              "#0d0887"
             ],
             [
              0.1111111111111111,
              "#46039f"
             ],
             [
              0.2222222222222222,
              "#7201a8"
             ],
             [
              0.3333333333333333,
              "#9c179e"
             ],
             [
              0.4444444444444444,
              "#bd3786"
             ],
             [
              0.5555555555555556,
              "#d8576b"
             ],
             [
              0.6666666666666666,
              "#ed7953"
             ],
             [
              0.7777777777777778,
              "#fb9f3a"
             ],
             [
              0.8888888888888888,
              "#fdca26"
             ],
             [
              1,
              "#f0f921"
             ]
            ],
            "type": "histogram2d"
           }
          ],
          "histogram2dcontour": [
           {
            "colorbar": {
             "outlinewidth": 0,
             "ticks": ""
            },
            "colorscale": [
             [
              0,
              "#0d0887"
             ],
             [
              0.1111111111111111,
              "#46039f"
             ],
             [
              0.2222222222222222,
              "#7201a8"
             ],
             [
              0.3333333333333333,
              "#9c179e"
             ],
             [
              0.4444444444444444,
              "#bd3786"
             ],
             [
              0.5555555555555556,
              "#d8576b"
             ],
             [
              0.6666666666666666,
              "#ed7953"
             ],
             [
              0.7777777777777778,
              "#fb9f3a"
             ],
             [
              0.8888888888888888,
              "#fdca26"
             ],
             [
              1,
              "#f0f921"
             ]
            ],
            "type": "histogram2dcontour"
           }
          ],
          "mesh3d": [
           {
            "colorbar": {
             "outlinewidth": 0,
             "ticks": ""
            },
            "type": "mesh3d"
           }
          ],
          "parcoords": [
           {
            "line": {
             "colorbar": {
              "outlinewidth": 0,
              "ticks": ""
             }
            },
            "type": "parcoords"
           }
          ],
          "pie": [
           {
            "automargin": true,
            "type": "pie"
           }
          ],
          "scatter": [
           {
            "marker": {
             "colorbar": {
              "outlinewidth": 0,
              "ticks": ""
             }
            },
            "type": "scatter"
           }
          ],
          "scatter3d": [
           {
            "line": {
             "colorbar": {
              "outlinewidth": 0,
              "ticks": ""
             }
            },
            "marker": {
             "colorbar": {
              "outlinewidth": 0,
              "ticks": ""
             }
            },
            "type": "scatter3d"
           }
          ],
          "scattercarpet": [
           {
            "marker": {
             "colorbar": {
              "outlinewidth": 0,
              "ticks": ""
             }
            },
            "type": "scattercarpet"
           }
          ],
          "scattergeo": [
           {
            "marker": {
             "colorbar": {
              "outlinewidth": 0,
              "ticks": ""
             }
            },
            "type": "scattergeo"
           }
          ],
          "scattergl": [
           {
            "marker": {
             "colorbar": {
              "outlinewidth": 0,
              "ticks": ""
             }
            },
            "type": "scattergl"
           }
          ],
          "scattermapbox": [
           {
            "marker": {
             "colorbar": {
              "outlinewidth": 0,
              "ticks": ""
             }
            },
            "type": "scattermapbox"
           }
          ],
          "scatterpolar": [
           {
            "marker": {
             "colorbar": {
              "outlinewidth": 0,
              "ticks": ""
             }
            },
            "type": "scatterpolar"
           }
          ],
          "scatterpolargl": [
           {
            "marker": {
             "colorbar": {
              "outlinewidth": 0,
              "ticks": ""
             }
            },
            "type": "scatterpolargl"
           }
          ],
          "scatterternary": [
           {
            "marker": {
             "colorbar": {
              "outlinewidth": 0,
              "ticks": ""
             }
            },
            "type": "scatterternary"
           }
          ],
          "surface": [
           {
            "colorbar": {
             "outlinewidth": 0,
             "ticks": ""
            },
            "colorscale": [
             [
              0,
              "#0d0887"
             ],
             [
              0.1111111111111111,
              "#46039f"
             ],
             [
              0.2222222222222222,
              "#7201a8"
             ],
             [
              0.3333333333333333,
              "#9c179e"
             ],
             [
              0.4444444444444444,
              "#bd3786"
             ],
             [
              0.5555555555555556,
              "#d8576b"
             ],
             [
              0.6666666666666666,
              "#ed7953"
             ],
             [
              0.7777777777777778,
              "#fb9f3a"
             ],
             [
              0.8888888888888888,
              "#fdca26"
             ],
             [
              1,
              "#f0f921"
             ]
            ],
            "type": "surface"
           }
          ],
          "table": [
           {
            "cells": {
             "fill": {
              "color": "#EBF0F8"
             },
             "line": {
              "color": "white"
             }
            },
            "header": {
             "fill": {
              "color": "#C8D4E3"
             },
             "line": {
              "color": "white"
             }
            },
            "type": "table"
           }
          ]
         },
         "layout": {
          "annotationdefaults": {
           "arrowcolor": "#2a3f5f",
           "arrowhead": 0,
           "arrowwidth": 1
          },
          "coloraxis": {
           "colorbar": {
            "outlinewidth": 0,
            "ticks": ""
           }
          },
          "colorscale": {
           "diverging": [
            [
             0,
             "#8e0152"
            ],
            [
             0.1,
             "#c51b7d"
            ],
            [
             0.2,
             "#de77ae"
            ],
            [
             0.3,
             "#f1b6da"
            ],
            [
             0.4,
             "#fde0ef"
            ],
            [
             0.5,
             "#f7f7f7"
            ],
            [
             0.6,
             "#e6f5d0"
            ],
            [
             0.7,
             "#b8e186"
            ],
            [
             0.8,
             "#7fbc41"
            ],
            [
             0.9,
             "#4d9221"
            ],
            [
             1,
             "#276419"
            ]
           ],
           "sequential": [
            [
             0,
             "#0d0887"
            ],
            [
             0.1111111111111111,
             "#46039f"
            ],
            [
             0.2222222222222222,
             "#7201a8"
            ],
            [
             0.3333333333333333,
             "#9c179e"
            ],
            [
             0.4444444444444444,
             "#bd3786"
            ],
            [
             0.5555555555555556,
             "#d8576b"
            ],
            [
             0.6666666666666666,
             "#ed7953"
            ],
            [
             0.7777777777777778,
             "#fb9f3a"
            ],
            [
             0.8888888888888888,
             "#fdca26"
            ],
            [
             1,
             "#f0f921"
            ]
           ],
           "sequentialminus": [
            [
             0,
             "#0d0887"
            ],
            [
             0.1111111111111111,
             "#46039f"
            ],
            [
             0.2222222222222222,
             "#7201a8"
            ],
            [
             0.3333333333333333,
             "#9c179e"
            ],
            [
             0.4444444444444444,
             "#bd3786"
            ],
            [
             0.5555555555555556,
             "#d8576b"
            ],
            [
             0.6666666666666666,
             "#ed7953"
            ],
            [
             0.7777777777777778,
             "#fb9f3a"
            ],
            [
             0.8888888888888888,
             "#fdca26"
            ],
            [
             1,
             "#f0f921"
            ]
           ]
          },
          "colorway": [
           "#636efa",
           "#EF553B",
           "#00cc96",
           "#ab63fa",
           "#FFA15A",
           "#19d3f3",
           "#FF6692",
           "#B6E880",
           "#FF97FF",
           "#FECB52"
          ],
          "font": {
           "color": "#2a3f5f"
          },
          "geo": {
           "bgcolor": "white",
           "lakecolor": "white",
           "landcolor": "#E5ECF6",
           "showlakes": true,
           "showland": true,
           "subunitcolor": "white"
          },
          "hoverlabel": {
           "align": "left"
          },
          "hovermode": "closest",
          "mapbox": {
           "style": "light"
          },
          "paper_bgcolor": "white",
          "plot_bgcolor": "#E5ECF6",
          "polar": {
           "angularaxis": {
            "gridcolor": "white",
            "linecolor": "white",
            "ticks": ""
           },
           "bgcolor": "#E5ECF6",
           "radialaxis": {
            "gridcolor": "white",
            "linecolor": "white",
            "ticks": ""
           }
          },
          "scene": {
           "xaxis": {
            "backgroundcolor": "#E5ECF6",
            "gridcolor": "white",
            "gridwidth": 2,
            "linecolor": "white",
            "showbackground": true,
            "ticks": "",
            "zerolinecolor": "white"
           },
           "yaxis": {
            "backgroundcolor": "#E5ECF6",
            "gridcolor": "white",
            "gridwidth": 2,
            "linecolor": "white",
            "showbackground": true,
            "ticks": "",
            "zerolinecolor": "white"
           },
           "zaxis": {
            "backgroundcolor": "#E5ECF6",
            "gridcolor": "white",
            "gridwidth": 2,
            "linecolor": "white",
            "showbackground": true,
            "ticks": "",
            "zerolinecolor": "white"
           }
          },
          "shapedefaults": {
           "line": {
            "color": "#2a3f5f"
           }
          },
          "ternary": {
           "aaxis": {
            "gridcolor": "white",
            "linecolor": "white",
            "ticks": ""
           },
           "baxis": {
            "gridcolor": "white",
            "linecolor": "white",
            "ticks": ""
           },
           "bgcolor": "#E5ECF6",
           "caxis": {
            "gridcolor": "white",
            "linecolor": "white",
            "ticks": ""
           }
          },
          "title": {
           "x": 0.05
          },
          "xaxis": {
           "automargin": true,
           "gridcolor": "white",
           "linecolor": "white",
           "ticks": "",
           "title": {
            "standoff": 15
           },
           "zerolinecolor": "white",
           "zerolinewidth": 2
          },
          "yaxis": {
           "automargin": true,
           "gridcolor": "white",
           "linecolor": "white",
           "ticks": "",
           "title": {
            "standoff": 15
           },
           "zerolinecolor": "white",
           "zerolinewidth": 2
          }
         }
        }
       }
      },
      "text/html": [
       "<div>\n",
       "        \n",
       "        \n",
       "            <div id=\"3f1314cb-a31e-4802-ac2f-73df33508c0f\" class=\"plotly-graph-div\" style=\"height:525px; width:100%;\"></div>\n",
       "            <script type=\"text/javascript\">\n",
       "                require([\"plotly\"], function(Plotly) {\n",
       "                    window.PLOTLYENV=window.PLOTLYENV || {};\n",
       "                    \n",
       "                if (document.getElementById(\"3f1314cb-a31e-4802-ac2f-73df33508c0f\")) {\n",
       "                    Plotly.newPlot(\n",
       "                        '3f1314cb-a31e-4802-ac2f-73df33508c0f',\n",
       "                        [{\"hoverlabel\": {\"namelength\": 0}, \"hovertemplate\": \"f1=%{x}<br>f2=%{y}<br>f3=%{z}<br>label=%{marker.color}\", \"legendgroup\": \"\", \"marker\": {\"color\": [0.0, 0.0, 0.0, 0.0, 0.0, 0.0, 0.0, 0.0, 0.0, 0.0, 1.0, 1.0, 1.0, 1.0, 1.0, 1.0, 1.0, 1.0, 1.0, 1.0, 2.0, 2.0, 2.0, 2.0, 2.0, 2.0, 2.0, 2.0, 2.0, 2.0, 3.0, 3.0, 3.0, 3.0, 3.0, 3.0, 3.0, 3.0, 3.0, 3.0], \"coloraxis\": \"coloraxis\", \"symbol\": \"circle\"}, \"mode\": \"markers\", \"name\": \"\", \"scene\": \"scene\", \"showlegend\": false, \"type\": \"scatter3d\", \"x\": [136801.23196050557, 205425.18973209054, 231750.43924596894, 106149.16154953562, 126860.86317328848, 355257.216815038, 366411.84264841134, 345120.0149845591, 385406.1169704913, 228676.04924420026, -27910.47735128049, -60615.31839665833, -26683.91916879925, -8143.437204419144, -34182.17518942941, -130999.03020019921, -39820.58748097246, -38960.76707277522, -44951.81599391516, -99639.24382167915, -95752.4856994501, -129603.21284499968, -115969.18254968477, -78754.92726897071, -146546.40031842224, -42585.34558777526, -143781.5832169753, -44884.787265376355, -49176.777794223235, -91626.18601118177, -123898.6358606385, -97671.35812211965, -125126.146596903, 9701.291852881895, -43328.72491545366, -150827.39888901662, -83869.06821528487, -176038.37879920562, -127702.83273759579, -118509.21360356634], \"y\": [-48855.283658801054, -44717.348355027236, -35458.65614155221, -54260.25632003976, -54823.745780113415, 1803.6302012440815, 20808.224662715384, -9538.059796190444, 23845.742842668045, -37280.496585725385, 95223.55342862032, 71200.9608242289, 125582.26481546056, 135272.55914089296, 102309.12055132395, -27507.412175899586, 102013.16851637402, 93998.17481107816, 76582.33175732818, -3609.994830127104, -52952.003393792824, -51419.86131015219, -31908.08303324724, -4803.538888043181, -28185.93439185395, -29773.87191522876, -19243.17066587116, -32087.206608759312, -15376.527116309997, -12076.661127512092, -49356.82674863684, -25089.785426456958, -40161.47281921511, -24514.46158862936, -25233.504313534948, 8408.333352712465, -33589.11248621003, -34135.38279546188, -34824.024087825106, 3734.61745556986], \"z\": [-32366.24709306914, -7893.4855846845085, -12515.073171388794, -39985.09823147867, -28394.98024102438, 12096.17150202896, 28070.546958815474, 6039.440496078972, 23106.724347837684, -16801.837411455013, -19716.70114759379, -5664.478687162785, 7104.698904624505, -5241.063790063951, -9071.852293863842, 3248.85011602356, -11286.466217415717, -11659.25242347593, -5861.793435260801, -3719.095517470429, -15742.58974592853, -2806.574412501527, 13741.636914221883, 28754.481110736644, 11023.556111489073, 2677.0615588983933, 10591.966242852099, 14012.093890289634, 40490.7675840446, -9296.669578546333, 8655.088410400218, -16807.61316794877, 14920.091387286377, 24157.72464258454, 9941.790526474937, 474.4015602439864, 9959.947476853993, -8071.521481399749, -16767.71469385554, 10603.068583802484]}],\n",
       "                        {\"coloraxis\": {\"colorbar\": {\"title\": {\"text\": \"label\"}}, \"colorscale\": [[0.0, \"#0d0887\"], [0.1111111111111111, \"#46039f\"], [0.2222222222222222, \"#7201a8\"], [0.3333333333333333, \"#9c179e\"], [0.4444444444444444, \"#bd3786\"], [0.5555555555555556, \"#d8576b\"], [0.6666666666666666, \"#ed7953\"], [0.7777777777777778, \"#fb9f3a\"], [0.8888888888888888, \"#fdca26\"], [1.0, \"#f0f921\"]]}, \"legend\": {\"tracegroupgap\": 0}, \"margin\": {\"t\": 60}, \"scene\": {\"domain\": {\"x\": [0.0, 1.0], \"y\": [0.0, 1.0]}, \"xaxis\": {\"title\": {\"text\": \"f1\"}}, \"yaxis\": {\"title\": {\"text\": \"f2\"}}, \"zaxis\": {\"title\": {\"text\": \"f3\"}}}, \"template\": {\"data\": {\"bar\": [{\"error_x\": {\"color\": \"#2a3f5f\"}, \"error_y\": {\"color\": \"#2a3f5f\"}, \"marker\": {\"line\": {\"color\": \"#E5ECF6\", \"width\": 0.5}}, \"type\": \"bar\"}], \"barpolar\": [{\"marker\": {\"line\": {\"color\": \"#E5ECF6\", \"width\": 0.5}}, \"type\": \"barpolar\"}], \"carpet\": [{\"aaxis\": {\"endlinecolor\": \"#2a3f5f\", \"gridcolor\": \"white\", \"linecolor\": \"white\", \"minorgridcolor\": \"white\", \"startlinecolor\": \"#2a3f5f\"}, \"baxis\": {\"endlinecolor\": \"#2a3f5f\", \"gridcolor\": \"white\", \"linecolor\": \"white\", \"minorgridcolor\": \"white\", \"startlinecolor\": \"#2a3f5f\"}, \"type\": \"carpet\"}], \"choropleth\": [{\"colorbar\": {\"outlinewidth\": 0, \"ticks\": \"\"}, \"type\": \"choropleth\"}], \"contour\": [{\"colorbar\": {\"outlinewidth\": 0, \"ticks\": \"\"}, \"colorscale\": [[0.0, \"#0d0887\"], [0.1111111111111111, \"#46039f\"], [0.2222222222222222, \"#7201a8\"], [0.3333333333333333, \"#9c179e\"], [0.4444444444444444, \"#bd3786\"], [0.5555555555555556, \"#d8576b\"], [0.6666666666666666, \"#ed7953\"], [0.7777777777777778, \"#fb9f3a\"], [0.8888888888888888, \"#fdca26\"], [1.0, \"#f0f921\"]], \"type\": \"contour\"}], \"contourcarpet\": [{\"colorbar\": {\"outlinewidth\": 0, \"ticks\": \"\"}, \"type\": \"contourcarpet\"}], \"heatmap\": [{\"colorbar\": {\"outlinewidth\": 0, \"ticks\": \"\"}, \"colorscale\": [[0.0, \"#0d0887\"], [0.1111111111111111, \"#46039f\"], [0.2222222222222222, \"#7201a8\"], [0.3333333333333333, \"#9c179e\"], [0.4444444444444444, \"#bd3786\"], [0.5555555555555556, \"#d8576b\"], [0.6666666666666666, \"#ed7953\"], [0.7777777777777778, \"#fb9f3a\"], [0.8888888888888888, \"#fdca26\"], [1.0, \"#f0f921\"]], \"type\": \"heatmap\"}], \"heatmapgl\": [{\"colorbar\": {\"outlinewidth\": 0, \"ticks\": \"\"}, \"colorscale\": [[0.0, \"#0d0887\"], [0.1111111111111111, \"#46039f\"], [0.2222222222222222, \"#7201a8\"], [0.3333333333333333, \"#9c179e\"], [0.4444444444444444, \"#bd3786\"], [0.5555555555555556, \"#d8576b\"], [0.6666666666666666, \"#ed7953\"], [0.7777777777777778, \"#fb9f3a\"], [0.8888888888888888, \"#fdca26\"], [1.0, \"#f0f921\"]], \"type\": \"heatmapgl\"}], \"histogram\": [{\"marker\": {\"colorbar\": {\"outlinewidth\": 0, \"ticks\": \"\"}}, \"type\": \"histogram\"}], \"histogram2d\": [{\"colorbar\": {\"outlinewidth\": 0, \"ticks\": \"\"}, \"colorscale\": [[0.0, \"#0d0887\"], [0.1111111111111111, \"#46039f\"], [0.2222222222222222, \"#7201a8\"], [0.3333333333333333, \"#9c179e\"], [0.4444444444444444, \"#bd3786\"], [0.5555555555555556, \"#d8576b\"], [0.6666666666666666, \"#ed7953\"], [0.7777777777777778, \"#fb9f3a\"], [0.8888888888888888, \"#fdca26\"], [1.0, \"#f0f921\"]], \"type\": \"histogram2d\"}], \"histogram2dcontour\": [{\"colorbar\": {\"outlinewidth\": 0, \"ticks\": \"\"}, \"colorscale\": [[0.0, \"#0d0887\"], [0.1111111111111111, \"#46039f\"], [0.2222222222222222, \"#7201a8\"], [0.3333333333333333, \"#9c179e\"], [0.4444444444444444, \"#bd3786\"], [0.5555555555555556, \"#d8576b\"], [0.6666666666666666, \"#ed7953\"], [0.7777777777777778, \"#fb9f3a\"], [0.8888888888888888, \"#fdca26\"], [1.0, \"#f0f921\"]], \"type\": \"histogram2dcontour\"}], \"mesh3d\": [{\"colorbar\": {\"outlinewidth\": 0, \"ticks\": \"\"}, \"type\": \"mesh3d\"}], \"parcoords\": [{\"line\": {\"colorbar\": {\"outlinewidth\": 0, \"ticks\": \"\"}}, \"type\": \"parcoords\"}], \"pie\": [{\"automargin\": true, \"type\": \"pie\"}], \"scatter\": [{\"marker\": {\"colorbar\": {\"outlinewidth\": 0, \"ticks\": \"\"}}, \"type\": \"scatter\"}], \"scatter3d\": [{\"line\": {\"colorbar\": {\"outlinewidth\": 0, \"ticks\": \"\"}}, \"marker\": {\"colorbar\": {\"outlinewidth\": 0, \"ticks\": \"\"}}, \"type\": \"scatter3d\"}], \"scattercarpet\": [{\"marker\": {\"colorbar\": {\"outlinewidth\": 0, \"ticks\": \"\"}}, \"type\": \"scattercarpet\"}], \"scattergeo\": [{\"marker\": {\"colorbar\": {\"outlinewidth\": 0, \"ticks\": \"\"}}, \"type\": \"scattergeo\"}], \"scattergl\": [{\"marker\": {\"colorbar\": {\"outlinewidth\": 0, \"ticks\": \"\"}}, \"type\": \"scattergl\"}], \"scattermapbox\": [{\"marker\": {\"colorbar\": {\"outlinewidth\": 0, \"ticks\": \"\"}}, \"type\": \"scattermapbox\"}], \"scatterpolar\": [{\"marker\": {\"colorbar\": {\"outlinewidth\": 0, \"ticks\": \"\"}}, \"type\": \"scatterpolar\"}], \"scatterpolargl\": [{\"marker\": {\"colorbar\": {\"outlinewidth\": 0, \"ticks\": \"\"}}, \"type\": \"scatterpolargl\"}], \"scatterternary\": [{\"marker\": {\"colorbar\": {\"outlinewidth\": 0, \"ticks\": \"\"}}, \"type\": \"scatterternary\"}], \"surface\": [{\"colorbar\": {\"outlinewidth\": 0, \"ticks\": \"\"}, \"colorscale\": [[0.0, \"#0d0887\"], [0.1111111111111111, \"#46039f\"], [0.2222222222222222, \"#7201a8\"], [0.3333333333333333, \"#9c179e\"], [0.4444444444444444, \"#bd3786\"], [0.5555555555555556, \"#d8576b\"], [0.6666666666666666, \"#ed7953\"], [0.7777777777777778, \"#fb9f3a\"], [0.8888888888888888, \"#fdca26\"], [1.0, \"#f0f921\"]], \"type\": \"surface\"}], \"table\": [{\"cells\": {\"fill\": {\"color\": \"#EBF0F8\"}, \"line\": {\"color\": \"white\"}}, \"header\": {\"fill\": {\"color\": \"#C8D4E3\"}, \"line\": {\"color\": \"white\"}}, \"type\": \"table\"}]}, \"layout\": {\"annotationdefaults\": {\"arrowcolor\": \"#2a3f5f\", \"arrowhead\": 0, \"arrowwidth\": 1}, \"coloraxis\": {\"colorbar\": {\"outlinewidth\": 0, \"ticks\": \"\"}}, \"colorscale\": {\"diverging\": [[0, \"#8e0152\"], [0.1, \"#c51b7d\"], [0.2, \"#de77ae\"], [0.3, \"#f1b6da\"], [0.4, \"#fde0ef\"], [0.5, \"#f7f7f7\"], [0.6, \"#e6f5d0\"], [0.7, \"#b8e186\"], [0.8, \"#7fbc41\"], [0.9, \"#4d9221\"], [1, \"#276419\"]], \"sequential\": [[0.0, \"#0d0887\"], [0.1111111111111111, \"#46039f\"], [0.2222222222222222, \"#7201a8\"], [0.3333333333333333, \"#9c179e\"], [0.4444444444444444, \"#bd3786\"], [0.5555555555555556, \"#d8576b\"], [0.6666666666666666, \"#ed7953\"], [0.7777777777777778, \"#fb9f3a\"], [0.8888888888888888, \"#fdca26\"], [1.0, \"#f0f921\"]], \"sequentialminus\": [[0.0, \"#0d0887\"], [0.1111111111111111, \"#46039f\"], [0.2222222222222222, \"#7201a8\"], [0.3333333333333333, \"#9c179e\"], [0.4444444444444444, \"#bd3786\"], [0.5555555555555556, \"#d8576b\"], [0.6666666666666666, \"#ed7953\"], [0.7777777777777778, \"#fb9f3a\"], [0.8888888888888888, \"#fdca26\"], [1.0, \"#f0f921\"]]}, \"colorway\": [\"#636efa\", \"#EF553B\", \"#00cc96\", \"#ab63fa\", \"#FFA15A\", \"#19d3f3\", \"#FF6692\", \"#B6E880\", \"#FF97FF\", \"#FECB52\"], \"font\": {\"color\": \"#2a3f5f\"}, \"geo\": {\"bgcolor\": \"white\", \"lakecolor\": \"white\", \"landcolor\": \"#E5ECF6\", \"showlakes\": true, \"showland\": true, \"subunitcolor\": \"white\"}, \"hoverlabel\": {\"align\": \"left\"}, \"hovermode\": \"closest\", \"mapbox\": {\"style\": \"light\"}, \"paper_bgcolor\": \"white\", \"plot_bgcolor\": \"#E5ECF6\", \"polar\": {\"angularaxis\": {\"gridcolor\": \"white\", \"linecolor\": \"white\", \"ticks\": \"\"}, \"bgcolor\": \"#E5ECF6\", \"radialaxis\": {\"gridcolor\": \"white\", \"linecolor\": \"white\", \"ticks\": \"\"}}, \"scene\": {\"xaxis\": {\"backgroundcolor\": \"#E5ECF6\", \"gridcolor\": \"white\", \"gridwidth\": 2, \"linecolor\": \"white\", \"showbackground\": true, \"ticks\": \"\", \"zerolinecolor\": \"white\"}, \"yaxis\": {\"backgroundcolor\": \"#E5ECF6\", \"gridcolor\": \"white\", \"gridwidth\": 2, \"linecolor\": \"white\", \"showbackground\": true, \"ticks\": \"\", \"zerolinecolor\": \"white\"}, \"zaxis\": {\"backgroundcolor\": \"#E5ECF6\", \"gridcolor\": \"white\", \"gridwidth\": 2, \"linecolor\": \"white\", \"showbackground\": true, \"ticks\": \"\", \"zerolinecolor\": \"white\"}}, \"shapedefaults\": {\"line\": {\"color\": \"#2a3f5f\"}}, \"ternary\": {\"aaxis\": {\"gridcolor\": \"white\", \"linecolor\": \"white\", \"ticks\": \"\"}, \"baxis\": {\"gridcolor\": \"white\", \"linecolor\": \"white\", \"ticks\": \"\"}, \"bgcolor\": \"#E5ECF6\", \"caxis\": {\"gridcolor\": \"white\", \"linecolor\": \"white\", \"ticks\": \"\"}}, \"title\": {\"x\": 0.05}, \"xaxis\": {\"automargin\": true, \"gridcolor\": \"white\", \"linecolor\": \"white\", \"ticks\": \"\", \"title\": {\"standoff\": 15}, \"zerolinecolor\": \"white\", \"zerolinewidth\": 2}, \"yaxis\": {\"automargin\": true, \"gridcolor\": \"white\", \"linecolor\": \"white\", \"ticks\": \"\", \"title\": {\"standoff\": 15}, \"zerolinecolor\": \"white\", \"zerolinewidth\": 2}}}},\n",
       "                        {\"responsive\": true}\n",
       "                    ).then(function(){\n",
       "                            \n",
       "var gd = document.getElementById('3f1314cb-a31e-4802-ac2f-73df33508c0f');\n",
       "var x = new MutationObserver(function (mutations, observer) {{\n",
       "        var display = window.getComputedStyle(gd).display;\n",
       "        if (!display || display === 'none') {{\n",
       "            console.log([gd, 'removed!']);\n",
       "            Plotly.purge(gd);\n",
       "            observer.disconnect();\n",
       "        }}\n",
       "}});\n",
       "\n",
       "// Listen for the removal of the full notebook cells\n",
       "var notebookContainer = gd.closest('#notebook-container');\n",
       "if (notebookContainer) {{\n",
       "    x.observe(notebookContainer, {childList: true});\n",
       "}}\n",
       "\n",
       "// Listen for the clearing of the current output cell\n",
       "var outputEl = gd.closest('.output');\n",
       "if (outputEl) {{\n",
       "    x.observe(outputEl, {childList: true});\n",
       "}}\n",
       "\n",
       "                        })\n",
       "                };\n",
       "                });\n",
       "            </script>\n",
       "        </div>"
      ]
     },
     "metadata": {},
     "output_type": "display_data"
    }
   ],
   "source": [
    "Fd = pd.DataFrame([])\n",
    "for i in range(4):    \n",
    "    temp = (pd.DataFrame(np.array([projected[i*10:(i+1)*10,0],projected[i*10:(i+1)*10,1],projected[i*10:(i+1)*10,2],np.ones([10])*i]).T,columns=['f1','f2','f3','label']))\n",
    "    Fd = pd.concat([Fd,temp])\n",
    "px.scatter_3d(Fd,x='f1',y='f2',z='f3',color='label')"
   ]
  },
  {
   "cell_type": "markdown",
   "metadata": {},
   "source": [
    "### Projection"
   ]
  },
  {
   "cell_type": "code",
   "execution_count": 92,
   "metadata": {},
   "outputs": [
    {
     "data": {
      "image/png": "[encoded data removed]",
      "text/plain": [
       "<Figure size 432x288 with 1 Axes>"
      ]
     },
     "metadata": {
      "needs_background": "light"
     },
     "output_type": "display_data"
    }
   ],
   "source": [
    "from scipy.signal import find_peaks\n",
    "\n",
    "PP = []\n",
    "PP_max = []\n",
    "imgs = np.concatenate((zeros_im,ones_im, twos_im, threes_im), axis = 0)\n",
    "\n",
    "for img in imgs:\n",
    "    p1 = np.sum(img,0)\n",
    "    p2 = np.sum(img,1)\n",
    "    peaks1, _ = find_peaks(p1, height=0)\n",
    "    peaks2, _ = find_peaks(p2, height=0)\n",
    "    peaks3, _ = find_peaks(-p1, height=0)\n",
    "    peaks4, _ = find_peaks(-p2, height=0)\n",
    "# max peaks and troughs in projection\n",
    "    PP_max.append([np.max(p1[peaks1]), np.max(p2[peaks2]),np.min(p1[peaks3]),np.min(p2[peaks4])])\n",
    "# mean peaks and troughs in projection\n",
    "    PP.append([np.mean(p1[peaks1]), np.mean(p2[peaks2]),np.mean(p1[peaks3]),np.mean(p2[peaks4])])\n",
    "\n",
    "PP = np.array(PP)\n",
    "PP_max = np.array(PP_max)\n",
    "\n",
    "for i in range(4):\n",
    "    plt.scatter(PP[i*10:(i+1)*10,2],PP[i*10:(i+1)*10,1])\n",
    "\n",
    "pca = decomposition.PCA(2) \n",
    "projected = pca.fit_transform(PP[:,[2,1,0,3]])\n",
    "\n",
    "# for i in range(4):\n",
    "#     plt.scatter(projected[i*10:(i+1)*10,0],projected[i*10:(i+1)*10,1])\n"
   ]
  },
  {
   "cell_type": "code",
   "execution_count": 93,
   "metadata": {},
   "outputs": [
    {
     "data": {
      "application/vnd.plotly.v1+json": {
       "config": {
        "plotlyServerURL": "https://plot.ly"
       },
       "data": [
        {
         "hoverlabel": {
          "namelength": 0
         },
         "hovertemplate": "f1=%{x}<br>f2=%{y}<br>f3=%{z}<br>label=%{marker.color}",
         "legendgroup": "",
         "marker": {
          "color": [
           0,
           0,
           0,
           0,
           0,
           0,
           0,
           0,
           0,
           0,
           1,
           1,
           1,
           1,
           1,
           1,
           1,
           1,
           1,
           1,
           2,
           2,
           2,
           2,
           2,
           2,
           2,
           2,
           2,
           2,
           3,
           3,
           3,
           3,
           3,
           3,
           3,
           3,
           3,
           3
          ],
          "coloraxis": "coloraxis",
          "symbol": "circle"
         },
         "mode": "markers",
         "name": "",
         "scene": "scene",
         "showlegend": false,
         "type": "scatter3d",
         "x": [
          -1148.8688999316278,
          -646.7072183434254,
          -1139.4539973788787,
          -751.828381283922,
          -1137.8766232122498,
          -1061.0243242988556,
          -1336.0557319029895,
          -1874.0306586974907,
          137.71191874302002,
          -1094.5898176009684,
          1538.00486009625,
          1601.8166394707573,
          1680.5275362290345,
          2038.9663980484604,
          1787.2617411505953,
          -53.71201070648944,
          1440.0389242756467,
          1718.2926717603964,
          1233.9487520523658,
          996.2048072309318,
          -1012.4894076934097,
          170.28248183082613,
          -294.217735670896,
          -574.8269962282942,
          374.62291713646056,
          -994.6236423870477,
          -86.8294527037468,
          -1103.3224188874906,
          -901.4834671885741,
          250.56556327337964,
          -770.0936796142936,
          799.4030487674895,
          -1277.221733663751,
          -1050.4377997951487,
          -647.4364933265351,
          1279.1858333752796,
          -56.112297978471084,
          1200.5452425365663,
          717.9844252715023,
          47.879027245598095
         ],
         "y": [
          895.4884065128817,
          748.423902516215,
          644.9846318518936,
          1042.8079561793152,
          643.6906650732356,
          -419.020952136035,
          207.82643627089885,
          558.2588639507499,
          -442.5702429236722,
          360.9086072528923,
          183.45489343832097,
          218.33763417822883,
          1179.0822399599658,
          -106.94572064231279,
          -261.97090729519766,
          -451.01407503142167,
          953.0380471573303,
          -0.11642841589458139,
          828.7582782781293,
          -41.380347808912305,
          233.0989009592833,
          104.62453487469499,
          -821.3648530020183,
          -671.010531429652,
          -454.1256001489918,
          -169.78102965950458,
          -707.9959455973176,
          -112.99652602435951,
          -235.6097101742911,
          -382.4959217128269,
          -0.5597170978333545,
          -502.4278950705683,
          -162.1158347817772,
          -766.6995919929905,
          -239.41485729862728,
          -145.5734244932785,
          -737.6862951993571,
          -600.130482832599,
          299.4418038194151,
          -669.2189115040085
         ],
         "z": [
          -532.1408479998295,
          -248.89064551318472,
          596.4796455632282,
          -496.35290536490163,
          -223.22813013535213,
          -133.26150965762736,
          539.4996489110704,
          119.24069092105104,
          190.79766784125007,
          -548.8207594052163,
          -155.65356543591324,
          -199.65642001980993,
          19.33135861818372,
          -480.353458928577,
          -229.3907730584138,
          1137.9601834284358,
          -16.031056753764094,
          -269.60037213995884,
          177.67911324334938,
          522.3457465168623,
          782.4706067765644,
          302.3765460859203,
          -120.13315969675571,
          -654.1645453605045,
          32.61769894626501,
          324.80689187814795,
          -263.1424370944198,
          -116.19775224050186,
          571.8853057181268,
          -500.98815945450434,
          -36.406955021677874,
          364.04073386815264,
          -407.32070191561877,
          -434.57579970400093,
          -212.0762085967679,
          234.39244455048828,
          -77.94000853018049,
          252.5868993772069,
          389.06060097623384,
          -201.2456111930595
         ]
        }
       ],
       "layout": {
        "coloraxis": {
         "colorbar": {
          "title": {
           "text": "label"
          }
         },
         "colorscale": [
          [
           0,
           "#0d0887"
          ],
          [
           0.1111111111111111,
           "#46039f"
          ],
          [
           0.2222222222222222,
           "#7201a8"
          ],
          [
           0.3333333333333333,
           "#9c179e"
          ],
          [
           0.4444444444444444,
           "#bd3786"
          ],
          [
           0.5555555555555556,
           "#d8576b"
          ],
          [
           0.6666666666666666,
           "#ed7953"
          ],
          [
           0.7777777777777778,
           "#fb9f3a"
          ],
          [
           0.8888888888888888,
           "#fdca26"
          ],
          [
           1,
           "#f0f921"
          ]
         ]
        },
        "legend": {
         "tracegroupgap": 0
        },
        "margin": {
         "t": 60
        },
        "scene": {
         "domain": {
          "x": [
           0,
           1
          ],
          "y": [
           0,
           1
          ]
         },
         "xaxis": {
          "title": {
           "text": "f1"
          }
         },
         "yaxis": {
          "title": {
           "text": "f2"
          }
         },
         "zaxis": {
          "title": {
           "text": "f3"
          }
         }
        },
        "template": {
         "data": {
          "bar": [
           {
            "error_x": {
             "color": "#2a3f5f"
            },
            "error_y": {
             "color": "#2a3f5f"
            },
            "marker": {
             "line": {
              "color": "#E5ECF6",
              "width": 0.5
             }
            },
            "type": "bar"
           }
          ],
          "barpolar": [
           {
            "marker": {
             "line": {
              "color": "#E5ECF6",
              "width": 0.5
             }
            },
            "type": "barpolar"
           }
          ],
          "carpet": [
           {
            "aaxis": {
             "endlinecolor": "#2a3f5f",
             "gridcolor": "white",
             "linecolor": "white",
             "minorgridcolor": "white",
             "startlinecolor": "#2a3f5f"
            },
            "baxis": {
             "endlinecolor": "#2a3f5f",
             "gridcolor": "white",
             "linecolor": "white",
             "minorgridcolor": "white",
             "startlinecolor": "#2a3f5f"
            },
            "type": "carpet"
           }
          ],
          "choropleth": [
           {
            "colorbar": {
             "outlinewidth": 0,
             "ticks": ""
            },
            "type": "choropleth"
           }
          ],
          "contour": [
           {
            "colorbar": {
             "outlinewidth": 0,
             "ticks": ""
            },
            "colorscale": [
             [
              0,
              "#0d0887"
             ],
             [
              0.1111111111111111,
              "#46039f"
             ],
             [
              0.2222222222222222,
              "#7201a8"
             ],
             [
              0.3333333333333333,
              "#9c179e"
             ],
             [
              0.4444444444444444,
              "#bd3786"
             ],
             [
              0.5555555555555556,
              "#d8576b"
             ],
             [
              0.6666666666666666,
              "#ed7953"
             ],
             [
              0.7777777777777778,
              "#fb9f3a"
             ],
             [
              0.8888888888888888,
              "#fdca26"
             ],
             [
              1,
              "#f0f921"
             ]
            ],
            "type": "contour"
           }
          ],
          "contourcarpet": [
           {
            "colorbar": {
             "outlinewidth": 0,
             "ticks": ""
            },
            "type": "contourcarpet"
           }
          ],
          "heatmap": [
           {
            "colorbar": {
             "outlinewidth": 0,
             "ticks": ""
            },
            "colorscale": [
             [
              0,
              "#0d0887"
             ],
             [
              0.1111111111111111,
              "#46039f"
             ],
             [
              0.2222222222222222,
              "#7201a8"
             ],
             [
              0.3333333333333333,
              "#9c179e"
             ],
             [
              0.4444444444444444,
              "#bd3786"
             ],
             [
              0.5555555555555556,
              "#d8576b"
             ],
             [
              0.6666666666666666,
              "#ed7953"
             ],
             [
              0.7777777777777778,
              "#fb9f3a"
             ],
             [
              0.8888888888888888,
              "#fdca26"
             ],
             [
              1,
              "#f0f921"
             ]
            ],
            "type": "heatmap"
           }
          ],
          "heatmapgl": [
           {
            "colorbar": {
             "outlinewidth": 0,
             "ticks": ""
            },
            "colorscale": [
             [
              0,
              "#0d0887"
             ],
             [
              0.1111111111111111,
              "#46039f"
             ],
             [
              0.2222222222222222,
              "#7201a8"
             ],
             [
              0.3333333333333333,
              "#9c179e"
             ],
             [
              0.4444444444444444,
              "#bd3786"
             ],
             [
              0.5555555555555556,
              "#d8576b"
             ],
             [
              0.6666666666666666,
              "#ed7953"
             ],
             [
              0.7777777777777778,
              "#fb9f3a"
             ],
             [
              0.8888888888888888,
              "#fdca26"
             ],
             [
              1,
              "#f0f921"
             ]
            ],
            "type": "heatmapgl"
           }
          ],
          "histogram": [
           {
            "marker": {
             "colorbar": {
              "outlinewidth": 0,
              "ticks": ""
             }
            },
            "type": "histogram"
           }
          ],
          "histogram2d": [
           {
            "colorbar": {
             "outlinewidth": 0,
             "ticks": ""
            },
            "colorscale": [
             [
              0,
              "#0d0887"
             ],
             [
              0.1111111111111111,
              "#46039f"
             ],
             [
              0.2222222222222222,
              "#7201a8"
             ],
             [
              0.3333333333333333,
              "#9c179e"
             ],
             [
              0.4444444444444444,
              "#bd3786"
             ],
             [
              0.5555555555555556,
              "#d8576b"
             ],
             [
              0.6666666666666666,
              "#ed7953"
             ],
             [
              0.7777777777777778,
              "#fb9f3a"
             ],
             [
              0.8888888888888888,
              "#fdca26"
             ],
             [
              1,
              "#f0f921"
             ]
            ],
            "type": "histogram2d"
           }
          ],
          "histogram2dcontour": [
           {
            "colorbar": {
             "outlinewidth": 0,
             "ticks": ""
            },
            "colorscale": [
             [
              0,
              "#0d0887"
             ],
             [
              0.1111111111111111,
              "#46039f"
             ],
             [
              0.2222222222222222,
              "#7201a8"
             ],
             [
              0.3333333333333333,
              "#9c179e"
             ],
             [
              0.4444444444444444,
              "#bd3786"
             ],
             [
              0.5555555555555556,
              "#d8576b"
             ],
             [
              0.6666666666666666,
              "#ed7953"
             ],
             [
              0.7777777777777778,
              "#fb9f3a"
             ],
             [
              0.8888888888888888,
              "#fdca26"
             ],
             [
              1,
              "#f0f921"
             ]
            ],
            "type": "histogram2dcontour"
           }
          ],
          "mesh3d": [
           {
            "colorbar": {
             "outlinewidth": 0,
             "ticks": ""
            },
            "type": "mesh3d"
           }
          ],
          "parcoords": [
           {
            "line": {
             "colorbar": {
              "outlinewidth": 0,
              "ticks": ""
             }
            },
            "type": "parcoords"
           }
          ],
          "pie": [
           {
            "automargin": true,
            "type": "pie"
           }
          ],
          "scatter": [
           {
            "marker": {
             "colorbar": {
              "outlinewidth": 0,
              "ticks": ""
             }
            },
            "type": "scatter"
           }
          ],
          "scatter3d": [
           {
            "line": {
             "colorbar": {
              "outlinewidth": 0,
              "ticks": ""
             }
            },
            "marker": {
             "colorbar": {
              "outlinewidth": 0,
              "ticks": ""
             }
            },
            "type": "scatter3d"
           }
          ],
          "scattercarpet": [
           {
            "marker": {
             "colorbar": {
              "outlinewidth": 0,
              "ticks": ""
             }
            },
            "type": "scattercarpet"
           }
          ],
          "scattergeo": [
           {
            "marker": {
             "colorbar": {
              "outlinewidth": 0,
              "ticks": ""
             }
            },
            "type": "scattergeo"
           }
          ],
          "scattergl": [
           {
            "marker": {
             "colorbar": {
              "outlinewidth": 0,
              "ticks": ""
             }
            },
            "type": "scattergl"
           }
          ],
          "scattermapbox": [
           {
            "marker": {
             "colorbar": {
              "outlinewidth": 0,
              "ticks": ""
             }
            },
            "type": "scattermapbox"
           }
          ],
          "scatterpolar": [
           {
            "marker": {
             "colorbar": {
              "outlinewidth": 0,
              "ticks": ""
             }
            },
            "type": "scatterpolar"
           }
          ],
          "scatterpolargl": [
           {
            "marker": {
             "colorbar": {
              "outlinewidth": 0,
              "ticks": ""
             }
            },
            "type": "scatterpolargl"
           }
          ],
          "scatterternary": [
           {
            "marker": {
             "colorbar": {
              "outlinewidth": 0,
              "ticks": ""
             }
            },
            "type": "scatterternary"
           }
          ],
          "surface": [
           {
            "colorbar": {
             "outlinewidth": 0,
             "ticks": ""
            },
            "colorscale": [
             [
              0,
              "#0d0887"
             ],
             [
              0.1111111111111111,
              "#46039f"
             ],
             [
              0.2222222222222222,
              "#7201a8"
             ],
             [
              0.3333333333333333,
              "#9c179e"
             ],
             [
              0.4444444444444444,
              "#bd3786"
             ],
             [
              0.5555555555555556,
              "#d8576b"
             ],
             [
              0.6666666666666666,
              "#ed7953"
             ],
             [
              0.7777777777777778,
              "#fb9f3a"
             ],
             [
              0.8888888888888888,
              "#fdca26"
             ],
             [
              1,
              "#f0f921"
             ]
            ],
            "type": "surface"
           }
          ],
          "table": [
           {
            "cells": {
             "fill": {
              "color": "#EBF0F8"
             },
             "line": {
              "color": "white"
             }
            },
            "header": {
             "fill": {
              "color": "#C8D4E3"
             },
             "line": {
              "color": "white"
             }
            },
            "type": "table"
           }
          ]
         },
         "layout": {
          "annotationdefaults": {
           "arrowcolor": "#2a3f5f",
           "arrowhead": 0,
           "arrowwidth": 1
          },
          "coloraxis": {
           "colorbar": {
            "outlinewidth": 0,
            "ticks": ""
           }
          },
          "colorscale": {
           "diverging": [
            [
             0,
             "#8e0152"
            ],
            [
             0.1,
             "#c51b7d"
            ],
            [
             0.2,
             "#de77ae"
            ],
            [
             0.3,
             "#f1b6da"
            ],
            [
             0.4,
             "#fde0ef"
            ],
            [
             0.5,
             "#f7f7f7"
            ],
            [
             0.6,
             "#e6f5d0"
            ],
            [
             0.7,
             "#b8e186"
            ],
            [
             0.8,
             "#7fbc41"
            ],
            [
             0.9,
             "#4d9221"
            ],
            [
             1,
             "#276419"
            ]
           ],
           "sequential": [
            [
             0,
             "#0d0887"
            ],
            [
             0.1111111111111111,
             "#46039f"
            ],
            [
             0.2222222222222222,
             "#7201a8"
            ],
            [
             0.3333333333333333,
             "#9c179e"
            ],
            [
             0.4444444444444444,
             "#bd3786"
            ],
            [
             0.5555555555555556,
             "#d8576b"
            ],
            [
             0.6666666666666666,
             "#ed7953"
            ],
            [
             0.7777777777777778,
             "#fb9f3a"
            ],
            [
             0.8888888888888888,
             "#fdca26"
            ],
            [
             1,
             "#f0f921"
            ]
           ],
           "sequentialminus": [
            [
             0,
             "#0d0887"
            ],
            [
             0.1111111111111111,
             "#46039f"
            ],
            [
             0.2222222222222222,
             "#7201a8"
            ],
            [
             0.3333333333333333,
             "#9c179e"
            ],
            [
             0.4444444444444444,
             "#bd3786"
            ],
            [
             0.5555555555555556,
             "#d8576b"
            ],
            [
             0.6666666666666666,
             "#ed7953"
            ],
            [
             0.7777777777777778,
             "#fb9f3a"
            ],
            [
             0.8888888888888888,
             "#fdca26"
            ],
            [
             1,
             "#f0f921"
            ]
           ]
          },
          "colorway": [
           "#636efa",
           "#EF553B",
           "#00cc96",
           "#ab63fa",
           "#FFA15A",
           "#19d3f3",
           "#FF6692",
           "#B6E880",
           "#FF97FF",
           "#FECB52"
          ],
          "font": {
           "color": "#2a3f5f"
          },
          "geo": {
           "bgcolor": "white",
           "lakecolor": "white",
           "landcolor": "#E5ECF6",
           "showlakes": true,
           "showland": true,
           "subunitcolor": "white"
          },
          "hoverlabel": {
           "align": "left"
          },
          "hovermode": "closest",
          "mapbox": {
           "style": "light"
          },
          "paper_bgcolor": "white",
          "plot_bgcolor": "#E5ECF6",
          "polar": {
           "angularaxis": {
            "gridcolor": "white",
            "linecolor": "white",
            "ticks": ""
           },
           "bgcolor": "#E5ECF6",
           "radialaxis": {
            "gridcolor": "white",
            "linecolor": "white",
            "ticks": ""
           }
          },
          "scene": {
           "xaxis": {
            "backgroundcolor": "#E5ECF6",
            "gridcolor": "white",
            "gridwidth": 2,
            "linecolor": "white",
            "showbackground": true,
            "ticks": "",
            "zerolinecolor": "white"
           },
           "yaxis": {
            "backgroundcolor": "#E5ECF6",
            "gridcolor": "white",
            "gridwidth": 2,
            "linecolor": "white",
            "showbackground": true,
            "ticks": "",
            "zerolinecolor": "white"
           },
           "zaxis": {
            "backgroundcolor": "#E5ECF6",
            "gridcolor": "white",
            "gridwidth": 2,
            "linecolor": "white",
            "showbackground": true,
            "ticks": "",
            "zerolinecolor": "white"
           }
          },
          "shapedefaults": {
           "line": {
            "color": "#2a3f5f"
           }
          },
          "ternary": {
           "aaxis": {
            "gridcolor": "white",
            "linecolor": "white",
            "ticks": ""
           },
           "baxis": {
            "gridcolor": "white",
            "linecolor": "white",
            "ticks": ""
           },
           "bgcolor": "#E5ECF6",
           "caxis": {
            "gridcolor": "white",
            "linecolor": "white",
            "ticks": ""
           }
          },
          "title": {
           "x": 0.05
          },
          "xaxis": {
           "automargin": true,
           "gridcolor": "white",
           "linecolor": "white",
           "ticks": "",
           "title": {
            "standoff": 15
           },
           "zerolinecolor": "white",
           "zerolinewidth": 2
          },
          "yaxis": {
           "automargin": true,
           "gridcolor": "white",
           "linecolor": "white",
           "ticks": "",
           "title": {
            "standoff": 15
           },
           "zerolinecolor": "white",
           "zerolinewidth": 2
          }
         }
        }
       }
      },
      "text/html": [
       "<div>\n",
       "        \n",
       "        \n",
       "            <div id=\"2b5238c5-2769-4758-8144-ce8fcf1f523b\" class=\"plotly-graph-div\" style=\"height:525px; width:100%;\"></div>\n",
       "            <script type=\"text/javascript\">\n",
       "                require([\"plotly\"], function(Plotly) {\n",
       "                    window.PLOTLYENV=window.PLOTLYENV || {};\n",
       "                    \n",
       "                if (document.getElementById(\"2b5238c5-2769-4758-8144-ce8fcf1f523b\")) {\n",
       "                    Plotly.newPlot(\n",
       "                        '2b5238c5-2769-4758-8144-ce8fcf1f523b',\n",
       "                        [{\"hoverlabel\": {\"namelength\": 0}, \"hovertemplate\": \"f1=%{x}<br>f2=%{y}<br>f3=%{z}<br>label=%{marker.color}\", \"legendgroup\": \"\", \"marker\": {\"color\": [0.0, 0.0, 0.0, 0.0, 0.0, 0.0, 0.0, 0.0, 0.0, 0.0, 1.0, 1.0, 1.0, 1.0, 1.0, 1.0, 1.0, 1.0, 1.0, 1.0, 2.0, 2.0, 2.0, 2.0, 2.0, 2.0, 2.0, 2.0, 2.0, 2.0, 3.0, 3.0, 3.0, 3.0, 3.0, 3.0, 3.0, 3.0, 3.0, 3.0], \"coloraxis\": \"coloraxis\", \"symbol\": \"circle\"}, \"mode\": \"markers\", \"name\": \"\", \"scene\": \"scene\", \"showlegend\": false, \"type\": \"scatter3d\", \"x\": [-1148.8688999316278, -646.7072183434254, -1139.4539973788787, -751.828381283922, -1137.8766232122498, -1061.0243242988556, -1336.0557319029895, -1874.0306586974907, 137.71191874302002, -1094.5898176009684, 1538.00486009625, 1601.8166394707573, 1680.5275362290345, 2038.9663980484604, 1787.2617411505953, -53.71201070648944, 1440.0389242756467, 1718.2926717603964, 1233.9487520523658, 996.2048072309318, -1012.4894076934097, 170.28248183082613, -294.217735670896, -574.8269962282942, 374.62291713646056, -994.6236423870477, -86.8294527037468, -1103.3224188874906, -901.4834671885741, 250.56556327337964, -770.0936796142936, 799.4030487674895, -1277.221733663751, -1050.4377997951487, -647.4364933265351, 1279.1858333752796, -56.112297978471084, 1200.5452425365663, 717.9844252715023, 47.879027245598095], \"y\": [895.4884065128817, 748.423902516215, 644.9846318518936, 1042.8079561793152, 643.6906650732356, -419.020952136035, 207.82643627089885, 558.2588639507499, -442.5702429236722, 360.9086072528923, 183.45489343832097, 218.33763417822883, 1179.0822399599658, -106.94572064231279, -261.97090729519766, -451.01407503142167, 953.0380471573303, -0.11642841589458139, 828.7582782781293, -41.380347808912305, 233.0989009592833, 104.62453487469499, -821.3648530020183, -671.010531429652, -454.1256001489918, -169.78102965950458, -707.9959455973176, -112.99652602435951, -235.6097101742911, -382.4959217128269, -0.5597170978333545, -502.4278950705683, -162.1158347817772, -766.6995919929905, -239.41485729862728, -145.5734244932785, -737.6862951993571, -600.130482832599, 299.4418038194151, -669.2189115040085], \"z\": [-532.1408479998295, -248.89064551318472, 596.4796455632282, -496.35290536490163, -223.22813013535213, -133.26150965762736, 539.4996489110704, 119.24069092105104, 190.79766784125007, -548.8207594052163, -155.65356543591324, -199.65642001980993, 19.33135861818372, -480.353458928577, -229.3907730584138, 1137.9601834284358, -16.031056753764094, -269.60037213995884, 177.67911324334938, 522.3457465168623, 782.4706067765644, 302.3765460859203, -120.13315969675571, -654.1645453605045, 32.61769894626501, 324.80689187814795, -263.1424370944198, -116.19775224050186, 571.8853057181268, -500.98815945450434, -36.406955021677874, 364.04073386815264, -407.32070191561877, -434.57579970400093, -212.0762085967679, 234.39244455048828, -77.94000853018049, 252.5868993772069, 389.06060097623384, -201.2456111930595]}],\n",
       "                        {\"coloraxis\": {\"colorbar\": {\"title\": {\"text\": \"label\"}}, \"colorscale\": [[0.0, \"#0d0887\"], [0.1111111111111111, \"#46039f\"], [0.2222222222222222, \"#7201a8\"], [0.3333333333333333, \"#9c179e\"], [0.4444444444444444, \"#bd3786\"], [0.5555555555555556, \"#d8576b\"], [0.6666666666666666, \"#ed7953\"], [0.7777777777777778, \"#fb9f3a\"], [0.8888888888888888, \"#fdca26\"], [1.0, \"#f0f921\"]]}, \"legend\": {\"tracegroupgap\": 0}, \"margin\": {\"t\": 60}, \"scene\": {\"domain\": {\"x\": [0.0, 1.0], \"y\": [0.0, 1.0]}, \"xaxis\": {\"title\": {\"text\": \"f1\"}}, \"yaxis\": {\"title\": {\"text\": \"f2\"}}, \"zaxis\": {\"title\": {\"text\": \"f3\"}}}, \"template\": {\"data\": {\"bar\": [{\"error_x\": {\"color\": \"#2a3f5f\"}, \"error_y\": {\"color\": \"#2a3f5f\"}, \"marker\": {\"line\": {\"color\": \"#E5ECF6\", \"width\": 0.5}}, \"type\": \"bar\"}], \"barpolar\": [{\"marker\": {\"line\": {\"color\": \"#E5ECF6\", \"width\": 0.5}}, \"type\": \"barpolar\"}], \"carpet\": [{\"aaxis\": {\"endlinecolor\": \"#2a3f5f\", \"gridcolor\": \"white\", \"linecolor\": \"white\", \"minorgridcolor\": \"white\", \"startlinecolor\": \"#2a3f5f\"}, \"baxis\": {\"endlinecolor\": \"#2a3f5f\", \"gridcolor\": \"white\", \"linecolor\": \"white\", \"minorgridcolor\": \"white\", \"startlinecolor\": \"#2a3f5f\"}, \"type\": \"carpet\"}], \"choropleth\": [{\"colorbar\": {\"outlinewidth\": 0, \"ticks\": \"\"}, \"type\": \"choropleth\"}], \"contour\": [{\"colorbar\": {\"outlinewidth\": 0, \"ticks\": \"\"}, \"colorscale\": [[0.0, \"#0d0887\"], [0.1111111111111111, \"#46039f\"], [0.2222222222222222, \"#7201a8\"], [0.3333333333333333, \"#9c179e\"], [0.4444444444444444, \"#bd3786\"], [0.5555555555555556, \"#d8576b\"], [0.6666666666666666, \"#ed7953\"], [0.7777777777777778, \"#fb9f3a\"], [0.8888888888888888, \"#fdca26\"], [1.0, \"#f0f921\"]], \"type\": \"contour\"}], \"contourcarpet\": [{\"colorbar\": {\"outlinewidth\": 0, \"ticks\": \"\"}, \"type\": \"contourcarpet\"}], \"heatmap\": [{\"colorbar\": {\"outlinewidth\": 0, \"ticks\": \"\"}, \"colorscale\": [[0.0, \"#0d0887\"], [0.1111111111111111, \"#46039f\"], [0.2222222222222222, \"#7201a8\"], [0.3333333333333333, \"#9c179e\"], [0.4444444444444444, \"#bd3786\"], [0.5555555555555556, \"#d8576b\"], [0.6666666666666666, \"#ed7953\"], [0.7777777777777778, \"#fb9f3a\"], [0.8888888888888888, \"#fdca26\"], [1.0, \"#f0f921\"]], \"type\": \"heatmap\"}], \"heatmapgl\": [{\"colorbar\": {\"outlinewidth\": 0, \"ticks\": \"\"}, \"colorscale\": [[0.0, \"#0d0887\"], [0.1111111111111111, \"#46039f\"], [0.2222222222222222, \"#7201a8\"], [0.3333333333333333, \"#9c179e\"], [0.4444444444444444, \"#bd3786\"], [0.5555555555555556, \"#d8576b\"], [0.6666666666666666, \"#ed7953\"], [0.7777777777777778, \"#fb9f3a\"], [0.8888888888888888, \"#fdca26\"], [1.0, \"#f0f921\"]], \"type\": \"heatmapgl\"}], \"histogram\": [{\"marker\": {\"colorbar\": {\"outlinewidth\": 0, \"ticks\": \"\"}}, \"type\": \"histogram\"}], \"histogram2d\": [{\"colorbar\": {\"outlinewidth\": 0, \"ticks\": \"\"}, \"colorscale\": [[0.0, \"#0d0887\"], [0.1111111111111111, \"#46039f\"], [0.2222222222222222, \"#7201a8\"], [0.3333333333333333, \"#9c179e\"], [0.4444444444444444, \"#bd3786\"], [0.5555555555555556, \"#d8576b\"], [0.6666666666666666, \"#ed7953\"], [0.7777777777777778, \"#fb9f3a\"], [0.8888888888888888, \"#fdca26\"], [1.0, \"#f0f921\"]], \"type\": \"histogram2d\"}], \"histogram2dcontour\": [{\"colorbar\": {\"outlinewidth\": 0, \"ticks\": \"\"}, \"colorscale\": [[0.0, \"#0d0887\"], [0.1111111111111111, \"#46039f\"], [0.2222222222222222, \"#7201a8\"], [0.3333333333333333, \"#9c179e\"], [0.4444444444444444, \"#bd3786\"], [0.5555555555555556, \"#d8576b\"], [0.6666666666666666, \"#ed7953\"], [0.7777777777777778, \"#fb9f3a\"], [0.8888888888888888, \"#fdca26\"], [1.0, \"#f0f921\"]], \"type\": \"histogram2dcontour\"}], \"mesh3d\": [{\"colorbar\": {\"outlinewidth\": 0, \"ticks\": \"\"}, \"type\": \"mesh3d\"}], \"parcoords\": [{\"line\": {\"colorbar\": {\"outlinewidth\": 0, \"ticks\": \"\"}}, \"type\": \"parcoords\"}], \"pie\": [{\"automargin\": true, \"type\": \"pie\"}], \"scatter\": [{\"marker\": {\"colorbar\": {\"outlinewidth\": 0, \"ticks\": \"\"}}, \"type\": \"scatter\"}], \"scatter3d\": [{\"line\": {\"colorbar\": {\"outlinewidth\": 0, \"ticks\": \"\"}}, \"marker\": {\"colorbar\": {\"outlinewidth\": 0, \"ticks\": \"\"}}, \"type\": \"scatter3d\"}], \"scattercarpet\": [{\"marker\": {\"colorbar\": {\"outlinewidth\": 0, \"ticks\": \"\"}}, \"type\": \"scattercarpet\"}], \"scattergeo\": [{\"marker\": {\"colorbar\": {\"outlinewidth\": 0, \"ticks\": \"\"}}, \"type\": \"scattergeo\"}], \"scattergl\": [{\"marker\": {\"colorbar\": {\"outlinewidth\": 0, \"ticks\": \"\"}}, \"type\": \"scattergl\"}], \"scattermapbox\": [{\"marker\": {\"colorbar\": {\"outlinewidth\": 0, \"ticks\": \"\"}}, \"type\": \"scattermapbox\"}], \"scatterpolar\": [{\"marker\": {\"colorbar\": {\"outlinewidth\": 0, \"ticks\": \"\"}}, \"type\": \"scatterpolar\"}], \"scatterpolargl\": [{\"marker\": {\"colorbar\": {\"outlinewidth\": 0, \"ticks\": \"\"}}, \"type\": \"scatterpolargl\"}], \"scatterternary\": [{\"marker\": {\"colorbar\": {\"outlinewidth\": 0, \"ticks\": \"\"}}, \"type\": \"scatterternary\"}], \"surface\": [{\"colorbar\": {\"outlinewidth\": 0, \"ticks\": \"\"}, \"colorscale\": [[0.0, \"#0d0887\"], [0.1111111111111111, \"#46039f\"], [0.2222222222222222, \"#7201a8\"], [0.3333333333333333, \"#9c179e\"], [0.4444444444444444, \"#bd3786\"], [0.5555555555555556, \"#d8576b\"], [0.6666666666666666, \"#ed7953\"], [0.7777777777777778, \"#fb9f3a\"], [0.8888888888888888, \"#fdca26\"], [1.0, \"#f0f921\"]], \"type\": \"surface\"}], \"table\": [{\"cells\": {\"fill\": {\"color\": \"#EBF0F8\"}, \"line\": {\"color\": \"white\"}}, \"header\": {\"fill\": {\"color\": \"#C8D4E3\"}, \"line\": {\"color\": \"white\"}}, \"type\": \"table\"}]}, \"layout\": {\"annotationdefaults\": {\"arrowcolor\": \"#2a3f5f\", \"arrowhead\": 0, \"arrowwidth\": 1}, \"coloraxis\": {\"colorbar\": {\"outlinewidth\": 0, \"ticks\": \"\"}}, \"colorscale\": {\"diverging\": [[0, \"#8e0152\"], [0.1, \"#c51b7d\"], [0.2, \"#de77ae\"], [0.3, \"#f1b6da\"], [0.4, \"#fde0ef\"], [0.5, \"#f7f7f7\"], [0.6, \"#e6f5d0\"], [0.7, \"#b8e186\"], [0.8, \"#7fbc41\"], [0.9, \"#4d9221\"], [1, \"#276419\"]], \"sequential\": [[0.0, \"#0d0887\"], [0.1111111111111111, \"#46039f\"], [0.2222222222222222, \"#7201a8\"], [0.3333333333333333, \"#9c179e\"], [0.4444444444444444, \"#bd3786\"], [0.5555555555555556, \"#d8576b\"], [0.6666666666666666, \"#ed7953\"], [0.7777777777777778, \"#fb9f3a\"], [0.8888888888888888, \"#fdca26\"], [1.0, \"#f0f921\"]], \"sequentialminus\": [[0.0, \"#0d0887\"], [0.1111111111111111, \"#46039f\"], [0.2222222222222222, \"#7201a8\"], [0.3333333333333333, \"#9c179e\"], [0.4444444444444444, \"#bd3786\"], [0.5555555555555556, \"#d8576b\"], [0.6666666666666666, \"#ed7953\"], [0.7777777777777778, \"#fb9f3a\"], [0.8888888888888888, \"#fdca26\"], [1.0, \"#f0f921\"]]}, \"colorway\": [\"#636efa\", \"#EF553B\", \"#00cc96\", \"#ab63fa\", \"#FFA15A\", \"#19d3f3\", \"#FF6692\", \"#B6E880\", \"#FF97FF\", \"#FECB52\"], \"font\": {\"color\": \"#2a3f5f\"}, \"geo\": {\"bgcolor\": \"white\", \"lakecolor\": \"white\", \"landcolor\": \"#E5ECF6\", \"showlakes\": true, \"showland\": true, \"subunitcolor\": \"white\"}, \"hoverlabel\": {\"align\": \"left\"}, \"hovermode\": \"closest\", \"mapbox\": {\"style\": \"light\"}, \"paper_bgcolor\": \"white\", \"plot_bgcolor\": \"#E5ECF6\", \"polar\": {\"angularaxis\": {\"gridcolor\": \"white\", \"linecolor\": \"white\", \"ticks\": \"\"}, \"bgcolor\": \"#E5ECF6\", \"radialaxis\": {\"gridcolor\": \"white\", \"linecolor\": \"white\", \"ticks\": \"\"}}, \"scene\": {\"xaxis\": {\"backgroundcolor\": \"#E5ECF6\", \"gridcolor\": \"white\", \"gridwidth\": 2, \"linecolor\": \"white\", \"showbackground\": true, \"ticks\": \"\", \"zerolinecolor\": \"white\"}, \"yaxis\": {\"backgroundcolor\": \"#E5ECF6\", \"gridcolor\": \"white\", \"gridwidth\": 2, \"linecolor\": \"white\", \"showbackground\": true, \"ticks\": \"\", \"zerolinecolor\": \"white\"}, \"zaxis\": {\"backgroundcolor\": \"#E5ECF6\", \"gridcolor\": \"white\", \"gridwidth\": 2, \"linecolor\": \"white\", \"showbackground\": true, \"ticks\": \"\", \"zerolinecolor\": \"white\"}}, \"shapedefaults\": {\"line\": {\"color\": \"#2a3f5f\"}}, \"ternary\": {\"aaxis\": {\"gridcolor\": \"white\", \"linecolor\": \"white\", \"ticks\": \"\"}, \"baxis\": {\"gridcolor\": \"white\", \"linecolor\": \"white\", \"ticks\": \"\"}, \"bgcolor\": \"#E5ECF6\", \"caxis\": {\"gridcolor\": \"white\", \"linecolor\": \"white\", \"ticks\": \"\"}}, \"title\": {\"x\": 0.05}, \"xaxis\": {\"automargin\": true, \"gridcolor\": \"white\", \"linecolor\": \"white\", \"ticks\": \"\", \"title\": {\"standoff\": 15}, \"zerolinecolor\": \"white\", \"zerolinewidth\": 2}, \"yaxis\": {\"automargin\": true, \"gridcolor\": \"white\", \"linecolor\": \"white\", \"ticks\": \"\", \"title\": {\"standoff\": 15}, \"zerolinecolor\": \"white\", \"zerolinewidth\": 2}}}},\n",
       "                        {\"responsive\": true}\n",
       "                    ).then(function(){\n",
       "                            \n",
       "var gd = document.getElementById('2b5238c5-2769-4758-8144-ce8fcf1f523b');\n",
       "var x = new MutationObserver(function (mutations, observer) {{\n",
       "        var display = window.getComputedStyle(gd).display;\n",
       "        if (!display || display === 'none') {{\n",
       "            console.log([gd, 'removed!']);\n",
       "            Plotly.purge(gd);\n",
       "            observer.disconnect();\n",
       "        }}\n",
       "}});\n",
       "\n",
       "// Listen for the removal of the full notebook cells\n",
       "var notebookContainer = gd.closest('#notebook-container');\n",
       "if (notebookContainer) {{\n",
       "    x.observe(notebookContainer, {childList: true});\n",
       "}}\n",
       "\n",
       "// Listen for the clearing of the current output cell\n",
       "var outputEl = gd.closest('.output');\n",
       "if (outputEl) {{\n",
       "    x.observe(outputEl, {childList: true});\n",
       "}}\n",
       "\n",
       "                        })\n",
       "                };\n",
       "                });\n",
       "            </script>\n",
       "        </div>"
      ]
     },
     "metadata": {},
     "output_type": "display_data"
    },
    {
     "data": {
      "image/png": "[encoded data removed]",
      "text/plain": [
       "<Figure size 432x288 with 1 Axes>"
      ]
     },
     "metadata": {
      "needs_background": "light"
     },
     "output_type": "display_data"
    }
   ],
   "source": [
    "# 3 PCA components\n",
    "pca = decomposition.PCA(3) \n",
    "projected = pca.fit_transform(PP[:,1:])\n",
    "\n",
    "fig = plt.figure()\n",
    "ax = Axes3D(fig)\n",
    "\n",
    "for i in range(4):\n",
    "    ax.scatter(projected[i*10:(i+1)*10,0],projected[i*10:(i+1)*10,1],projected[i*10:(i+1)*10,2])\n",
    "\n",
    "Fd = pd.DataFrame([])\n",
    "for i in range(4):    \n",
    "    temp = (pd.DataFrame(np.array([projected[i*10:(i+1)*10,0],projected[i*10:(i+1)*10,1],projected[i*10:(i+1)*10,2],np.ones([10])*i]).T,columns=['f1','f2','f3','label']))\n",
    "    Fd = pd.concat([Fd,temp])\n",
    "px.scatter_3d(Fd,x='f1',y='f2',z='f3',color='label')"
   ]
  },
  {
   "cell_type": "markdown",
   "metadata": {},
   "source": [
    "### Freeman Code"
   ]
  },
  {
   "cell_type": "code",
   "execution_count": 94,
   "metadata": {},
   "outputs": [],
   "source": [
    "# Calculate chain codes for images and plot results\n",
    "\n",
    "chain_zeros = []\n",
    "chain_ones = []\n",
    "chain_twos = []\n",
    "chain_threes = []\n",
    "\n",
    "for img0, img1, img2, img3 in zip(zeros_im, ones_im, twos_im, threes_im):\n",
    "    # Calculate chain codes\n",
    "    chain_zeros.append(chain_code(img0))\n",
    "    chain_ones.append(chain_code(img1))\n",
    "    chain_twos.append(chain_code(img2))\n",
    "    chain_threes.append(chain_code(img3))\n",
    "# Combine all chain codes\n",
    "chains = []\n",
    "chains.append(chain_zeros)\n",
    "chains.append(chain_ones)\n",
    "chains.append(chain_twos)\n",
    "chains.append(chain_threes)\n",
    "chains = np.array(chains).reshape(40,-1)"
   ]
  },
  {
   "cell_type": "code",
   "execution_count": 95,
   "metadata": {},
   "outputs": [],
   "source": [
    "# Calculate chain code edition distances\n",
    "L = []\n",
    "D = []\n",
    "ED = []\n",
    "for c in chains:\n",
    "    temp = []\n",
    "    L.append(len(c[0]))\n",
    "    for cref in chains:\n",
    "        # mean edition distance between each pair\n",
    "        temp.append(editDistance(cref[0], c[0]))\n",
    "        ED.append(temp[-1])\n",
    "    D.append(np.mean(temp))\n",
    "\n",
    "D = np.array(D)\n",
    "\n",
    "# for i in range(4):\n",
    "#     plt.scatter(D[i*10:(i+1)*10],L[i*10:(i+1)*10])"
   ]
  },
  {
   "cell_type": "code",
   "execution_count": 96,
   "metadata": {},
   "outputs": [
    {
     "name": "stdout",
     "output_type": "stream",
     "text": [
      "(1600,)\n"
     ]
    },
    {
     "data": {
      "text/plain": [
       "<matplotlib.legend.Legend at 0x7f2fee9b7550>"
      ]
     },
     "execution_count": 96,
     "metadata": {},
     "output_type": "execute_result"
    },
    {
     "data": {
      "image/png": "[encoded data removed]",
      "text/plain": [
       "<Figure size 432x288 with 1 Axes>"
      ]
     },
     "metadata": {
      "needs_background": "light"
     },
     "output_type": "display_data"
    }
   ],
   "source": [
    "# Use PCA on edition distance matric: 2 coponents\n",
    "ED = np.array(ED)\n",
    "print(ED.shape)\n",
    "ED_data = ED.reshape(40,-1)\n",
    "\n",
    "pca = decomposition.PCA(2) \n",
    "projected = pca.fit_transform(ED_data)\n",
    "\n",
    "for i in range(4):\n",
    "    plt.scatter(projected[i*10:(i+1)*10,0],projected[i*10:(i+1)*10,1])\n",
    "\n",
    "plt.legend([\"0\",\"1\",\"2\",\"3\"])"
   ]
  },
  {
   "cell_type": "code",
   "execution_count": 97,
   "metadata": {},
   "outputs": [
    {
     "data": {
      "image/png": "[encoded data removed]",
      "text/plain": [
       "<Figure size 432x288 with 1 Axes>"
      ]
     },
     "metadata": {
      "needs_background": "light"
     },
     "output_type": "display_data"
    }
   ],
   "source": [
    "# 3 PCA components\n",
    "ED = np.array(ED)\n",
    "ED_data = ED.reshape(40,-1)\n",
    "\n",
    "pca = decomposition.PCA(3) \n",
    "projected = pca.fit_transform(ED_data)\n",
    "\n",
    "fig = plt.figure()\n",
    "ax = Axes3D(fig)\n",
    "\n",
    "for i in range(4):\n",
    "    ax.scatter(projected[i*10:(i+1)*10,0],projected[i*10:(i+1)*10,1],projected[i*10:(i+1)*10,2])\n",
    "\n"
   ]
  },
  {
   "cell_type": "code",
   "execution_count": 98,
   "metadata": {},
   "outputs": [
    {
     "data": {
      "application/vnd.plotly.v1+json": {
       "config": {
        "plotlyServerURL": "https://plot.ly"
       },
       "data": [
        {
         "hoverlabel": {
          "namelength": 0
         },
         "hovertemplate": "f1=%{x}<br>f2=%{y}<br>f3=%{z}<br>label=%{marker.color}",
         "legendgroup": "",
         "marker": {
          "color": [
           0,
           0,
           0,
           0,
           0,
           0,
           0,
           0,
           0,
           0,
           1,
           1,
           1,
           1,
           1,
           1,
           1,
           1,
           1,
           1,
           2,
           2,
           2,
           2,
           2,
           2,
           2,
           2,
           2,
           2,
           3,
           3,
           3,
           3,
           3,
           3,
           3,
           3,
           3,
           3
          ],
          "coloraxis": "coloraxis",
          "symbol": "circle"
         },
         "mode": "markers",
         "name": "",
         "scene": "scene",
         "showlegend": false,
         "type": "scatter3d",
         "x": [
          -62.43044174684621,
          -60.082175000266,
          -59.88560934936991,
          -65.0883059876415,
          -63.36897252665669,
          -41.760706214304044,
          -51.39820649429988,
          -47.843185888393414,
          -43.9148479304994,
          -51.071596163946644,
          -65.32826813418012,
          -73.88149012860163,
          -71.22367433907579,
          -76.92007975346985,
          -62.05186153337871,
          32.965109971584255,
          -76.71828330218858,
          -65.2746901786555,
          -20.511215573000865,
          -28.971817224438837,
          45.421349879794924,
          42.469301431899446,
          110.55221849448853,
          72.54398119295904,
          52.87917968620769,
          38.88495850771698,
          48.690656474446186,
          80.86456968218947,
          49.51639215932022,
          11.91067927000166,
          90.8032620653778,
          -12.963715442158303,
          100.29829568567165,
          98.4297456589136,
          22.884193712419705,
          28.791668668856182,
          42.352341057059064,
          58.42289358723291,
          14.00500699418763,
          58.00333873104504
         ],
         "y": [
          -6.699738541862449,
          -1.1068527133134642,
          3.040945334413688,
          -3.653480071723114,
          -5.156533790314727,
          -1.9512219843246728,
          -10.269432413738745,
          6.619211485043013,
          -5.5785324650092445,
          -7.607818352728123,
          13.375039110081717,
          1.8465727032009327,
          6.338141446521628,
          8.586444247686936,
          19.96911656603151,
          6.569401259325487,
          6.784927254508573,
          13.538185786755395,
          -4.344924620742096,
          11.128817205367806,
          2.332412893600569,
          -1.8742522140354507,
          64.27147076314078,
          22.743777687876943,
          41.79040996494739,
          -13.681895840737951,
          36.26418668699944,
          60.969786346926206,
          -11.314854925141063,
          16.430007252348183,
          -30.40638023736611,
          -24.516290191218367,
          -26.727901205412753,
          -24.30236698977691,
          -20.41624546634828,
          -18.292173334079084,
          -19.080710582237213,
          -34.122796419585875,
          -37.646533851767266,
          -33.84791778331331
         ],
         "z": [
          -18.295224181925718,
          -20.348466539298588,
          -15.82156413208355,
          -15.419039788452285,
          -14.738627384617915,
          -29.089653226480955,
          -18.56526040485913,
          -25.981634324300376,
          -15.301059816785383,
          -19.708390530294764,
          19.21673920533324,
          22.72366219393217,
          41.6370993046078,
          40.776545974462984,
          28.135419017630724,
          0.2768154428665402,
          34.66735828682709,
          20.27988300255028,
          18.452881253703197,
          -14.004676180815963,
          -13.442145486776443,
          -13.180848865938826,
          10.909125669702595,
          -10.644316060779698,
          -16.35283262011491,
          -8.764395248385862,
          -2.4170279523169214,
          -1.0161310598910047,
          -13.843900102476509,
          -11.24223230555872,
          18.831418911247706,
          -17.29849120160224,
          21.008854869225775,
          18.099344889856795,
          -7.751909071451671,
          9.121675397135634,
          -13.657258151658176,
          18.674099904379087,
          -2.570155943636645,
          16.64431725704076
         ]
        }
       ],
       "layout": {
        "coloraxis": {
         "colorbar": {
          "title": {
           "text": "label"
          }
         },
         "colorscale": [
          [
           0,
           "#0d0887"
          ],
          [
           0.1111111111111111,
           "#46039f"
          ],
          [
           0.2222222222222222,
           "#7201a8"
          ],
          [
           0.3333333333333333,
           "#9c179e"
          ],
          [
           0.4444444444444444,
           "#bd3786"
          ],
          [
           0.5555555555555556,
           "#d8576b"
          ],
          [
           0.6666666666666666,
           "#ed7953"
          ],
          [
           0.7777777777777778,
           "#fb9f3a"
          ],
          [
           0.8888888888888888,
           "#fdca26"
          ],
          [
           1,
           "#f0f921"
          ]
         ]
        },
        "legend": {
         "tracegroupgap": 0
        },
        "margin": {
         "t": 60
        },
        "scene": {
         "domain": {
          "x": [
           0,
           1
          ],
          "y": [
           0,
           1
          ]
         },
         "xaxis": {
          "title": {
           "text": "f1"
          }
         },
         "yaxis": {
          "title": {
           "text": "f2"
          }
         },
         "zaxis": {
          "title": {
           "text": "f3"
          }
         }
        },
        "template": {
         "data": {
          "bar": [
           {
            "error_x": {
             "color": "#2a3f5f"
            },
            "error_y": {
             "color": "#2a3f5f"
            },
            "marker": {
             "line": {
              "color": "#E5ECF6",
              "width": 0.5
             }
            },
            "type": "bar"
           }
          ],
          "barpolar": [
           {
            "marker": {
             "line": {
              "color": "#E5ECF6",
              "width": 0.5
             }
            },
            "type": "barpolar"
           }
          ],
          "carpet": [
           {
            "aaxis": {
             "endlinecolor": "#2a3f5f",
             "gridcolor": "white",
             "linecolor": "white",
             "minorgridcolor": "white",
             "startlinecolor": "#2a3f5f"
            },
            "baxis": {
             "endlinecolor": "#2a3f5f",
             "gridcolor": "white",
             "linecolor": "white",
             "minorgridcolor": "white",
             "startlinecolor": "#2a3f5f"
            },
            "type": "carpet"
           }
          ],
          "choropleth": [
           {
            "colorbar": {
             "outlinewidth": 0,
             "ticks": ""
            },
            "type": "choropleth"
           }
          ],
          "contour": [
           {
            "colorbar": {
             "outlinewidth": 0,
             "ticks": ""
            },
            "colorscale": [
             [
              0,
              "#0d0887"
             ],
             [
              0.1111111111111111,
              "#46039f"
             ],
             [
              0.2222222222222222,
              "#7201a8"
             ],
             [
              0.3333333333333333,
              "#9c179e"
             ],
             [
              0.4444444444444444,
              "#bd3786"
             ],
             [
              0.5555555555555556,
              "#d8576b"
             ],
             [
              0.6666666666666666,
              "#ed7953"
             ],
             [
              0.7777777777777778,
              "#fb9f3a"
             ],
             [
              0.8888888888888888,
              "#fdca26"
             ],
             [
              1,
              "#f0f921"
             ]
            ],
            "type": "contour"
           }
          ],
          "contourcarpet": [
           {
            "colorbar": {
             "outlinewidth": 0,
             "ticks": ""
            },
            "type": "contourcarpet"
           }
          ],
          "heatmap": [
           {
            "colorbar": {
             "outlinewidth": 0,
             "ticks": ""
            },
            "colorscale": [
             [
              0,
              "#0d0887"
             ],
             [
              0.1111111111111111,
              "#46039f"
             ],
             [
              0.2222222222222222,
              "#7201a8"
             ],
             [
              0.3333333333333333,
              "#9c179e"
             ],
             [
              0.4444444444444444,
              "#bd3786"
             ],
             [
              0.5555555555555556,
              "#d8576b"
             ],
             [
              0.6666666666666666,
              "#ed7953"
             ],
             [
              0.7777777777777778,
              "#fb9f3a"
             ],
             [
              0.8888888888888888,
              "#fdca26"
             ],
             [
              1,
              "#f0f921"
             ]
            ],
            "type": "heatmap"
           }
          ],
          "heatmapgl": [
           {
            "colorbar": {
             "outlinewidth": 0,
             "ticks": ""
            },
            "colorscale": [
             [
              0,
              "#0d0887"
             ],
             [
              0.1111111111111111,
              "#46039f"
             ],
             [
              0.2222222222222222,
              "#7201a8"
             ],
             [
              0.3333333333333333,
              "#9c179e"
             ],
             [
              0.4444444444444444,
              "#bd3786"
             ],
             [
              0.5555555555555556,
              "#d8576b"
             ],
             [
              0.6666666666666666,
              "#ed7953"
             ],
             [
              0.7777777777777778,
              "#fb9f3a"
             ],
             [
              0.8888888888888888,
              "#fdca26"
             ],
             [
              1,
              "#f0f921"
             ]
            ],
            "type": "heatmapgl"
           }
          ],
          "histogram": [
           {
            "marker": {
             "colorbar": {
              "outlinewidth": 0,
              "ticks": ""
             }
            },
            "type": "histogram"
           }
          ],
          "histogram2d": [
           {
            "colorbar": {
             "outlinewidth": 0,
             "ticks": ""
            },
            "colorscale": [
             [
              0,
              "#0d0887"
             ],
             [
              0.1111111111111111,
              "#46039f"
             ],
             [
              0.2222222222222222,
              "#7201a8"
             ],
             [
              0.3333333333333333,
              "#9c179e"
             ],
             [
              0.4444444444444444,
              "#bd3786"
             ],
             [
              0.5555555555555556,
              "#d8576b"
             ],
             [
              0.6666666666666666,
              "#ed7953"
             ],
             [
              0.7777777777777778,
              "#fb9f3a"
             ],
             [
              0.8888888888888888,
              "#fdca26"
             ],
             [
              1,
              "#f0f921"
             ]
            ],
            "type": "histogram2d"
           }
          ],
          "histogram2dcontour": [
           {
            "colorbar": {
             "outlinewidth": 0,
             "ticks": ""
            },
            "colorscale": [
             [
              0,
              "#0d0887"
             ],
             [
              0.1111111111111111,
              "#46039f"
             ],
             [
              0.2222222222222222,
              "#7201a8"
             ],
             [
              0.3333333333333333,
              "#9c179e"
             ],
             [
              0.4444444444444444,
              "#bd3786"
             ],
             [
              0.5555555555555556,
              "#d8576b"
             ],
             [
              0.6666666666666666,
              "#ed7953"
             ],
             [
              0.7777777777777778,
              "#fb9f3a"
             ],
             [
              0.8888888888888888,
              "#fdca26"
             ],
             [
              1,
              "#f0f921"
             ]
            ],
            "type": "histogram2dcontour"
           }
          ],
          "mesh3d": [
           {
            "colorbar": {
             "outlinewidth": 0,
             "ticks": ""
            },
            "type": "mesh3d"
           }
          ],
          "parcoords": [
           {
            "line": {
             "colorbar": {
              "outlinewidth": 0,
              "ticks": ""
             }
            },
            "type": "parcoords"
           }
          ],
          "pie": [
           {
            "automargin": true,
            "type": "pie"
           }
          ],
          "scatter": [
           {
            "marker": {
             "colorbar": {
              "outlinewidth": 0,
              "ticks": ""
             }
            },
            "type": "scatter"
           }
          ],
          "scatter3d": [
           {
            "line": {
             "colorbar": {
              "outlinewidth": 0,
              "ticks": ""
             }
            },
            "marker": {
             "colorbar": {
              "outlinewidth": 0,
              "ticks": ""
             }
            },
            "type": "scatter3d"
           }
          ],
          "scattercarpet": [
           {
            "marker": {
             "colorbar": {
              "outlinewidth": 0,
              "ticks": ""
             }
            },
            "type": "scattercarpet"
           }
          ],
          "scattergeo": [
           {
            "marker": {
             "colorbar": {
              "outlinewidth": 0,
              "ticks": ""
             }
            },
            "type": "scattergeo"
           }
          ],
          "scattergl": [
           {
            "marker": {
             "colorbar": {
              "outlinewidth": 0,
              "ticks": ""
             }
            },
            "type": "scattergl"
           }
          ],
          "scattermapbox": [
           {
            "marker": {
             "colorbar": {
              "outlinewidth": 0,
              "ticks": ""
             }
            },
            "type": "scattermapbox"
           }
          ],
          "scatterpolar": [
           {
            "marker": {
             "colorbar": {
              "outlinewidth": 0,
              "ticks": ""
             }
            },
            "type": "scatterpolar"
           }
          ],
          "scatterpolargl": [
           {
            "marker": {
             "colorbar": {
              "outlinewidth": 0,
              "ticks": ""
             }
            },
            "type": "scatterpolargl"
           }
          ],
          "scatterternary": [
           {
            "marker": {
             "colorbar": {
              "outlinewidth": 0,
              "ticks": ""
             }
            },
            "type": "scatterternary"
           }
          ],
          "surface": [
           {
            "colorbar": {
             "outlinewidth": 0,
             "ticks": ""
            },
            "colorscale": [
             [
              0,
              "#0d0887"
             ],
             [
              0.1111111111111111,
              "#46039f"
             ],
             [
              0.2222222222222222,
              "#7201a8"
             ],
             [
              0.3333333333333333,
              "#9c179e"
             ],
             [
              0.4444444444444444,
              "#bd3786"
             ],
             [
              0.5555555555555556,
              "#d8576b"
             ],
             [
              0.6666666666666666,
              "#ed7953"
             ],
             [
              0.7777777777777778,
              "#fb9f3a"
             ],
             [
              0.8888888888888888,
              "#fdca26"
             ],
             [
              1,
              "#f0f921"
             ]
            ],
            "type": "surface"
           }
          ],
          "table": [
           {
            "cells": {
             "fill": {
              "color": "#EBF0F8"
             },
             "line": {
              "color": "white"
             }
            },
            "header": {
             "fill": {
              "color": "#C8D4E3"
             },
             "line": {
              "color": "white"
             }
            },
            "type": "table"
           }
          ]
         },
         "layout": {
          "annotationdefaults": {
           "arrowcolor": "#2a3f5f",
           "arrowhead": 0,
           "arrowwidth": 1
          },
          "coloraxis": {
           "colorbar": {
            "outlinewidth": 0,
            "ticks": ""
           }
          },
          "colorscale": {
           "diverging": [
            [
             0,
             "#8e0152"
            ],
            [
             0.1,
             "#c51b7d"
            ],
            [
             0.2,
             "#de77ae"
            ],
            [
             0.3,
             "#f1b6da"
            ],
            [
             0.4,
             "#fde0ef"
            ],
            [
             0.5,
             "#f7f7f7"
            ],
            [
             0.6,
             "#e6f5d0"
            ],
            [
             0.7,
             "#b8e186"
            ],
            [
             0.8,
             "#7fbc41"
            ],
            [
             0.9,
             "#4d9221"
            ],
            [
             1,
             "#276419"
            ]
           ],
           "sequential": [
            [
             0,
             "#0d0887"
            ],
            [
             0.1111111111111111,
             "#46039f"
            ],
            [
             0.2222222222222222,
             "#7201a8"
            ],
            [
             0.3333333333333333,
             "#9c179e"
            ],
            [
             0.4444444444444444,
             "#bd3786"
            ],
            [
             0.5555555555555556,
             "#d8576b"
            ],
            [
             0.6666666666666666,
             "#ed7953"
            ],
            [
             0.7777777777777778,
             "#fb9f3a"
            ],
            [
             0.8888888888888888,
             "#fdca26"
            ],
            [
             1,
             "#f0f921"
            ]
           ],
           "sequentialminus": [
            [
             0,
             "#0d0887"
            ],
            [
             0.1111111111111111,
             "#46039f"
            ],
            [
             0.2222222222222222,
             "#7201a8"
            ],
            [
             0.3333333333333333,
             "#9c179e"
            ],
            [
             0.4444444444444444,
             "#bd3786"
            ],
            [
             0.5555555555555556,
             "#d8576b"
            ],
            [
             0.6666666666666666,
             "#ed7953"
            ],
            [
             0.7777777777777778,
             "#fb9f3a"
            ],
            [
             0.8888888888888888,
             "#fdca26"
            ],
            [
             1,
             "#f0f921"
            ]
           ]
          },
          "colorway": [
           "#636efa",
           "#EF553B",
           "#00cc96",
           "#ab63fa",
           "#FFA15A",
           "#19d3f3",
           "#FF6692",
           "#B6E880",
           "#FF97FF",
           "#FECB52"
          ],
          "font": {
           "color": "#2a3f5f"
          },
          "geo": {
           "bgcolor": "white",
           "lakecolor": "white",
           "landcolor": "#E5ECF6",
           "showlakes": true,
           "showland": true,
           "subunitcolor": "white"
          },
          "hoverlabel": {
           "align": "left"
          },
          "hovermode": "closest",
          "mapbox": {
           "style": "light"
          },
          "paper_bgcolor": "white",
          "plot_bgcolor": "#E5ECF6",
          "polar": {
           "angularaxis": {
            "gridcolor": "white",
            "linecolor": "white",
            "ticks": ""
           },
           "bgcolor": "#E5ECF6",
           "radialaxis": {
            "gridcolor": "white",
            "linecolor": "white",
            "ticks": ""
           }
          },
          "scene": {
           "xaxis": {
            "backgroundcolor": "#E5ECF6",
            "gridcolor": "white",
            "gridwidth": 2,
            "linecolor": "white",
            "showbackground": true,
            "ticks": "",
            "zerolinecolor": "white"
           },
           "yaxis": {
            "backgroundcolor": "#E5ECF6",
            "gridcolor": "white",
            "gridwidth": 2,
            "linecolor": "white",
            "showbackground": true,
            "ticks": "",
            "zerolinecolor": "white"
           },
           "zaxis": {
            "backgroundcolor": "#E5ECF6",
            "gridcolor": "white",
            "gridwidth": 2,
            "linecolor": "white",
            "showbackground": true,
            "ticks": "",
            "zerolinecolor": "white"
           }
          },
          "shapedefaults": {
           "line": {
            "color": "#2a3f5f"
           }
          },
          "ternary": {
           "aaxis": {
            "gridcolor": "white",
            "linecolor": "white",
            "ticks": ""
           },
           "baxis": {
            "gridcolor": "white",
            "linecolor": "white",
            "ticks": ""
           },
           "bgcolor": "#E5ECF6",
           "caxis": {
            "gridcolor": "white",
            "linecolor": "white",
            "ticks": ""
           }
          },
          "title": {
           "x": 0.05
          },
          "xaxis": {
           "automargin": true,
           "gridcolor": "white",
           "linecolor": "white",
           "ticks": "",
           "title": {
            "standoff": 15
           },
           "zerolinecolor": "white",
           "zerolinewidth": 2
          },
          "yaxis": {
           "automargin": true,
           "gridcolor": "white",
           "linecolor": "white",
           "ticks": "",
           "title": {
            "standoff": 15
           },
           "zerolinecolor": "white",
           "zerolinewidth": 2
          }
         }
        }
       }
      },
      "text/html": [
       "<div>\n",
       "        \n",
       "        \n",
       "            <div id=\"66274e07-4767-4601-b4be-68660ec49a00\" class=\"plotly-graph-div\" style=\"height:525px; width:100%;\"></div>\n",
       "            <script type=\"text/javascript\">\n",
       "                require([\"plotly\"], function(Plotly) {\n",
       "                    window.PLOTLYENV=window.PLOTLYENV || {};\n",
       "                    \n",
       "                if (document.getElementById(\"66274e07-4767-4601-b4be-68660ec49a00\")) {\n",
       "                    Plotly.newPlot(\n",
       "                        '66274e07-4767-4601-b4be-68660ec49a00',\n",
       "                        [{\"hoverlabel\": {\"namelength\": 0}, \"hovertemplate\": \"f1=%{x}<br>f2=%{y}<br>f3=%{z}<br>label=%{marker.color}\", \"legendgroup\": \"\", \"marker\": {\"color\": [0.0, 0.0, 0.0, 0.0, 0.0, 0.0, 0.0, 0.0, 0.0, 0.0, 1.0, 1.0, 1.0, 1.0, 1.0, 1.0, 1.0, 1.0, 1.0, 1.0, 2.0, 2.0, 2.0, 2.0, 2.0, 2.0, 2.0, 2.0, 2.0, 2.0, 3.0, 3.0, 3.0, 3.0, 3.0, 3.0, 3.0, 3.0, 3.0, 3.0], \"coloraxis\": \"coloraxis\", \"symbol\": \"circle\"}, \"mode\": \"markers\", \"name\": \"\", \"scene\": \"scene\", \"showlegend\": false, \"type\": \"scatter3d\", \"x\": [-62.43044174684621, -60.082175000266, -59.88560934936991, -65.0883059876415, -63.36897252665669, -41.760706214304044, -51.39820649429988, -47.843185888393414, -43.9148479304994, -51.071596163946644, -65.32826813418012, -73.88149012860163, -71.22367433907579, -76.92007975346985, -62.05186153337871, 32.965109971584255, -76.71828330218858, -65.2746901786555, -20.511215573000865, -28.971817224438837, 45.421349879794924, 42.469301431899446, 110.55221849448853, 72.54398119295904, 52.87917968620769, 38.88495850771698, 48.690656474446186, 80.86456968218947, 49.51639215932022, 11.91067927000166, 90.8032620653778, -12.963715442158303, 100.29829568567165, 98.4297456589136, 22.884193712419705, 28.791668668856182, 42.352341057059064, 58.42289358723291, 14.00500699418763, 58.00333873104504], \"y\": [-6.699738541862449, -1.1068527133134642, 3.040945334413688, -3.653480071723114, -5.156533790314727, -1.9512219843246728, -10.269432413738745, 6.619211485043013, -5.5785324650092445, -7.607818352728123, 13.375039110081717, 1.8465727032009327, 6.338141446521628, 8.586444247686936, 19.96911656603151, 6.569401259325487, 6.784927254508573, 13.538185786755395, -4.344924620742096, 11.128817205367806, 2.332412893600569, -1.8742522140354507, 64.27147076314078, 22.743777687876943, 41.79040996494739, -13.681895840737951, 36.26418668699944, 60.969786346926206, -11.314854925141063, 16.430007252348183, -30.40638023736611, -24.516290191218367, -26.727901205412753, -24.30236698977691, -20.41624546634828, -18.292173334079084, -19.080710582237213, -34.122796419585875, -37.646533851767266, -33.84791778331331], \"z\": [-18.295224181925718, -20.348466539298588, -15.82156413208355, -15.419039788452285, -14.738627384617915, -29.089653226480955, -18.56526040485913, -25.981634324300376, -15.301059816785383, -19.708390530294764, 19.21673920533324, 22.72366219393217, 41.6370993046078, 40.776545974462984, 28.135419017630724, 0.2768154428665402, 34.66735828682709, 20.27988300255028, 18.452881253703197, -14.004676180815963, -13.442145486776443, -13.180848865938826, 10.909125669702595, -10.644316060779698, -16.35283262011491, -8.764395248385862, -2.4170279523169214, -1.0161310598910047, -13.843900102476509, -11.24223230555872, 18.831418911247706, -17.29849120160224, 21.008854869225775, 18.099344889856795, -7.751909071451671, 9.121675397135634, -13.657258151658176, 18.674099904379087, -2.570155943636645, 16.64431725704076]}],\n",
       "                        {\"coloraxis\": {\"colorbar\": {\"title\": {\"text\": \"label\"}}, \"colorscale\": [[0.0, \"#0d0887\"], [0.1111111111111111, \"#46039f\"], [0.2222222222222222, \"#7201a8\"], [0.3333333333333333, \"#9c179e\"], [0.4444444444444444, \"#bd3786\"], [0.5555555555555556, \"#d8576b\"], [0.6666666666666666, \"#ed7953\"], [0.7777777777777778, \"#fb9f3a\"], [0.8888888888888888, \"#fdca26\"], [1.0, \"#f0f921\"]]}, \"legend\": {\"tracegroupgap\": 0}, \"margin\": {\"t\": 60}, \"scene\": {\"domain\": {\"x\": [0.0, 1.0], \"y\": [0.0, 1.0]}, \"xaxis\": {\"title\": {\"text\": \"f1\"}}, \"yaxis\": {\"title\": {\"text\": \"f2\"}}, \"zaxis\": {\"title\": {\"text\": \"f3\"}}}, \"template\": {\"data\": {\"bar\": [{\"error_x\": {\"color\": \"#2a3f5f\"}, \"error_y\": {\"color\": \"#2a3f5f\"}, \"marker\": {\"line\": {\"color\": \"#E5ECF6\", \"width\": 0.5}}, \"type\": \"bar\"}], \"barpolar\": [{\"marker\": {\"line\": {\"color\": \"#E5ECF6\", \"width\": 0.5}}, \"type\": \"barpolar\"}], \"carpet\": [{\"aaxis\": {\"endlinecolor\": \"#2a3f5f\", \"gridcolor\": \"white\", \"linecolor\": \"white\", \"minorgridcolor\": \"white\", \"startlinecolor\": \"#2a3f5f\"}, \"baxis\": {\"endlinecolor\": \"#2a3f5f\", \"gridcolor\": \"white\", \"linecolor\": \"white\", \"minorgridcolor\": \"white\", \"startlinecolor\": \"#2a3f5f\"}, \"type\": \"carpet\"}], \"choropleth\": [{\"colorbar\": {\"outlinewidth\": 0, \"ticks\": \"\"}, \"type\": \"choropleth\"}], \"contour\": [{\"colorbar\": {\"outlinewidth\": 0, \"ticks\": \"\"}, \"colorscale\": [[0.0, \"#0d0887\"], [0.1111111111111111, \"#46039f\"], [0.2222222222222222, \"#7201a8\"], [0.3333333333333333, \"#9c179e\"], [0.4444444444444444, \"#bd3786\"], [0.5555555555555556, \"#d8576b\"], [0.6666666666666666, \"#ed7953\"], [0.7777777777777778, \"#fb9f3a\"], [0.8888888888888888, \"#fdca26\"], [1.0, \"#f0f921\"]], \"type\": \"contour\"}], \"contourcarpet\": [{\"colorbar\": {\"outlinewidth\": 0, \"ticks\": \"\"}, \"type\": \"contourcarpet\"}], \"heatmap\": [{\"colorbar\": {\"outlinewidth\": 0, \"ticks\": \"\"}, \"colorscale\": [[0.0, \"#0d0887\"], [0.1111111111111111, \"#46039f\"], [0.2222222222222222, \"#7201a8\"], [0.3333333333333333, \"#9c179e\"], [0.4444444444444444, \"#bd3786\"], [0.5555555555555556, \"#d8576b\"], [0.6666666666666666, \"#ed7953\"], [0.7777777777777778, \"#fb9f3a\"], [0.8888888888888888, \"#fdca26\"], [1.0, \"#f0f921\"]], \"type\": \"heatmap\"}], \"heatmapgl\": [{\"colorbar\": {\"outlinewidth\": 0, \"ticks\": \"\"}, \"colorscale\": [[0.0, \"#0d0887\"], [0.1111111111111111, \"#46039f\"], [0.2222222222222222, \"#7201a8\"], [0.3333333333333333, \"#9c179e\"], [0.4444444444444444, \"#bd3786\"], [0.5555555555555556, \"#d8576b\"], [0.6666666666666666, \"#ed7953\"], [0.7777777777777778, \"#fb9f3a\"], [0.8888888888888888, \"#fdca26\"], [1.0, \"#f0f921\"]], \"type\": \"heatmapgl\"}], \"histogram\": [{\"marker\": {\"colorbar\": {\"outlinewidth\": 0, \"ticks\": \"\"}}, \"type\": \"histogram\"}], \"histogram2d\": [{\"colorbar\": {\"outlinewidth\": 0, \"ticks\": \"\"}, \"colorscale\": [[0.0, \"#0d0887\"], [0.1111111111111111, \"#46039f\"], [0.2222222222222222, \"#7201a8\"], [0.3333333333333333, \"#9c179e\"], [0.4444444444444444, \"#bd3786\"], [0.5555555555555556, \"#d8576b\"], [0.6666666666666666, \"#ed7953\"], [0.7777777777777778, \"#fb9f3a\"], [0.8888888888888888, \"#fdca26\"], [1.0, \"#f0f921\"]], \"type\": \"histogram2d\"}], \"histogram2dcontour\": [{\"colorbar\": {\"outlinewidth\": 0, \"ticks\": \"\"}, \"colorscale\": [[0.0, \"#0d0887\"], [0.1111111111111111, \"#46039f\"], [0.2222222222222222, \"#7201a8\"], [0.3333333333333333, \"#9c179e\"], [0.4444444444444444, \"#bd3786\"], [0.5555555555555556, \"#d8576b\"], [0.6666666666666666, \"#ed7953\"], [0.7777777777777778, \"#fb9f3a\"], [0.8888888888888888, \"#fdca26\"], [1.0, \"#f0f921\"]], \"type\": \"histogram2dcontour\"}], \"mesh3d\": [{\"colorbar\": {\"outlinewidth\": 0, \"ticks\": \"\"}, \"type\": \"mesh3d\"}], \"parcoords\": [{\"line\": {\"colorbar\": {\"outlinewidth\": 0, \"ticks\": \"\"}}, \"type\": \"parcoords\"}], \"pie\": [{\"automargin\": true, \"type\": \"pie\"}], \"scatter\": [{\"marker\": {\"colorbar\": {\"outlinewidth\": 0, \"ticks\": \"\"}}, \"type\": \"scatter\"}], \"scatter3d\": [{\"line\": {\"colorbar\": {\"outlinewidth\": 0, \"ticks\": \"\"}}, \"marker\": {\"colorbar\": {\"outlinewidth\": 0, \"ticks\": \"\"}}, \"type\": \"scatter3d\"}], \"scattercarpet\": [{\"marker\": {\"colorbar\": {\"outlinewidth\": 0, \"ticks\": \"\"}}, \"type\": \"scattercarpet\"}], \"scattergeo\": [{\"marker\": {\"colorbar\": {\"outlinewidth\": 0, \"ticks\": \"\"}}, \"type\": \"scattergeo\"}], \"scattergl\": [{\"marker\": {\"colorbar\": {\"outlinewidth\": 0, \"ticks\": \"\"}}, \"type\": \"scattergl\"}], \"scattermapbox\": [{\"marker\": {\"colorbar\": {\"outlinewidth\": 0, \"ticks\": \"\"}}, \"type\": \"scattermapbox\"}], \"scatterpolar\": [{\"marker\": {\"colorbar\": {\"outlinewidth\": 0, \"ticks\": \"\"}}, \"type\": \"scatterpolar\"}], \"scatterpolargl\": [{\"marker\": {\"colorbar\": {\"outlinewidth\": 0, \"ticks\": \"\"}}, \"type\": \"scatterpolargl\"}], \"scatterternary\": [{\"marker\": {\"colorbar\": {\"outlinewidth\": 0, \"ticks\": \"\"}}, \"type\": \"scatterternary\"}], \"surface\": [{\"colorbar\": {\"outlinewidth\": 0, \"ticks\": \"\"}, \"colorscale\": [[0.0, \"#0d0887\"], [0.1111111111111111, \"#46039f\"], [0.2222222222222222, \"#7201a8\"], [0.3333333333333333, \"#9c179e\"], [0.4444444444444444, \"#bd3786\"], [0.5555555555555556, \"#d8576b\"], [0.6666666666666666, \"#ed7953\"], [0.7777777777777778, \"#fb9f3a\"], [0.8888888888888888, \"#fdca26\"], [1.0, \"#f0f921\"]], \"type\": \"surface\"}], \"table\": [{\"cells\": {\"fill\": {\"color\": \"#EBF0F8\"}, \"line\": {\"color\": \"white\"}}, \"header\": {\"fill\": {\"color\": \"#C8D4E3\"}, \"line\": {\"color\": \"white\"}}, \"type\": \"table\"}]}, \"layout\": {\"annotationdefaults\": {\"arrowcolor\": \"#2a3f5f\", \"arrowhead\": 0, \"arrowwidth\": 1}, \"coloraxis\": {\"colorbar\": {\"outlinewidth\": 0, \"ticks\": \"\"}}, \"colorscale\": {\"diverging\": [[0, \"#8e0152\"], [0.1, \"#c51b7d\"], [0.2, \"#de77ae\"], [0.3, \"#f1b6da\"], [0.4, \"#fde0ef\"], [0.5, \"#f7f7f7\"], [0.6, \"#e6f5d0\"], [0.7, \"#b8e186\"], [0.8, \"#7fbc41\"], [0.9, \"#4d9221\"], [1, \"#276419\"]], \"sequential\": [[0.0, \"#0d0887\"], [0.1111111111111111, \"#46039f\"], [0.2222222222222222, \"#7201a8\"], [0.3333333333333333, \"#9c179e\"], [0.4444444444444444, \"#bd3786\"], [0.5555555555555556, \"#d8576b\"], [0.6666666666666666, \"#ed7953\"], [0.7777777777777778, \"#fb9f3a\"], [0.8888888888888888, \"#fdca26\"], [1.0, \"#f0f921\"]], \"sequentialminus\": [[0.0, \"#0d0887\"], [0.1111111111111111, \"#46039f\"], [0.2222222222222222, \"#7201a8\"], [0.3333333333333333, \"#9c179e\"], [0.4444444444444444, \"#bd3786\"], [0.5555555555555556, \"#d8576b\"], [0.6666666666666666, \"#ed7953\"], [0.7777777777777778, \"#fb9f3a\"], [0.8888888888888888, \"#fdca26\"], [1.0, \"#f0f921\"]]}, \"colorway\": [\"#636efa\", \"#EF553B\", \"#00cc96\", \"#ab63fa\", \"#FFA15A\", \"#19d3f3\", \"#FF6692\", \"#B6E880\", \"#FF97FF\", \"#FECB52\"], \"font\": {\"color\": \"#2a3f5f\"}, \"geo\": {\"bgcolor\": \"white\", \"lakecolor\": \"white\", \"landcolor\": \"#E5ECF6\", \"showlakes\": true, \"showland\": true, \"subunitcolor\": \"white\"}, \"hoverlabel\": {\"align\": \"left\"}, \"hovermode\": \"closest\", \"mapbox\": {\"style\": \"light\"}, \"paper_bgcolor\": \"white\", \"plot_bgcolor\": \"#E5ECF6\", \"polar\": {\"angularaxis\": {\"gridcolor\": \"white\", \"linecolor\": \"white\", \"ticks\": \"\"}, \"bgcolor\": \"#E5ECF6\", \"radialaxis\": {\"gridcolor\": \"white\", \"linecolor\": \"white\", \"ticks\": \"\"}}, \"scene\": {\"xaxis\": {\"backgroundcolor\": \"#E5ECF6\", \"gridcolor\": \"white\", \"gridwidth\": 2, \"linecolor\": \"white\", \"showbackground\": true, \"ticks\": \"\", \"zerolinecolor\": \"white\"}, \"yaxis\": {\"backgroundcolor\": \"#E5ECF6\", \"gridcolor\": \"white\", \"gridwidth\": 2, \"linecolor\": \"white\", \"showbackground\": true, \"ticks\": \"\", \"zerolinecolor\": \"white\"}, \"zaxis\": {\"backgroundcolor\": \"#E5ECF6\", \"gridcolor\": \"white\", \"gridwidth\": 2, \"linecolor\": \"white\", \"showbackground\": true, \"ticks\": \"\", \"zerolinecolor\": \"white\"}}, \"shapedefaults\": {\"line\": {\"color\": \"#2a3f5f\"}}, \"ternary\": {\"aaxis\": {\"gridcolor\": \"white\", \"linecolor\": \"white\", \"ticks\": \"\"}, \"baxis\": {\"gridcolor\": \"white\", \"linecolor\": \"white\", \"ticks\": \"\"}, \"bgcolor\": \"#E5ECF6\", \"caxis\": {\"gridcolor\": \"white\", \"linecolor\": \"white\", \"ticks\": \"\"}}, \"title\": {\"x\": 0.05}, \"xaxis\": {\"automargin\": true, \"gridcolor\": \"white\", \"linecolor\": \"white\", \"ticks\": \"\", \"title\": {\"standoff\": 15}, \"zerolinecolor\": \"white\", \"zerolinewidth\": 2}, \"yaxis\": {\"automargin\": true, \"gridcolor\": \"white\", \"linecolor\": \"white\", \"ticks\": \"\", \"title\": {\"standoff\": 15}, \"zerolinecolor\": \"white\", \"zerolinewidth\": 2}}}},\n",
       "                        {\"responsive\": true}\n",
       "                    ).then(function(){\n",
       "                            \n",
       "var gd = document.getElementById('66274e07-4767-4601-b4be-68660ec49a00');\n",
       "var x = new MutationObserver(function (mutations, observer) {{\n",
       "        var display = window.getComputedStyle(gd).display;\n",
       "        if (!display || display === 'none') {{\n",
       "            console.log([gd, 'removed!']);\n",
       "            Plotly.purge(gd);\n",
       "            observer.disconnect();\n",
       "        }}\n",
       "}});\n",
       "\n",
       "// Listen for the removal of the full notebook cells\n",
       "var notebookContainer = gd.closest('#notebook-container');\n",
       "if (notebookContainer) {{\n",
       "    x.observe(notebookContainer, {childList: true});\n",
       "}}\n",
       "\n",
       "// Listen for the clearing of the current output cell\n",
       "var outputEl = gd.closest('.output');\n",
       "if (outputEl) {{\n",
       "    x.observe(outputEl, {childList: true});\n",
       "}}\n",
       "\n",
       "                        })\n",
       "                };\n",
       "                });\n",
       "            </script>\n",
       "        </div>"
      ]
     },
     "metadata": {},
     "output_type": "display_data"
    }
   ],
   "source": [
    "Fd = pd.DataFrame([])\n",
    "for i in range(4):    \n",
    "    temp = (pd.DataFrame(np.array([projected[i*10:(i+1)*10,0],projected[i*10:(i+1)*10,1],projected[i*10:(i+1)*10,2],np.ones([10])*i]).T,columns=['f1','f2','f3','label']))\n",
    "    Fd = pd.concat([Fd,temp])\n",
    "px.scatter_3d(Fd,x='f1',y='f2',z='f3',color='label')"
   ]
  },
  {
   "cell_type": "code",
   "execution_count": 99,
   "metadata": {},
   "outputs": [
    {
     "name": "stderr",
     "output_type": "stream",
     "text": [
      "/home/wei/anaconda3/lib/python3.7/site-packages/skimage/measure/_regionprops.py:250: UserWarning:\n",
      "\n",
      "regionprops and image moments (including moments, normalized moments, central moments, and inertia tensor) of 2D images will change from xy coordinates to rc coordinates in version 0.16.\n",
      "See https://scikit-image.org/docs/0.14.x/release_notes_and_installation.html#deprecations for details on how to avoid this message.\n",
      "\n",
      "/home/wei/anaconda3/lib/python3.7/site-packages/skimage/measure/_regionprops.py:260: UserWarning:\n",
      "\n",
      "regionprops and image moments (including moments, normalized moments, central moments, and inertia tensor) of 2D images will change from xy coordinates to rc coordinates in version 0.16.\n",
      "See https://scikit-image.org/docs/0.14.x/release_notes_and_installation.html#deprecations for details on how to avoid this message.\n",
      "\n"
     ]
    }
   ],
   "source": [
    "# Min/max axis\n",
    "def cal_major_minor_axis(img):\n",
    "#     label_img = label(img)\n",
    "    [props] = regionprops(img)\n",
    "    return [props.major_axis_length/props.minor_axis_length]\n",
    "\n",
    "\n",
    "imgs = np.concatenate((zeros_im,ones_im, twos_im, threes_im), axis = 0)\n",
    "\n",
    "MM = []\n",
    "for img in imgs:\n",
    "    img = ndimage.median_filter(img,size=3)\n",
    "    MM.append(cal_major_minor_axis(img))\n"
   ]
  },
  {
   "cell_type": "code",
   "execution_count": 100,
   "metadata": {},
   "outputs": [
    {
     "data": {
      "image/png": "[encoded data removed]",
      "text/plain": [
       "<Figure size 432x288 with 1 Axes>"
      ]
     },
     "metadata": {
      "needs_background": "light"
     },
     "output_type": "display_data"
    },
    {
     "data": {
      "image/png": "[encoded data removed]",
      "text/plain": [
       "<Figure size 432x288 with 1 Axes>"
      ]
     },
     "metadata": {
      "needs_background": "light"
     },
     "output_type": "display_data"
    },
    {
     "data": {
      "image/png": "[encoded data removed]",
      "text/plain": [
       "<Figure size 432x288 with 1 Axes>"
      ]
     },
     "metadata": {
      "needs_background": "light"
     },
     "output_type": "display_data"
    }
   ],
   "source": [
    "for i in range(4):\n",
    "    # mean chamfer distance between pairs vs max/min axes\n",
    "    plt.scatter(Dist_mean[i*10:(i+1)*10],MM[i*10:(i+1)*10])\n",
    "plt.show()\n",
    "for i in range(4):\n",
    "    # max projection peaks in dimension 1 vs mean chamfer distance\n",
    "    plt.scatter(PP_max[i*10:(i+1)*10,1],Dist_mean[i*10:(i+1)*10])\n",
    "plt.show()\n",
    "\n",
    "for i in range(4):\n",
    "    # mean projection peaks in dimension 1 vs mean chamfer distance\n",
    "    plt.scatter(PP[i*10:(i+1)*10,1],Dist_mean[i*10:(i+1)*10])\n"
   ]
  },
  {
   "cell_type": "code",
   "execution_count": 101,
   "metadata": {},
   "outputs": [],
   "source": [
    "def get_moment(img,i,j):\n",
    "    pts = np.nonzero(img) \n",
    "    N = (np.max(pts)) + 1\n",
    "    pc = np.zeros([N,N])\n",
    "    pc[pts[0],pts[1]] = 1\n",
    "    M00 = 0\n",
    "    M10 = 0\n",
    "    M01 = 0\n",
    "    out = 0\n",
    "    for k in pts[0]:\n",
    "        for l in pts[1]:\n",
    "            M00 = M00 + pc[k,l]\n",
    "            M10 = M10 + (k) * pc[k,l]      \n",
    "            M01 = M01 + (l) * pc[k,l] \n",
    "    kbar = M10/M00\n",
    "    lbar = M01/M00\n",
    "    for k in pts[0]:\n",
    "        for l in pts[1]:\n",
    "            out = out + (k-kbar)**i * (l-lbar)**j * pc[k,l]           \n",
    "    return out, kbar, lbar\n",
    "\n",
    "imgs = np.concatenate((zeros_im,ones_im, twos_im, threes_im), axis = 0)\n",
    "Moments22 = []\n",
    "Moments11 = []\n",
    "Moments20 = []\n",
    "Moments21 = []\n",
    "\n",
    "for img in imgs:\n",
    "    Moments11.append(get_moment(img,1,1))\n",
    "    Moments20.append(get_moment(img,2,0))\n",
    "    Moments21.append(get_moment(img,2,1))\n",
    "    Moments22.append(get_moment(img,2,2))\n",
    "\n",
    "Moments11 = np.array(Moments11)\n",
    "Moments20 = np.array(Moments20)\n",
    "Moments21 = np.array(Moments21)\n",
    "Moments22 = np.array(Moments22)\n"
   ]
  },
  {
   "cell_type": "code",
   "execution_count": 102,
   "metadata": {},
   "outputs": [
    {
     "data": {
      "image/png": "[encoded data removed]",
      "text/plain": [
       "<Figure size 432x288 with 1 Axes>"
      ]
     },
     "metadata": {
      "needs_background": "light"
     },
     "output_type": "display_data"
    },
    {
     "data": {
      "text/plain": [
       "<matplotlib.legend.Legend at 0x7f2fe91636d0>"
      ]
     },
     "execution_count": 102,
     "metadata": {},
     "output_type": "execute_result"
    },
    {
     "data": {
      "image/png": "[encoded data removed]",
      "text/plain": [
       "<Figure size 432x288 with 1 Axes>"
      ]
     },
     "metadata": {
      "needs_background": "light"
     },
     "output_type": "display_data"
    }
   ],
   "source": [
    "pca = decomposition.PCA(3) \n",
    "Moments = np.concatenate((Moments11, Moments20, Moments21, Moments22),0)\n",
    "\n",
    "projected = pca.fit_transform(Moments)\n",
    "# projectedM = pca.fit_transform(ED.reshape(40,-1))\n",
    "\n",
    "for i in range(4):\n",
    "#     plt.scatter(projectedM[i*10:(i+1)*10,1],C[i*10:(i+1)*10,1])\n",
    "    plt.scatter(projected[i*10:(i+1)*10,0],projected[i*10:(i+1)*10,1])\n",
    "plt.show()\n",
    "\n",
    "for i in range(4):\n",
    "#     plt.scatter(projectedM[i*10:(i+1)*10,1],C[i*10:(i+1)*10,1])\n",
    "    plt.scatter(Moments21[i*10:(i+1)*10,0],Moments22[i*10:(i+1)*10,0])\n",
    "\n",
    "plt.legend(['0','1','2', '3'])"
   ]
  },
  {
   "cell_type": "code",
   "execution_count": 103,
   "metadata": {},
   "outputs": [
    {
     "data": {
      "image/png": "[encoded data removed]",
      "text/plain": [
       "<Figure size 432x288 with 1 Axes>"
      ]
     },
     "metadata": {
      "needs_background": "light"
     },
     "output_type": "display_data"
    },
    {
     "data": {
      "image/png": "[encoded data removed]",
      "text/plain": [
       "<Figure size 432x288 with 1 Axes>"
      ]
     },
     "metadata": {
      "needs_background": "light"
     },
     "output_type": "display_data"
    },
    {
     "data": {
      "image/png": "[encoded data removed]",
      "text/plain": [
       "<Figure size 432x288 with 1 Axes>"
      ]
     },
     "metadata": {
      "needs_background": "light"
     },
     "output_type": "display_data"
    }
   ],
   "source": [
    "# compacity and rectangularity\n",
    "imgs = np.concatenate((zeros_im,ones_im, twos_im, threes_im), axis = 0)\n",
    "\n",
    "C = []\n",
    "R = []\n",
    "for img in imgs:\n",
    "    C.append(compacity(img))\n",
    "    R.append(rectangularity(img))\n",
    "C = np.array(C)\n",
    "R = np.array(R)\n",
    "\n",
    "for i in range(4):\n",
    "    plt.scatter(C[i*10:(i+1)*10,0],C[i*10:(i+1)*10,1])\n",
    "plt.show()\n",
    "for i in range(4):\n",
    "    plt.scatter(C[i*10:(i+1)*10,1],R[i*10:(i+1)*10])\n",
    "plt.show()\n",
    "for i in range(4):\n",
    "    plt.scatter(PP_max[i*10:(i+1)*10,1],C[i*10:(i+1)*10,0])"
   ]
  },
  {
   "cell_type": "code",
   "execution_count": 104,
   "metadata": {},
   "outputs": [
    {
     "data": {
      "text/plain": [
       "<matplotlib.legend.Legend at 0x7f2fe99b9310>"
      ]
     },
     "execution_count": 104,
     "metadata": {},
     "output_type": "execute_result"
    },
    {
     "data": {
      "image/png": "[encoded data removed]",
      "text/plain": [
       "<Figure size 432x288 with 1 Axes>"
      ]
     },
     "metadata": {
      "needs_background": "light"
     },
     "output_type": "display_data"
    }
   ],
   "source": [
    "# Best one so far\n",
    "pca = decomposition.PCA(3) \n",
    "projected = pca.fit_transform(ED.reshape(40,-1))\n",
    "for i in range(4):\n",
    "    plt.scatter(projected[i*10:(i+1)*10,1],C[i*10:(i+1)*10,1])\n",
    "plt.legend(['0','1','2', '3'])"
   ]
  },
  {
   "cell_type": "code",
   "execution_count": null,
   "metadata": {},
   "outputs": [],
   "source": []
  }
 ],
 "metadata": {
  "kernelspec": {
   "display_name": "Python 3",
   "language": "python",
   "name": "python3"
  },
  "language_info": {
   "codemirror_mode": {
    "name": "ipython",
    "version": 3
   },
   "file_extension": ".py",
   "mimetype": "text/x-python",
   "name": "python",
   "nbconvert_exporter": "python",
   "pygments_lexer": "ipython3",
   "version": "3.7.4"
  }
 },
 "nbformat": 4,
 "nbformat_minor": 4
}
